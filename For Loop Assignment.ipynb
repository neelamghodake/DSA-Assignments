{
 "cells": [
  {
   "cell_type": "code",
   "execution_count": 2,
   "id": "c167fa33-f5fc-4390-8979-3ff64fc8fcfa",
   "metadata": {},
   "outputs": [
    {
     "name": "stdout",
     "output_type": "stream",
     "text": [
      "1\n",
      "2\n",
      "3\n",
      "4\n",
      "5\n",
      "6\n",
      "7\n",
      "8\n",
      "9\n",
      "10\n"
     ]
    }
   ],
   "source": [
    "# Basic Level:\n",
    "# 1. Write a Python program to print the numbers from 1 to 10 using a `for` loop.\n",
    "# Using a for loop to print 1 to 10\n",
    "for num in range(1, 11):\n",
    "    print(num)"
   ]
  },
  {
   "cell_type": "code",
   "execution_count": 5,
   "id": "f73dda82-8539-4df8-a602-7e768ed2e489",
   "metadata": {},
   "outputs": [
    {
     "name": "stdout",
     "output_type": "stream",
     "text": [
      "The sum of all numbers in the list is: 21\n"
     ]
    }
   ],
   "source": [
    "# 2. Create a program that calculates the sum of all numbers in a list using a `for` loop.\n",
    "# Define the list of numbers\n",
    "numbers = [1, 2, 3, 4, 5, 6]\n",
    "# Initialize the sum to zero\n",
    "sum_of_num = 0\n",
    "# Loop through each number in the list and add it to the sum\n",
    "for num in numbers:\n",
    "    sum_of_num += num\n",
    "# print the sum of numbers\n",
    "print(\"The sum of all numbers in the list is:\", sum_of_num)"
   ]
  },
  {
   "cell_type": "code",
   "execution_count": 6,
   "id": "c6b7a914-83e7-42e6-a3db-5225c9708863",
   "metadata": {},
   "outputs": [
    {
     "name": "stdin",
     "output_type": "stream",
     "text": [
      "Enter a string: Hello World!\n"
     ]
    },
    {
     "name": "stdout",
     "output_type": "stream",
     "text": [
      "!dlroW olleH\n"
     ]
    }
   ],
   "source": [
    "# 3. Write a program to print the characters of a string in reverse order using a `for` loop.\n",
    "# Taking a input from user side\n",
    "my_string = input(\"Enter a string:\")\n",
    "# Loop through the string in reverse order\n",
    "for i in range(len(my_string) -1, -1, -1):\n",
    "    print(my_string[i], end='')\n",
    "print()"
   ]
  },
  {
   "cell_type": "code",
   "execution_count": 25,
   "id": "61cf205f-847c-4994-8a56-a8a596d46de5",
   "metadata": {},
   "outputs": [
    {
     "name": "stdin",
     "output_type": "stream",
     "text": [
      "Enter a number: 5\n"
     ]
    },
    {
     "name": "stdout",
     "output_type": "stream",
     "text": [
      "The factorial of 5 is 120.\n"
     ]
    }
   ],
   "source": [
    "# 4.Develop a program that finds the factorial of a given number using a `for` loop.\n",
    "# Taking a input from the user side\n",
    "num = int(input(\"Enter a number:\"))\n",
    "# Initialize the factorial result\n",
    "fact = 1\n",
    "# Check if the number is negative, positive or zero\n",
    "if num < 0:\n",
    "    print(\"Sorry, factorial does not exist for negative numbers.\")\n",
    "elif num == 0:\n",
    "    print(\"The factorial of 0 is 1.\")\n",
    "else:\n",
    "    for i in range(1, num + 1):\n",
    "        fact = fact * i\n",
    "print(f\"The factorial of {num} is {fact}.\")"
   ]
  },
  {
   "cell_type": "code",
   "execution_count": 28,
   "id": "42c95567-dcf6-4806-b2e1-151290e49cf2",
   "metadata": {},
   "outputs": [
    {
     "name": "stdin",
     "output_type": "stream",
     "text": [
      "Enter a number: 45\n"
     ]
    },
    {
     "name": "stdout",
     "output_type": "stream",
     "text": [
      "45 x 1 = 45\n",
      "45 x 2 = 90\n",
      "45 x 3 = 135\n",
      "45 x 4 = 180\n",
      "45 x 5 = 225\n",
      "45 x 6 = 270\n",
      "45 x 7 = 315\n",
      "45 x 8 = 360\n",
      "45 x 9 = 405\n",
      "45 x 10 = 450\n"
     ]
    }
   ],
   "source": [
    "# 5. Create a program to print the multiplication table of a given number using a `for` loop.\n",
    "# Taking a input from the user side\n",
    "number = int(input(\"Enter a number:\"))\n",
    "# Using a loop to create the multiplication table\n",
    "for i in range(1, 11):\n",
    "    print(f\"{number} x {i} = {number*i}\")"
   ]
  },
  {
   "cell_type": "code",
   "execution_count": 31,
   "id": "568591d9-7c29-4d80-a85f-c7e058357b3a",
   "metadata": {},
   "outputs": [
    {
     "name": "stdout",
     "output_type": "stream",
     "text": [
      "Number of even numbers: {3}\n",
      "Number of odd numbers: {4}\n"
     ]
    }
   ],
   "source": [
    "# 6. Write a program that counts the number of even and odd numbers in a list using a `for` loop.\n",
    "# Define a list of numbers\n",
    "my_list = [10, 21, 4, 45, 66, 93, 1]\n",
    "# Initialize counts for even and odd numbers\n",
    "even_count, odd_count = 0, 0\n",
    "# Loop through each number in the list\n",
    "for num in my_list:\n",
    "    # Check if the number is even\n",
    "    if num % 2 == 0:\n",
    "        even_count += 1\n",
    "    else:\n",
    "        # If not even, it's odd\n",
    "        odd_count += 1\n",
    "# print the counts\n",
    "print(f\"Number of even numbers:\", {even_count})\n",
    "print(f\"Number of odd numbers:\", {odd_count})"
   ]
  },
  {
   "cell_type": "code",
   "execution_count": 2,
   "id": "18b4de45-62f4-4fbb-a06d-e9866e4d2505",
   "metadata": {},
   "outputs": [
    {
     "name": "stdout",
     "output_type": "stream",
     "text": [
      "1\n",
      "4\n",
      "9\n",
      "16\n",
      "25\n"
     ]
    }
   ],
   "source": [
    "# 7. Develop a program that prints the squares of numbers from 1 to 5 using a `for` loop.\n",
    "# range (1, 6) generates numbers from 1 to 5\n",
    "for num in range(1, 6):\n",
    "    # calculating the square of the number\n",
    "    square = num ** 2\n",
    "    # printing square of the number\n",
    "    print(square)"
   ]
  },
  {
   "cell_type": "code",
   "execution_count": 3,
   "id": "cbace0ed-9b31-4dd3-aec1-505a901565bc",
   "metadata": {},
   "outputs": [
    {
     "name": "stdout",
     "output_type": "stream",
     "text": [
      "Length of the string: 14\n"
     ]
    }
   ],
   "source": [
    "# 8.Create a program to find the length of a string without using the `len()` function.\n",
    "# define a function to calculate the length of a string\n",
    "def string_length(s):\n",
    "    # Initialize a counter variable to 0\n",
    "    count = 0\n",
    "    # Iterate through each character in the string \n",
    "    for i in s:\n",
    "        # Increment the counter by 1 for each character\n",
    "        count += 1\n",
    "    # Return the final count as the length of the string\n",
    "    return count\n",
    "# Define a string for which we want to find the length\n",
    "my_string = \"Hello, Neelam!\"\n",
    "print(\"Length of the string:\", string_length(my_string))"
   ]
  },
  {
   "cell_type": "code",
   "execution_count": 2,
   "id": "f3ae7e2c-4308-4edd-8602-b1f1e0c46ef2",
   "metadata": {},
   "outputs": [
    {
     "name": "stdout",
     "output_type": "stream",
     "text": [
      "The average is: 30.0\n"
     ]
    }
   ],
   "source": [
    "# 9. Write a program that calculates the average of a list of numbers using a `for` loop.\n",
    "# Define a list of numbers\n",
    "numbers = [10, 20, 30, 40, 50]\n",
    "# Initialize the sum to zero\n",
    "total_sum = 0\n",
    "# Loop through each number in the list\n",
    "for num in numbers:\n",
    "    total_sum += num\n",
    "    # Add each number to the sum\n",
    "# calculate the average by dividing the sum by the number of elements\n",
    "average = total_sum / len(numbers)\n",
    "# Print the average\n",
    "print(\"The average is:\", average)"
   ]
  },
  {
   "cell_type": "code",
   "execution_count": 7,
   "id": "f9285333-7d0b-4167-8686-29ce8a5fb7de",
   "metadata": {},
   "outputs": [
    {
     "name": "stdout",
     "output_type": "stream",
     "text": [
      "0112358132134"
     ]
    }
   ],
   "source": [
    "# 10. Develop a program that prints the first `n` Fibonacci numbers using a `for` loop.\n",
    "def fibonacci_num(n):\n",
    "    # Initialize the first two fibonacci numbers\n",
    "    a, b = 0, 1\n",
    "    # Check if n is less than 1, then there are no numbers to print\n",
    "    if n <= 0:\n",
    "        print(\"Please enter a positive integer\")\n",
    "    elif n == 1:\n",
    "        print(a)\n",
    "        # If n is 1, print the first fibonacci number\n",
    "    else:\n",
    "        # print the first two fibonacci numbers and calculate the next n-2 numbers\n",
    "        print(a, end='')\n",
    "        print(b, end='')\n",
    "        for i in range(2, n):\n",
    "            c = a + b\n",
    "            print(c, end='')\n",
    "            a = b\n",
    "            b = c\n",
    " # Example usage: Print the first 10 fibonacci numbers\n",
    "fibonacci_num(10)"
   ]
  },
  {
   "cell_type": "code",
   "execution_count": 6,
   "id": "4a87d4f5-37f4-4e95-86ac-369d29ff683a",
   "metadata": {},
   "outputs": [
    {
     "name": "stdout",
     "output_type": "stream",
     "text": [
      "True\n"
     ]
    }
   ],
   "source": [
    "# Intermediate Level:\n",
    "# 11. Write a program to check if a given list contains any duplicates using a `for` loop.\n",
    "def contains_duplicates(lst):\n",
    "    seen = set()\n",
    "    for element in lst:\n",
    "        if element in seen:\n",
    "            return True\n",
    "        seen.add(element)\n",
    "    return False\n",
    "my_list = [1, 2, 3, 4, 5, 3, 1] # This list has duplicates\n",
    "print(contains_duplicates(my_list))"
   ]
  },
  {
   "cell_type": "code",
   "execution_count": 10,
   "id": "15958fe9-b614-475b-a38e-cb3424945a06",
   "metadata": {},
   "outputs": [
    {
     "name": "stdout",
     "output_type": "stream",
     "text": [
      "2 3 5 7 11 13 17 19 23 29 31 37 41 43 47 "
     ]
    }
   ],
   "source": [
    "# 12. Create a program that prints the prime numbers in a given range using a `for` loop.\n",
    "def is_prime(num):\n",
    "    if num<= 1:\n",
    "        return False\n",
    "    for i in range(2, int(num**0.5) + 1):\n",
    "        if num % i == 0:\n",
    "            return False\n",
    "    return True\n",
    "# Function to print all prime numbers in given range\n",
    "def print_primes(start, end):\n",
    "    for num in range(start, end + 1):\n",
    "        if is_prime(num):\n",
    "            print(num, end=' ')\n",
    "# print all primes between 1 and 50\n",
    "print_primes(1, 50)"
   ]
  },
  {
   "cell_type": "code",
   "execution_count": 11,
   "id": "db4d2da3-17bc-4724-8b2b-7e1826ac75cf",
   "metadata": {},
   "outputs": [
    {
     "name": "stdout",
     "output_type": "stream",
     "text": [
      "The number of vowels in the string is: 5\n"
     ]
    }
   ],
   "source": [
    "# 13. Develop a program that counts the number of vowels in a string using a `for` loop.\n",
    "def count_vowels(input_string):\n",
    "    # Define a string of vowels including both lowercase and uppercase\n",
    "    vowels = 'aeiouAEIOU'\n",
    "    # Initialize the counter to 0\n",
    "    count = 0\n",
    "    # Loop through each character in the input string\n",
    "    for character in input_string:\n",
    "        # check if the character is a vowel\n",
    "        if character in vowels:\n",
    "            # Increment the count if it is a vowel\n",
    "            count += 1\n",
    "    # Return the total count of vowels\n",
    "    return count\n",
    "# Example usage:\n",
    "input_str = \"Hello, Neelam!\" # Input string\n",
    "vowel_count = count_vowels(input_str) # call the function to count vowels\n",
    "print(\"The number of vowels in the string is:\", vowel_count)"
   ]
  },
  {
   "cell_type": "code",
   "execution_count": 15,
   "id": "128cd7cd-73fa-4fd1-8a86-d2facc2fddf9",
   "metadata": {},
   "outputs": [
    {
     "name": "stdout",
     "output_type": "stream",
     "text": [
      "The maximum element in the matrix is: 504\n"
     ]
    }
   ],
   "source": [
    "# 14. Write a program to find the maximum element in a 2D list using a nested `for` loop.\n",
    "def find_max_2d(lst):\n",
    "    maxi = 0\n",
    "    # traversal in the lst\n",
    "    for x in lst:\n",
    "        p = 1\n",
    "     # traversal in of lists\n",
    "        for i in x:\n",
    "            p *= i\n",
    "            maxi = max(p, maxi)\n",
    "    return maxi\n",
    "# Example usage\n",
    "matrix = [\n",
    "    [1, 2, 3],\n",
    "    [4, 5, 6],\n",
    "    [7, 8, 9]\n",
    "]\n",
    "print(\"The maximum element in the matrix is:\", find_max_2d(matrix))"
   ]
  },
  {
   "cell_type": "code",
   "execution_count": 3,
   "id": "cc20e9f1-8942-4c27-9676-6b1e2eb0a4b0",
   "metadata": {},
   "outputs": [
    {
     "name": "stdout",
     "output_type": "stream",
     "text": [
      "Modified list: [1, 3, 4, 5]\n"
     ]
    }
   ],
   "source": [
    "# 15. Create a program that removes all occurrences of a specific element from a list using a `for` loop.\n",
    "def remove_element(lst, element_to_remove):\n",
    "    # we create a copy of the list to safely iterate over it while modifying the original list\n",
    "    for element in lst[:]: # Using lst[:] to iterate over a copy of the list\n",
    "        if element == element_to_remove:\n",
    "            lst.remove(element)\n",
    "    # Return the modified list after removing all occurrences of the element        \n",
    "    return lst\n",
    "# Example usage\n",
    "my_list = [1,2,3,4,2,2,5]\n",
    "element = 2\n",
    "# Call the function with the list and the element to remove\n",
    "modified_list = remove_element(my_list,element)\n",
    "print(\"Modified list:\", modified_list)"
   ]
  },
  {
   "cell_type": "code",
   "execution_count": 4,
   "id": "c07e331a-2d0e-4302-b081-ef38538e53e5",
   "metadata": {},
   "outputs": [
    {
     "name": "stdout",
     "output_type": "stream",
     "text": [
      "Multiplication table for 1:\n",
      "1 x 1 = 1\n",
      "1 x 2 = 2\n",
      "1 x 3 = 3\n",
      "1 x 4 = 4\n",
      "1 x 5 = 5\n",
      "1 x 6 = 6\n",
      "1 x 7 = 7\n",
      "1 x 8 = 8\n",
      "1 x 9 = 9\n",
      "1 x 10 = 10\n",
      "\n",
      "Multiplication table for 2:\n",
      "2 x 1 = 2\n",
      "2 x 2 = 4\n",
      "2 x 3 = 6\n",
      "2 x 4 = 8\n",
      "2 x 5 = 10\n",
      "2 x 6 = 12\n",
      "2 x 7 = 14\n",
      "2 x 8 = 16\n",
      "2 x 9 = 18\n",
      "2 x 10 = 20\n",
      "\n",
      "Multiplication table for 3:\n",
      "3 x 1 = 3\n",
      "3 x 2 = 6\n",
      "3 x 3 = 9\n",
      "3 x 4 = 12\n",
      "3 x 5 = 15\n",
      "3 x 6 = 18\n",
      "3 x 7 = 21\n",
      "3 x 8 = 24\n",
      "3 x 9 = 27\n",
      "3 x 10 = 30\n",
      "\n",
      "Multiplication table for 4:\n",
      "4 x 1 = 4\n",
      "4 x 2 = 8\n",
      "4 x 3 = 12\n",
      "4 x 4 = 16\n",
      "4 x 5 = 20\n",
      "4 x 6 = 24\n",
      "4 x 7 = 28\n",
      "4 x 8 = 32\n",
      "4 x 9 = 36\n",
      "4 x 10 = 40\n",
      "\n",
      "Multiplication table for 5:\n",
      "5 x 1 = 5\n",
      "5 x 2 = 10\n",
      "5 x 3 = 15\n",
      "5 x 4 = 20\n",
      "5 x 5 = 25\n",
      "5 x 6 = 30\n",
      "5 x 7 = 35\n",
      "5 x 8 = 40\n",
      "5 x 9 = 45\n",
      "5 x 10 = 50\n",
      "\n"
     ]
    }
   ],
   "source": [
    "# 16. Develop a program that generates a multiplication table for numbers from 1 to 5 using a nested `for` loop.\n",
    "# Outer loop: iterates through each number (from 1 to 5) for which we need the multiplication table\n",
    "for i in range(1, 6):\n",
    "    print(f\"Multiplication table for {i}:\") # Header for the current table\n",
    "    # Inner loop: Performs the multiplication of 'i' by numbers from 1 to 10\n",
    "    for j in range(1, 11):\n",
    "        # Calculate the product of 'i' and 'j'\n",
    "        product = i*j\n",
    "        # Print the result in the format \"i x j = product\"\n",
    "        print(f\"{i} x {j} = {product}\")\n",
    "    # Print a blank line for better readability between tables\n",
    "    print()"
   ]
  },
  {
   "cell_type": "code",
   "execution_count": 8,
   "id": "95afa960-5dda-4c59-beea-e790eb799d78",
   "metadata": {},
   "outputs": [
    {
     "name": "stdout",
     "output_type": "stream",
     "text": [
      "[0.0, 10.0, 25.0, 37.77777777777778, 100.0]\n"
     ]
    }
   ],
   "source": [
    "# 17. Write a program that converts a list of Fahrenheit temperatures to Celsius using a `for` loop.\n",
    "# Define a list of Fahrenheit tempratures\n",
    "fahrenheit_temperatures = [32, 50, 77, 100, 212]\n",
    "# Initialize an empty list to store celsius temperatures\n",
    "celsius_temperatures = []\n",
    "# Loop through each temperature in the Fahrenheit list\n",
    "for f in fahrenheit_temperatures:\n",
    "    # convert the Fahrenheit temperature to celsius using the conversion formula\n",
    "    c = (f - 32) * 5/9\n",
    "    # Append the converted temprature to the celsius list\n",
    "    celsius_temperatures.append(c)\n",
    "# Print the list of celsius temperatures\n",
    "print(celsius_temperatures)"
   ]
  },
  {
   "cell_type": "code",
   "execution_count": 9,
   "id": "7af87046-fd43-4c73-865c-d502c1faa901",
   "metadata": {},
   "outputs": [
    {
     "name": "stdout",
     "output_type": "stream",
     "text": [
      "Common elements: [4, 5]\n"
     ]
    }
   ],
   "source": [
    "# 18. Create a program to print the common elements from two lists using a `for` loop.\n",
    "# Define two lists\n",
    "list1 = [1, 2, 3, 4, 5]\n",
    "list2 = [4, 5, 6, 7, 8]\n",
    "# create an empty list to store common elements\n",
    "common_elements = []\n",
    "# Use a for loop to compare each element in list1 with each element in list2\n",
    "for element in list1:\n",
    "    if element in list2:\n",
    "        common_elements.append(element)\n",
    "# Print the common elements\n",
    "print(\"Common elements:\", common_elements)"
   ]
  },
  {
   "cell_type": "code",
   "execution_count": 10,
   "id": "49550442-24b3-43fe-90ca-4d18d4f9b4f2",
   "metadata": {},
   "outputs": [
    {
     "name": "stdin",
     "output_type": "stream",
     "text": [
      "Enter the height of the triangle: 5\n"
     ]
    },
    {
     "name": "stdout",
     "output_type": "stream",
     "text": [
      "*\n",
      "**\n",
      "***\n",
      "****\n",
      "*****\n"
     ]
    }
   ],
   "source": [
    "# 19. Develop a program that prints the pattern of right-angled triangles using a `for` loop. Use ‘*’ to draw the\n",
    "# pattern\n",
    "# Get the height of the triangle from the user\n",
    "height = int(input(\"Enter the height of the triangle:\"))\n",
    "# Use a for loop to print each levele of the triangle\n",
    "for i in range(1, height + 1):\n",
    "    # print '*' i times for each level\n",
    "    print('*' * i)"
   ]
  },
  {
   "cell_type": "code",
   "execution_count": 12,
   "id": "df2b0269-2126-4d30-bfe9-91d6494af830",
   "metadata": {},
   "outputs": [
    {
     "name": "stdin",
     "output_type": "stream",
     "text": [
      "Enter the first number:  6\n",
      "Enter the second number:  4\n"
     ]
    },
    {
     "name": "stdout",
     "output_type": "stream",
     "text": [
      "The GCD of 6 and 4 is 2\n"
     ]
    }
   ],
   "source": [
    "# 20. Write a program to find the greatest common divisor (GCD) of two numbers using a `for` loop.\n",
    "def gcd(x, y):\n",
    "    # Initial value for gcd \n",
    "    greatest = 1\n",
    "    # The loop will run from 1 to the smallest of the two numbers x and y\n",
    "    for i in range(1, min(x, y) + 1):\n",
    "        if x % i ==0 and y % i == 0:\n",
    "            greatest = i\n",
    "    return greatest\n",
    "# Example usage:\n",
    "num1 = int(input(\"Enter the first number: \"))\n",
    "num2 = int(input(\"Enter the second number: \"))\n",
    "result = gcd(num1, num2)\n",
    "print(f\"The GCD of {num1} and {num2} is {result}\")"
   ]
  },
  {
   "cell_type": "code",
   "execution_count": 2,
   "id": "ad7f5ac2-43bc-4f5f-a571-3c6c067b0de7",
   "metadata": {},
   "outputs": [
    {
     "name": "stdout",
     "output_type": "stream",
     "text": [
      "[3, 13, 17, 7]\n"
     ]
    }
   ],
   "source": [
    "# 21.Create a program that calculates the sum of the digits of numbers in a list using a list comprehension.\n",
    "def sum_of_digits(numbers):\n",
    "    # List comprehension to calculate the sum of digits for each number in the list\n",
    "    return [sum(int(digit) for digit in str(abs(num))) for num in numbers]\n",
    "# Example list of numbers\n",
    "numbers = [12, 67, 98, 34]\n",
    "# Calculating the sum of the digits\n",
    "result = sum_of_digits(numbers)\n",
    "# Printing the result\n",
    "print(result)"
   ]
  },
  {
   "cell_type": "code",
   "execution_count": 44,
   "id": "3120c4f4-9ce0-492b-86eb-8c07eff299b0",
   "metadata": {},
   "outputs": [
    {
     "name": "stdout",
     "output_type": "stream",
     "text": [
      "2\n",
      "2\n",
      "3\n"
     ]
    }
   ],
   "source": [
    "# 22. Write a program to find the prime factors of a given number using a `for` loop and list comprehension.\n",
    "def prime_factors(n):\n",
    "    # Print the number of two's that divide n\n",
    "    while n % 2 == 0:\n",
    "        print(2)\n",
    "        n = n // 2\n",
    "    # n must be odd at this point, thus a skip of 2(i.e., i = i + 2) can be used\n",
    "    # check for odd factors from 3 to sqrt(n)\n",
    "    for i in range(3, int(n**0.5) + 1,2):\n",
    "        # while i divides n, print i and divide n\n",
    "        while n % i == 0:\n",
    "            print(i)\n",
    "            n = n // i\n",
    "    # If n becomes a prime number greater than 2\n",
    "    if n > 2:\n",
    "        print(n)\n",
    "# Example usage:\n",
    "n = 12\n",
    "prime_factors(n)"
   ]
  },
  {
   "cell_type": "code",
   "execution_count": 47,
   "id": "a5aab77d-f86b-4aff-ba39-39bcd22ac0c2",
   "metadata": {},
   "outputs": [
    {
     "name": "stdout",
     "output_type": "stream",
     "text": [
      "Unique elements: [1, 2, 3, 4, 5, 6]\n"
     ]
    }
   ],
   "source": [
    "# 23. Develop a program that extracts unique elements from a list and stores them in a new list using a list\n",
    "#comprehension.\n",
    "def extracts_unique_elements(input_list):\n",
    "    # Using a set to extract unique elements and then convert in back to a list\n",
    "    unique_elements = [element for element in set(input_list)]\n",
    "    return unique_elements\n",
    "# Example usage\n",
    "input_list = [1, 2, 2, 3, 4, 5, 3, 6, 1]\n",
    "result = extracts_unique_elements(input_list)\n",
    "print(\"Unique elements:\", result)"
   ]
  },
  {
   "cell_type": "code",
   "execution_count": 50,
   "id": "d1c6aa8d-e6ce-4884-887a-123c8ea98dd1",
   "metadata": {},
   "outputs": [
    {
     "name": "stdout",
     "output_type": "stream",
     "text": [
      "Palindrome numbers up to 200 : [0, 1, 2, 3, 4, 5, 6, 7, 8, 9, 11, 22, 33, 44, 55, 66, 77, 88, 99, 101, 111, 121, 131, 141, 151, 161, 171, 181, 191]\n"
     ]
    }
   ],
   "source": [
    "# 24. Create a program that generates a list of all palindromic numbers up to a specified limit using a list\n",
    "#comprehension.\n",
    "def find_palindromes(limit):\n",
    "    # Use a list comprehension to filter and collect palindrome numbers.\n",
    "    # range(limit + 1) generates numbers from 0 up to the limit\n",
    "    # str(num) == str(num)[::-1] checks if the number reads the same forwards and backwards.\n",
    "    return [num for num in range(limit + 1) if str(num) == str(num)[::-1]]\n",
    "# Example usage:\n",
    "limit = 200 \n",
    "palindrome_numbers = find_palindromes(limit)   # calling the function with the specified limit.\n",
    "print(\"Palindrome numbers up to\", limit, \":\", palindrome_numbers)  # Display the result"
   ]
  },
  {
   "cell_type": "code",
   "execution_count": 1,
   "id": "47b94f90-409e-4953-b69c-12dc372e0786",
   "metadata": {},
   "outputs": [
    {
     "name": "stdout",
     "output_type": "stream",
     "text": [
      "Flattened list: [1, 2, 3, 4, 5, 6, 7, 8, 9, 10]\n"
     ]
    }
   ],
   "source": [
    "# 25. Write a program to flatten a nested list using list comprehension.\n",
    "def flatten(nested_list):\n",
    "    # Using list comprehension to flatten the list\n",
    "    # This will iterate over each element in the nested list\n",
    "    # It will extend the flattening to elements that are themselves lists\n",
    "    return[item for sublist in nested_list for item in (flatten(sublist) if isinstance(sublist, list) else [sublist])]\n",
    "# Example usage:\n",
    "nested_list = [[1, 2, [3, 4]], [5, 6], 7, [8,[9, 10]]]\n",
    "flat_list = flatten(nested_list)\n",
    "print(\"Flattened list:\", flat_list)"
   ]
  },
  {
   "cell_type": "code",
   "execution_count": 2,
   "id": "718de732-ec64-47fc-a2d4-6e478bd8ede7",
   "metadata": {},
   "outputs": [
    {
     "name": "stdout",
     "output_type": "stream",
     "text": [
      "Sum of even numbers: 30\n",
      "Sum of odd numbers: 25\n"
     ]
    }
   ],
   "source": [
    "# 26. Develop a program that computes the sum of even and odd numbers in a list separately using list\n",
    "# comprehension.\n",
    "def sum_even_odd(numbers):\n",
    "    # List comprehension to find the sum of even numbers\n",
    "    even_sum = sum([num for num in numbers if num % 2 == 0])\n",
    "    # List comprehension to find the sum of odd numbers\n",
    "    odd_sum = sum([num for num in numbers if num % 2 != 0])\n",
    "    return even_sum, odd_sum\n",
    "# Example list of numbers\n",
    "numbers = [1, 2, 3, 4, 5, 6, 7, 8, 9, 10]\n",
    "# Calculate the sums\n",
    "even_sum, odd_sum = sum_even_odd(numbers)\n",
    "print(f\"Sum of even numbers: {even_sum}\")\n",
    "print(f\"Sum of odd numbers: {odd_sum}\")"
   ]
  },
  {
   "cell_type": "code",
   "execution_count": 4,
   "id": "4d382039-a290-4223-8f97-fff765ce2a61",
   "metadata": {},
   "outputs": [
    {
     "name": "stdout",
     "output_type": "stream",
     "text": [
      "[1, 9, 25, 49, 81]\n"
     ]
    }
   ],
   "source": [
    "# 27. Create a program that generates a list of squares of odd numbers between 1 and 10 using list\n",
    "# comprehension.\n",
    "\n",
    "# Using list comprehension to generate squares of odd numbers from 1 to 10\n",
    "squares_of_odds = [x**2 for x in range(1, 11) if x % 2 != 0]\n",
    "# Printing the result\n",
    "print(squares_of_odds)"
   ]
  },
  {
   "cell_type": "code",
   "execution_count": 5,
   "id": "ef5b0fd4-4d9b-453e-99c8-a0657c6f8a37",
   "metadata": {},
   "outputs": [
    {
     "name": "stdout",
     "output_type": "stream",
     "text": [
      "{'a': 1, 'b': 2, 'c': 3, 'd': 4}\n"
     ]
    }
   ],
   "source": [
    "# 28. Write a program that combines two lists into a dictionary using list comprehension.\n",
    "# List of keys and list of values\n",
    "keys = ['a', 'b', 'c', 'd']\n",
    "values = [1, 2, 3, 4]\n",
    "# Using list comprehension to combine them into a dictionary\n",
    "dictionary = {key: value for key, value in zip(keys, values)}\n",
    "# Print the resulting dictionary\n",
    "print(dictionary)"
   ]
  },
  {
   "cell_type": "code",
   "execution_count": 12,
   "id": "42fbff9c-084f-4f19-91ae-e8215c727120",
   "metadata": {},
   "outputs": [
    {
     "name": "stdout",
     "output_type": "stream",
     "text": [
      "['e', 'o', 'o', 'a', 'e', 'o', 'u', 'o', 'i', 'o', 'a']\n"
     ]
    }
   ],
   "source": [
    "# 29.Develop a program that extracts the vowels from a string and stores them in a list using list comprehension.\n",
    "def extract_vowels(s):\n",
    "    # Define the vowels\n",
    "    vowels = 'aeiouAEIOU'\n",
    "    # Use list comprehension to collect vowels from the string\n",
    "    vowel_list = [char for char in s if char in vowels]\n",
    "    return vowel_list\n",
    "# Example usage\n",
    "input_string = \"Hello, how are you doing today?\"\n",
    "vowel_in_string = extract_vowels(input_string)\n",
    "print(vowel_in_string)"
   ]
  },
  {
   "cell_type": "code",
   "execution_count": 13,
   "id": "9b10ac59-cdd9-4800-9b15-d7b11859894e",
   "metadata": {},
   "outputs": [
    {
     "name": "stdout",
     "output_type": "stream",
     "text": [
      "['123', '456', '789', '123']\n"
     ]
    }
   ],
   "source": [
    "# 30. Create a program that removes all non-numeric characters from a list of strings using list comprehension.\n",
    "# Sample list of strings\n",
    "input_strings = [\"123abc\", \"abc456\", \"789\", \"test123test\"]\n",
    "# Using list comprehension to remove non_numeric characters from each string\n",
    "numeric_strings = [''.join([char for char in s if char.isdigit()]) for s in input_strings]\n",
    "print(numeric_strings)"
   ]
  },
  {
   "cell_type": "code",
   "execution_count": 14,
   "id": "848a0dc5-a92f-4844-a44a-0bdf205eeb21",
   "metadata": {},
   "outputs": [
    {
     "name": "stdout",
     "output_type": "stream",
     "text": [
      "[2, 3, 5, 7, 11, 13, 17, 19, 23, 29]\n"
     ]
    }
   ],
   "source": [
    "# 31. Write a program to generate a list of prime numbers using the Sieve of Eratosthenes algorithm and list\n",
    "# comprehension.\n",
    "def sieve_of_eratosthenes(limit):\n",
    "    # Boolean array to keep track of prime candidates\n",
    "    primes = [True] * (limit + 1)\n",
    "    p = 2\n",
    "    while (p*p <= limit):\n",
    "        # If prime[p] is not changed, then it is a prime\n",
    "        if primes[p]:\n",
    "            # Updating all multiple of p to not prime\n",
    "            for i in range(p*p, limit +1, p):\n",
    "                primes[i] = False\n",
    "        p += 1\n",
    "    # Using list comprehension to gather all primes\n",
    "    prime_numbers = [p for p in range(2, limit + 1) if primes[p]]\n",
    "    return prime_numbers\n",
    "# Example usage\n",
    "limit = 30\n",
    "print(sieve_of_eratosthenes(limit))"
   ]
  },
  {
   "cell_type": "code",
   "execution_count": 7,
   "id": "c3370f2f-54ff-4f66-b800-59f12eb47624",
   "metadata": {},
   "outputs": [
    {
     "name": "stdin",
     "output_type": "stream",
     "text": [
      "Enter upper limit: 20\n"
     ]
    },
    {
     "name": "stdout",
     "output_type": "stream",
     "text": [
      "3 4 5\n",
      "8 6 10\n",
      "5 12 13\n",
      "15 8 17\n",
      "12 16 20\n"
     ]
    }
   ],
   "source": [
    "# 32. Create a program that generates a list of all Pythagorean triplets up to a specified limit using list\n",
    "# comprehension.\n",
    "limit = int(input(\"Enter upper limit:\"))\n",
    "c=0\n",
    "m=2\n",
    "# while and for loop is used to find the value of the pythagorean triplets using the formula\n",
    "while(c<limit):\n",
    "    for n in range(1, m+1):\n",
    "        a=m*m-n*n\n",
    "        b=2*m*n\n",
    "        c=m*m+n*n\n",
    "        # If the value of a side is greater than the limit or if any of the side is 0, the loop is broken out of\n",
    "        if(c>limit):\n",
    "            break\n",
    "        if(a==0 or b==0 or c==0):\n",
    "            break\n",
    "        print(a,b,c)\n",
    "    m=m+1"
   ]
  },
  {
   "cell_type": "code",
   "execution_count": 8,
   "id": "fab38a49-c8c1-41f7-9e25-5762815bffcb",
   "metadata": {},
   "outputs": [
    {
     "name": "stdout",
     "output_type": "stream",
     "text": [
      "[('a', 1), ('a', 2), ('a', 3), ('b', 1), ('b', 2), ('b', 3), ('c', 1), ('c', 2), ('c', 3)]\n"
     ]
    }
   ],
   "source": [
    "# 33. Develop a program that generates a list of all possible combinations of two lists using list comprehension.\n",
    "# Define two lists for which we want to find all possible combinations\n",
    "list1 = ['a', 'b', 'c',]\n",
    "list2 = [1, 2, 3]\n",
    "# Use list comprehension to generate combinations\n",
    "# (x, y) creates a tuple of elements from list1 and list2\n",
    "# x is taken from list1 and y is taken from list2\n",
    "# for x in list1 iterates over each elements in list1\n",
    "# for y in list2 iterates over each elements in list2 for each element x\n",
    "combinations = [(x, y) for x in list1 for y in list2]\n",
    "# print the generated list of combinations\n",
    "print(combinations)"
   ]
  },
  {
   "cell_type": "code",
   "execution_count": 12,
   "id": "aebd4b94-ef91-4c9b-b043-ab32f3785a01",
   "metadata": {},
   "outputs": [
    {
     "name": "stdout",
     "output_type": "stream",
     "text": [
      "Mean: 3.4444444444444446\n",
      "Median: 4\n",
      "Mode: 4\n"
     ]
    }
   ],
   "source": [
    "# 34. Write a program that calculates the mean, median, and mode of a list of numbers using list comprehension.\n",
    "from statistics import median, mode\n",
    "# Define a list of numbers\n",
    "numbers = [4,1,2,2,3,5,4,6,4]\n",
    "# calculate mean using list comprehension and the sum() function\n",
    "mean = sum(numbers) / len(numbers)\n",
    "# calculate median using the median() function from the statistics module\n",
    "median_value = median(numbers)\n",
    "# calculate mode using the mode() function from the statistics module\n",
    "mode_value = mode(numbers)\n",
    "# Print the calculated mean, median and mode\n",
    "print(f\"Mean: {mean}\")\n",
    "print(f\"Median: {median_value}\")\n",
    "print(f\"Mode: {mode_value}\")"
   ]
  },
  {
   "cell_type": "code",
   "execution_count": 22,
   "id": "923ad479-07ff-4e9e-b2a6-a3d66be011b9",
   "metadata": {},
   "outputs": [
    {
     "name": "stdin",
     "output_type": "stream",
     "text": [
      "Enter the number of rows for Pascal's Triangle: 4\n"
     ]
    },
    {
     "name": "stdout",
     "output_type": "stream",
     "text": [
      "[1]\n",
      "[1, 1]\n",
      "[1, 2, 1]\n",
      "[1, 3, 3, 1]\n"
     ]
    }
   ],
   "source": [
    "# 35.Create a program that generates Pascal's triangle up to a specified number of rows using list comprehension.\n",
    "def generate_pascals_triangle(num_rows):\n",
    "    if num_rows <= 0:\n",
    "        return[]\n",
    "    # create a list to hold each row of pascal's triangle\n",
    "    triangle = [[1]]\n",
    "    # Iterate over each row to be generated\n",
    "    for current_row in range (1,num_rows):\n",
    "        # Use list comprehension to build the current row based on the previous row\n",
    "        row = [1] + [triangle[current_row - 1][i] + triangle[current_row -1][i-1]for i in range(1, current_row)]\n",
    "        row.append(1)\n",
    "        # Add the current row to the triangle list\n",
    "        triangle.append(row)\n",
    "    return triangle\n",
    "# Example usage: Generate and print 5 rows of pascal's triangle\n",
    "num_rows = int(input(\"Enter the number of rows for Pascal's Triangle:\"))\n",
    "pascals_triangle = generate_pascals_triangle(num_rows)\n",
    "for row in pascals_triangle:\n",
    "    print(row)"
   ]
  },
  {
   "cell_type": "code",
   "execution_count": 3,
   "id": "5ba166f8-0bc7-4b68-9fb7-c97419dbb57f",
   "metadata": {},
   "outputs": [
    {
     "name": "stdout",
     "output_type": "stream",
     "text": [
      "[1, 2, 6, 6, 3]\n"
     ]
    }
   ],
   "source": [
    "# 36.Develop a program that calculates the sum of the digits of a factorial of numbers from 1 to 5 using list comprehension.\n",
    "import math\n",
    "# List to hold numbers from 1 to 5\n",
    "numbers = [1, 2, 3, 4, 5]\n",
    "# Using list comprehension to calculate the factorial and then sum of the digits\n",
    "digit_sums = [sum(int(digit) for digit in str(math.factorial(num))) for num in numbers]\n",
    "# Output the results\n",
    "print(digit_sums)"
   ]
  },
  {
   "cell_type": "code",
   "execution_count": 6,
   "id": "d8370924-b6d9-467c-8646-4e08267a45b3",
   "metadata": {},
   "outputs": [
    {
     "name": "stdout",
     "output_type": "stream",
     "text": [
      "The longest word in the sentence is:'Maharashtra'\n"
     ]
    }
   ],
   "source": [
    "# 37. Write a program that finds the longest word in a sentence using list comprehension.\n",
    "def find_longest_word(sentence):\n",
    "    # split the sentence into a list of words\n",
    "    words = sentence.split()\n",
    "    # Use list comprehension to create a list of tuples (word_length, word)\n",
    "    # and use max to find the tuple with the maximum length\n",
    "    longest_word = max([(len(word), word) for word in words])[1]\n",
    "    return longest_word\n",
    "# Example usage\n",
    "sentence = \"I am from Maharashtra\"\n",
    "print(f\"The longest word in the sentence is:'{find_longest_word(sentence)}'\")"
   ]
  },
  {
   "cell_type": "code",
   "execution_count": 10,
   "id": "ac4620d6-bd21-4ac8-a0d5-becc238c9db1",
   "metadata": {},
   "outputs": [
    {
     "name": "stdout",
     "output_type": "stream",
     "text": [
      "Filtered strings: ['beautiful', 'illustration']\n"
     ]
    }
   ],
   "source": [
    "# 38.Create a program that filters a list of strings to include only those with more than three vowels using list comprehension.\n",
    "def filter_strings_with_vowels(strings):\n",
    "    # Define the vowels\n",
    "    vowels = set('aeiou')\n",
    "    # Use list comprehension to filter and return the list\n",
    "    return [s for s in strings if sum(1 for char in s if char.lower() in vowels) > 3]\n",
    "# Example usage:\n",
    "input_str = [\"hello\", \"world\", \"beautiful\", \"algorithm\", \"illustration\"]\n",
    "filtered_strings = filter_strings_with_vowels(input_str)\n",
    "\n",
    "print(\"Filtered strings:\", filtered_strings)"
   ]
  },
  {
   "cell_type": "code",
   "execution_count": 2,
   "id": "56a0ed2d-7a69-4d26-afe3-4bec3f240562",
   "metadata": {},
   "outputs": [
    {
     "name": "stdout",
     "output_type": "stream",
     "text": [
      "The sum of the digits of numbers from 1 to 1000 is: 13501\n"
     ]
    }
   ],
   "source": [
    "# 39.Develop a program that calculates the sum of the digits of numbers from 1 to 1000 using list comprehension.\n",
    "# Using list comprehension to calculate the sum of the digits of numbers from 1 to 1000\n",
    "total_sum = sum(sum(int(digit)for digit in str(number)) for number in range(1, 1001))\n",
    "# Printing the result\n",
    "print(\"The sum of the digits of numbers from 1 to 1000 is:\", total_sum)"
   ]
  },
  {
   "cell_type": "code",
   "execution_count": 9,
   "id": "67ca3caa-08ce-464c-bcdc-4888c0ef56c2",
   "metadata": {},
   "outputs": [
    {
     "name": "stdout",
     "output_type": "stream",
     "text": [
      "[2, 11, 55, 77, 101, 121, 131, 151, 161, 181, 191, 313, 323, 343, 353, 373, 383, 505, 515, 535, 545, 565, 575, 595, 707, 727, 737, 757, 767, 787, 797, 919, 929, 949, 959, 979, 989]\n"
     ]
    }
   ],
   "source": [
    "# 40.Write a program that generates a list of prime palindromic numbers using list comprehension.\n",
    "def is_prime(n):\n",
    "    # check if a number is prime\n",
    "    if n <= 1:\n",
    "        return False\n",
    "    # is the only even prime number\n",
    "    if n == 2:\n",
    "        return True\n",
    "    # Exclude other even numbers\n",
    "    if n% 2 == 0:\n",
    "        return False\n",
    "    # check for factors from 3 to the square root of n\n",
    "    for i in range(3, int(n**0.5) + 1, 2):\n",
    "        if n % i == 0:\n",
    "            return False\n",
    "        return True\n",
    "def is_palindrome(n):\n",
    "    # check if a number is a palindrome\n",
    "    return str(n) == str(n)[::-1]\n",
    "prime_palindromic_numbers = [n for n in range(2, 1000) if is_prime(n) and is_palindrome(n)]\n",
    "# Print the list of prime palindromic numbers\n",
    "print(prime_palindromic_numbers)"
   ]
  },
  {
   "cell_type": "code",
   "execution_count": null,
   "id": "3b41c162-d27c-4660-8813-70358e90ff61",
   "metadata": {},
   "outputs": [],
   "source": []
  }
 ],
 "metadata": {
  "kernelspec": {
   "display_name": "Python 3 (ipykernel)",
   "language": "python",
   "name": "python3"
  },
  "language_info": {
   "codemirror_mode": {
    "name": "ipython",
    "version": 3
   },
   "file_extension": ".py",
   "mimetype": "text/x-python",
   "name": "python",
   "nbconvert_exporter": "python",
   "pygments_lexer": "ipython3",
   "version": "3.10.8"
  }
 },
 "nbformat": 4,
 "nbformat_minor": 5
}
