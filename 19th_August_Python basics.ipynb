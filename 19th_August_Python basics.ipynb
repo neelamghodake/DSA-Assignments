{
 "cells": [
  {
   "cell_type": "code",
   "execution_count": 21,
   "id": "4bf583de-2f94-4926-beb1-fe759da8dfc4",
   "metadata": {},
   "outputs": [],
   "source": [
    "# 1.Declare two variables, `x` and `y`, and assign them integer values. Swap the\n",
    "#values of these variables without using any temporary variable.\n",
    "x = 10"
   ]
  },
  {
   "cell_type": "code",
   "execution_count": 22,
   "id": "86461774-2f2d-49a9-b87d-ca6805575c7c",
   "metadata": {},
   "outputs": [],
   "source": [
    "y = 5"
   ]
  },
  {
   "cell_type": "code",
   "execution_count": 23,
   "id": "57c07b16-092b-4c3e-a132-d1e5faafdba7",
   "metadata": {},
   "outputs": [],
   "source": [
    "# code to swap the values 'x' and 'y'\n",
    "x = x + y\n",
    "# Now x becomes 15"
   ]
  },
  {
   "cell_type": "code",
   "execution_count": 24,
   "id": "b346163b-67d9-4c9d-8d34-92d31e360180",
   "metadata": {},
   "outputs": [],
   "source": [
    "y = x - y\n",
    "# y becomes 10"
   ]
  },
  {
   "cell_type": "code",
   "execution_count": 25,
   "id": "0741b0d2-d435-44ec-bc87-6c5a7fcb18d8",
   "metadata": {},
   "outputs": [],
   "source": [
    "x = x - y\n",
    "# x becomes 5"
   ]
  },
  {
   "cell_type": "code",
   "execution_count": 27,
   "id": "184442d1-dea4-4fb4-9b42-19bcbcb6f83e",
   "metadata": {},
   "outputs": [
    {
     "name": "stdout",
     "output_type": "stream",
     "text": [
      "After Swapping: x = 5\n",
      "After Swapping: y = 10\n"
     ]
    }
   ],
   "source": [
    "print( \"After Swapping: x =\", x )\n",
    "print( \"After Swapping: y =\", y)\n",
    "# Printing swapping Valuse of these variable "
   ]
  },
  {
   "cell_type": "code",
   "execution_count": 33,
   "id": "074b54de-0065-42f8-ae16-b239baac5124",
   "metadata": {},
   "outputs": [
    {
     "name": "stdin",
     "output_type": "stream",
     "text": [
      "Enter the length of the rectangle:  1.5\n",
      "Enter the width of the rectangle:  2.5\n"
     ]
    }
   ],
   "source": [
    "# 2.Create a program that calculates the area of a rectangle. Take the length and\n",
    "# width as inputs from the user and store them in variables. Calculate and\n",
    "# display the area.\n",
    "length = float(input(\"Enter the length of the rectangle: \"))\n",
    "width =  float(input(\"Enter the width of the rectangle: \"))\n",
    "# Get user input for length and Width"
   ]
  },
  {
   "cell_type": "code",
   "execution_count": 40,
   "id": "3eb0776c-0c66-4426-ab77-8e5e68af400d",
   "metadata": {},
   "outputs": [],
   "source": [
    "a = length * width\n",
    "# calculate the area"
   ]
  },
  {
   "cell_type": "code",
   "execution_count": 42,
   "id": "47085f01-ce29-4143-bf4d-c3d77b5d2e1a",
   "metadata": {},
   "outputs": [
    {
     "name": "stdout",
     "output_type": "stream",
     "text": [
      "The area of the rectangle is:  3.75\n"
     ]
    }
   ],
   "source": [
    "print(\"The area of the rectangle is: \",a)\n",
    "#Display the result"
   ]
  },
  {
   "cell_type": "code",
   "execution_count": 51,
   "id": "9fe49359-32bb-4243-bfd5-68efdcf89850",
   "metadata": {},
   "outputs": [
    {
     "name": "stdin",
     "output_type": "stream",
     "text": [
      "Enter temperature in Celsius: 28\n"
     ]
    }
   ],
   "source": [
    "#Write a Python program that converts temperatures from Celsius to\n",
    "#Fahrenheit. Take the temperature in Celsius as input, store it in a variable,\n",
    "#convert it to Fahrenheit, and display the result.\n",
    "celsius_temp = float(input(\"Enter temperature in Celsius:\"))\n",
    "# Get temperature in Celsius from the user"
   ]
  },
  {
   "cell_type": "code",
   "execution_count": 52,
   "id": "63617071-3a29-4c77-a216-6b16529098a9",
   "metadata": {},
   "outputs": [],
   "source": [
    "#convert Celsius to Fahrenheit\n",
    "fahrenheit_temp = (celsius_temp * 1.8) + 32"
   ]
  },
  {
   "cell_type": "code",
   "execution_count": 54,
   "id": "66d7e911-bb49-44d9-9a86-39249e9714e4",
   "metadata": {},
   "outputs": [
    {
     "name": "stdout",
     "output_type": "stream",
     "text": [
      "28.0 degree Celsius is equal to 82.4 degree Fahrenheit.\n"
     ]
    }
   ],
   "source": [
    "# Display the result\n",
    "print(str (celsius_temp)+ \" degree Celsius is equal to \" + str(fahrenheit_temp)+ \" degree Fahrenheit.\")"
   ]
  },
  {
   "cell_type": "code",
   "execution_count": 57,
   "id": "be7a7b31-1542-4516-bb91-01a638567bea",
   "metadata": {},
   "outputs": [
    {
     "name": "stdin",
     "output_type": "stream",
     "text": [
      "Enter a string:  Neelam\n"
     ]
    }
   ],
   "source": [
    "# String Based Questions\n",
    "#1. Write a Python program that takes a string as input and prints the length of\n",
    "#the string.\n",
    "user_input = input(\"Enter a string: \")\n",
    " # Get input from the user"
   ]
  },
  {
   "cell_type": "code",
   "execution_count": 58,
   "id": "22a9bbe2-bd26-4cbe-b198-0fe2bec1c5b8",
   "metadata": {},
   "outputs": [
    {
     "name": "stdout",
     "output_type": "stream",
     "text": [
      "Length of the string: 6\n"
     ]
    }
   ],
   "source": [
    "# calculate and print the length of the string\n",
    "print(\"Length of the string:\", len(user_input))"
   ]
  },
  {
   "cell_type": "code",
   "execution_count": 16,
   "id": "9592e26d-2ebf-4f2a-9f13-bb57a3790e43",
   "metadata": {},
   "outputs": [
    {
     "name": "stdin",
     "output_type": "stream",
     "text": [
      "Enter the string:  Neelam G Ghodake\n"
     ]
    }
   ],
   "source": [
    "# 2. Create a program that takes a sentence from the user and counts the number\n",
    "# of vowels (a, e, i, o, u) in the string.\n",
    "\n",
    "# take user input\n",
    "string = input(\"Enter the string: \")  "
   ]
  },
  {
   "cell_type": "code",
   "execution_count": 17,
   "id": "b74baeba-14c5-44e3-941b-eac9e97f3048",
   "metadata": {},
   "outputs": [],
   "source": [
    "sentence = string.lower()\n",
    "# convert string in to lowercase"
   ]
  },
  {
   "cell_type": "code",
   "execution_count": 18,
   "id": "ee1fde13-d137-4529-92d4-ea546a034631",
   "metadata": {},
   "outputs": [],
   "source": [
    "count = 0"
   ]
  },
  {
   "cell_type": "code",
   "execution_count": 19,
   "id": "2c08cbb1-91ce-48db-ba5c-8d549e8324d0",
   "metadata": {},
   "outputs": [],
   "source": [
    "list = [\"a\",\"e\",\"i\",\"o\",\"u\"]\n",
    "# declare vowels"
   ]
  },
  {
   "cell_type": "code",
   "execution_count": 20,
   "id": "e077cc2f-bee6-41bc-a560-ce87177a2691",
   "metadata": {},
   "outputs": [],
   "source": [
    "for char in sentence:\n",
    "    if char in list:\n",
    "        count = count+1\n",
    "        #using for loop "
   ]
  },
  {
   "cell_type": "code",
   "execution_count": 22,
   "id": "eeb5d9c6-26c9-4dff-819c-e01a68c38c46",
   "metadata": {},
   "outputs": [
    {
     "name": "stdout",
     "output_type": "stream",
     "text": [
      "number vowels in given string is: 6\n"
     ]
    }
   ],
   "source": [
    " print(\"number vowels in given string is:\",count)"
   ]
  },
  {
   "cell_type": "code",
   "execution_count": 17,
   "id": "7b4233b9-5530-4f61-a00f-8264fbbc1f31",
   "metadata": {},
   "outputs": [],
   "source": [
    "#3. Given a string, reverse the order of characters using string slicing and print\n",
    "#the reversed string.\n",
    "test_str = \"Neelam Ghodake\"\n",
    "#initializing string"
   ]
  },
  {
   "cell_type": "code",
   "execution_count": 18,
   "id": "e0edd83b-dcf0-423f-974f-99bb2292e6d1",
   "metadata": {},
   "outputs": [
    {
     "name": "stdout",
     "output_type": "stream",
     "text": [
      "The original string is:Neelam Ghodake\n"
     ]
    }
   ],
   "source": [
    "# printing original string\n",
    "print(\"The original string is:\"+ test_str)"
   ]
  },
  {
   "cell_type": "code",
   "execution_count": 21,
   "id": "06334b8d-ad5b-425e-a8c3-7ffff69f47b7",
   "metadata": {},
   "outputs": [],
   "source": [
    "# initializing a\n",
    "l=25"
   ]
  },
  {
   "cell_type": "code",
   "execution_count": 22,
   "id": "ee79646c-a885-4337-8d42-29edf6f3c776",
   "metadata": {},
   "outputs": [],
   "source": [
    "# using string slicing\n",
    "# Reverse slicing string\n",
    "res = test_str[(l-1)::-1]"
   ]
  },
  {
   "cell_type": "code",
   "execution_count": 23,
   "id": "ae422ca4-325c-43e3-a9a6-e88ae5dab825",
   "metadata": {},
   "outputs": [
    {
     "name": "stdout",
     "output_type": "stream",
     "text": [
      "The reversed sliced string is:ekadohG maleeN\n"
     ]
    }
   ],
   "source": [
    "# printing result\n",
    "print(\"The reversed sliced string is:\" +res)"
   ]
  },
  {
   "cell_type": "code",
   "execution_count": 22,
   "id": "fa61c6fd-0d07-4f14-8b33-2bfcc5293c2e",
   "metadata": {},
   "outputs": [
    {
     "name": "stdin",
     "output_type": "stream",
     "text": [
      "Enter string: Neelam\n"
     ]
    }
   ],
   "source": [
    "#4. Write a program that takes a string as input and checks if it is a palindrome\n",
    "#(reads the same forwards and backwards).\n",
    "# Enter input string\n",
    "string =input(\"Enter string:\")"
   ]
  },
  {
   "cell_type": "code",
   "execution_count": 23,
   "id": "c50628e4-b363-415a-b037-3c680a7483a3",
   "metadata": {},
   "outputs": [],
   "source": [
    "# declare an empty string variable\n",
    "revstr=\"\""
   ]
  },
  {
   "cell_type": "code",
   "execution_count": 24,
   "id": "cca0d30f-ae46-4b91-a9de-cfdfd3eb34e2",
   "metadata": {},
   "outputs": [],
   "source": [
    "# iterate string with for loop\n",
    "for i in string:\n",
    "    revstr = i+revstr"
   ]
  },
  {
   "cell_type": "code",
   "execution_count": 25,
   "id": "18b14b42-31f4-4ef6-9860-1b79b7a8bf05",
   "metadata": {},
   "outputs": [
    {
     "name": "stdout",
     "output_type": "stream",
     "text": [
      "Reversed string: maleeN\n"
     ]
    }
   ],
   "source": [
    "print(\"Reversed string:\",revstr)"
   ]
  },
  {
   "cell_type": "code",
   "execution_count": 26,
   "id": "beb6a20a-08a1-41eb-965d-5946893d98a9",
   "metadata": {},
   "outputs": [
    {
     "name": "stdout",
     "output_type": "stream",
     "text": [
      "The string is not Palindrome\n"
     ]
    }
   ],
   "source": [
    "if string==string[::-1]:\n",
    "    print(\"The string is Palindrome\")\n",
    "else:\n",
    "    print(\"The string is not Palindrome\")"
   ]
  },
  {
   "cell_type": "code",
   "execution_count": 1,
   "id": "274465d9-41e8-4bb7-9984-0f352074efb4",
   "metadata": {},
   "outputs": [
    {
     "name": "stdin",
     "output_type": "stream",
     "text": [
      "Enter a string: My name is Neelam\n"
     ]
    }
   ],
   "source": [
    "# 5. Create a program that takes a string as input and removes all the spaces from\n",
    "#it. Print the modified string without spaces.\n",
    "# Get input from the user\n",
    "string = input(\"Enter a string:\")"
   ]
  },
  {
   "cell_type": "code",
   "execution_count": 3,
   "id": "37ba27b9-6494-456f-b39b-0a8be1fd2393",
   "metadata": {},
   "outputs": [],
   "source": [
    "#Removes spaces from the str1\n",
    "modified_string = string.replace(\" \",\"\")"
   ]
  },
  {
   "cell_type": "code",
   "execution_count": 4,
   "id": "ec875c72-8895-46aa-8a36-d3a0e691ccf2",
   "metadata": {},
   "outputs": [
    {
     "name": "stdout",
     "output_type": "stream",
     "text": [
      "Modified_string without spaces: MynameisNeelam\n"
     ]
    }
   ],
   "source": [
    "# Print the modified_string\n",
    "print(\"Modified_string without spaces:\",modified_string)"
   ]
  },
  {
   "cell_type": "code",
   "execution_count": null,
   "id": "500f39ec-125c-43cf-8888-1036b874900c",
   "metadata": {},
   "outputs": [],
   "source": []
  }
 ],
 "metadata": {
  "kernelspec": {
   "display_name": "Python 3 (ipykernel)",
   "language": "python",
   "name": "python3"
  },
  "language_info": {
   "codemirror_mode": {
    "name": "ipython",
    "version": 3
   },
   "file_extension": ".py",
   "mimetype": "text/x-python",
   "name": "python",
   "nbconvert_exporter": "python",
   "pygments_lexer": "ipython3",
   "version": "3.10.8"
  }
 },
 "nbformat": 4,
 "nbformat_minor": 5
}
