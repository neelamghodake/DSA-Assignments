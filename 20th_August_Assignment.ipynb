{
 "cells": [
  {
   "cell_type": "code",
   "execution_count": 1,
   "id": "4bf583de-2f94-4926-beb1-fe759da8dfc4",
   "metadata": {},
   "outputs": [
    {
     "name": "stdin",
     "output_type": "stream",
     "text": [
      "Enter a string: Hello\n"
     ]
    }
   ],
   "source": [
    "# String Based Question :\n",
    "# 1. Write a program to reverse a string.\n",
    "# taking input from user\n",
    "str = input(\"Enter a string:\")"
   ]
  },
  {
   "cell_type": "code",
   "execution_count": 8,
   "id": "5501828d-9955-44ad-b80f-0964a54b8d82",
   "metadata": {},
   "outputs": [
    {
     "name": "stdout",
     "output_type": "stream",
     "text": [
      "olleH\n"
     ]
    }
   ],
   "source": [
    "print(str[::-1])\n",
    "# Printing reverse a string"
   ]
  },
  {
   "cell_type": "code",
   "execution_count": 11,
   "id": "e486e79e-1e29-46cb-b826-a9e08e4d89f0",
   "metadata": {},
   "outputs": [
    {
     "name": "stdin",
     "output_type": "stream",
     "text": [
      "Enter a string: hello\n"
     ]
    }
   ],
   "source": [
    "# 2. Check if a string is a palindrome.\n",
    "# taking input from user\n",
    "str = input(\"Enter a string:\")  "
   ]
  },
  {
   "cell_type": "code",
   "execution_count": 12,
   "id": "2e76b3a1-f1a1-41ca-8951-c88798292a11",
   "metadata": {},
   "outputs": [
    {
     "name": "stdout",
     "output_type": "stream",
     "text": [
      "hello is not a palindrome\n"
     ]
    }
   ],
   "source": [
    "# Using If-else\n",
    "if str == str[::-1]:\n",
    "    print(str+\" is a Palindrome\")\n",
    "else:\n",
    "    print(str+\" is not a palindrome\")"
   ]
  },
  {
   "cell_type": "code",
   "execution_count": 9,
   "id": "7cc40652-5bc2-4f22-99bb-5f34eaff3571",
   "metadata": {},
   "outputs": [
    {
     "name": "stdin",
     "output_type": "stream",
     "text": [
      "Enter a string: neelam\n"
     ]
    }
   ],
   "source": [
    "# 3. Convert a string to uppercase.\n",
    "# taking input from user\n",
    "str = input(\"Enter a string:\") "
   ]
  },
  {
   "cell_type": "code",
   "execution_count": 10,
   "id": "67670177-9fce-4850-b36c-0cb144ddce28",
   "metadata": {},
   "outputs": [
    {
     "name": "stdout",
     "output_type": "stream",
     "text": [
      "NEELAM\n"
     ]
    }
   ],
   "source": [
    "print(str.upper()) \n",
    "# converting a string to uppercase "
   ]
  },
  {
   "cell_type": "code",
   "execution_count": 12,
   "id": "9c6dbc93-5efc-4d03-977d-d29644a09629",
   "metadata": {},
   "outputs": [
    {
     "name": "stdin",
     "output_type": "stream",
     "text": [
      "Enter a string: HELLO\n"
     ]
    }
   ],
   "source": [
    "# 4. Convert a string to lowercase.\n",
    "# taking input from user\n",
    "str = input(\"Enter a string:\") "
   ]
  },
  {
   "cell_type": "code",
   "execution_count": 13,
   "id": "ddf3bb3d-347e-4dc9-a1c3-4a7fe77d96a0",
   "metadata": {},
   "outputs": [
    {
     "name": "stdout",
     "output_type": "stream",
     "text": [
      "hello\n"
     ]
    }
   ],
   "source": [
    "print(str.lower())\n",
    "# converting a string to lowercase"
   ]
  },
  {
   "cell_type": "code",
   "execution_count": 2,
   "id": "7814ddcd-27e2-406e-9fc9-18352a16968a",
   "metadata": {},
   "outputs": [
    {
     "name": "stdin",
     "output_type": "stream",
     "text": [
      "Enter a string: Hello Neelam\n"
     ]
    },
    {
     "name": "stdout",
     "output_type": "stream",
     "text": [
      "Number of vowels in a string: 5\n"
     ]
    }
   ],
   "source": [
    "# 5. Count the number of vowels in a string.\n",
    "# taking input from user\n",
    "str = input(\"Enter a string:\") \n",
    "#convert string in to lowercase\n",
    "sentence = str.lower()\n",
    "count = 0\n",
    "list = ['a','e','i','o','u','A','E','I','O','U']\n",
    "# using for loop\n",
    "for char in sentence:\n",
    "    if char in list:\n",
    "        count = count+1  \n",
    "print(\"Number of vowels in a string:\",count)"
   ]
  },
  {
   "cell_type": "code",
   "execution_count": 3,
   "id": "47cfc209-89b4-4ae9-a534-e42d74d0eec4",
   "metadata": {},
   "outputs": [
    {
     "name": "stdin",
     "output_type": "stream",
     "text": [
      "Enter a string: Hello Neelam\n"
     ]
    },
    {
     "name": "stdout",
     "output_type": "stream",
     "text": [
      "The number of consonant: 6\n"
     ]
    }
   ],
   "source": [
    "# 6. Count the number of consonants in a string.\n",
    "# taking input from user\n",
    "str = input(\"Enter a string:\") \n",
    "count = 0\n",
    "# Define a set of consonant characters\n",
    "consonant = \"bcdfghjklmnpqrstvwxyzBCDFGHJKLMNPQRSTVWXYZ\"\n",
    "# convert string in case insensitive\n",
    "sentence = str.lower()\n",
    "# Using for loop\n",
    "for char in sentence:\n",
    "    if char  in consonant:    #Check if the character is in the set of consonants\n",
    "        count += 1            #Increment the consonant count \n",
    "# printing the number of consonant\n",
    "print(\"The number of consonant:\",count)           "
   ]
  },
  {
   "cell_type": "code",
   "execution_count": 4,
   "id": "0a184ac3-5ad1-49db-9433-9cd49a5cce8d",
   "metadata": {},
   "outputs": [
    {
     "name": "stdin",
     "output_type": "stream",
     "text": [
      "Enter a string: Hello Neelam\n"
     ]
    },
    {
     "name": "stdout",
     "output_type": "stream",
     "text": [
      "HelloNeelam\n"
     ]
    }
   ],
   "source": [
    "# 7. Remove all whitespaces from a string.\n",
    "# taking input from user\n",
    "str = input(\"Enter a string:\") \n",
    "# Function to remove whitespace\n",
    "def remove(str):\n",
    "    return str.replace(\" \", \"\")\n",
    "# print the result\n",
    "print(remove(str))"
   ]
  },
  {
   "cell_type": "code",
   "execution_count": 5,
   "id": "154f004f-fecf-4958-abba-f9ea7e5a5cdf",
   "metadata": {},
   "outputs": [
    {
     "name": "stdin",
     "output_type": "stream",
     "text": [
      "Enter a string: Neelam Ghodake\n"
     ]
    },
    {
     "name": "stdout",
     "output_type": "stream",
     "text": [
      "The length of a string: 14\n"
     ]
    }
   ],
   "source": [
    "# 8. Find the length of a string without using the `len()` function\n",
    "# taking input from user\n",
    "str = input(\"Enter a string:\") \n",
    "count =0\n",
    "# Using for loop\n",
    "for i in str:\n",
    "    count += 1\n",
    "# print the result\n",
    "print(\"The length of a string:\",count)"
   ]
  },
  {
   "cell_type": "code",
   "execution_count": 6,
   "id": "a476af05-8c5e-4b1f-afa5-237a79e6e28f",
   "metadata": {},
   "outputs": [
    {
     "name": "stdin",
     "output_type": "stream",
     "text": [
      "Enter a string:  Hi Neelam\n",
      "Enter the specific word:  Hi\n"
     ]
    },
    {
     "name": "stdout",
     "output_type": "stream",
     "text": [
      "The specific word present in string:\n"
     ]
    }
   ],
   "source": [
    "# 9.Check if a string contains a specific word.\n",
    "# taking input from user\n",
    "str = input(\"Enter a string: \")\n",
    "specific_word = input(\"Enter the specific word: \")\n",
    "# Using If-else\n",
    "if specific_word in str: \n",
    "    print(\"The specific word present in string:\")\n",
    "else:\n",
    "    print(\"The specific word not present in string\")"
   ]
  },
  {
   "cell_type": "code",
   "execution_count": 7,
   "id": "876fa317-9882-47ce-9327-b5d9d40db3de",
   "metadata": {},
   "outputs": [
    {
     "name": "stdin",
     "output_type": "stream",
     "text": [
      "Enter a string:  Neelam\n"
     ]
    },
    {
     "name": "stdout",
     "output_type": "stream",
     "text": [
      "Niilam\n"
     ]
    }
   ],
   "source": [
    "# 10. Replace a word in a string with another word.\n",
    "# taking input from user\n",
    "str = input(\"Enter a string: \")\n",
    "# Replace all words of old with new\n",
    "new_str = str.replace(\"e\",\"i\")\n",
    "# printing new string\n",
    "print(new_str)"
   ]
  },
  {
   "cell_type": "code",
   "execution_count": 10,
   "id": "a56d4290-e2ab-4f5d-8ec1-1218db6909c9",
   "metadata": {},
   "outputs": [
    {
     "name": "stdin",
     "output_type": "stream",
     "text": [
      "Enter a string:  Hello neelam\n"
     ]
    },
    {
     "name": "stdout",
     "output_type": "stream",
     "text": [
      "1\n"
     ]
    }
   ],
   "source": [
    "# 11. Count the occurrences of a word in a string.\n",
    "# taking input from user\n",
    "str = input(\"Enter a string: \") \n",
    "word = \"neelam\"\n",
    "# splitting the string at space\n",
    "words = str.split()\n",
    "# initializing count variable to 0\n",
    "count = 0\n",
    "# iterating over the list using for loop\n",
    "for i in words:\n",
    "    # checking the match of the words\n",
    "    if i == word :\n",
    "    # increment count\n",
    "      count += 1\n",
    "# print the count\n",
    "print(count)"
   ]
  },
  {
   "cell_type": "code",
   "execution_count": 12,
   "id": "97e9795f-5a30-4814-9f48-2be67f542b9a",
   "metadata": {},
   "outputs": [
    {
     "name": "stdin",
     "output_type": "stream",
     "text": [
      "Enter a string:  Hello Neelam\n"
     ]
    },
    {
     "name": "stdout",
     "output_type": "stream",
     "text": [
      "6\n"
     ]
    }
   ],
   "source": [
    "# 12. Find the first occurrence of a word in a string. \n",
    "# taking input from user\n",
    "str = input(\"Enter a string: \")\n",
    "# Finding 1st word in a string\n",
    "result = str.find('N')\n",
    "# print the result\n",
    "print(result)"
   ]
  },
  {
   "cell_type": "code",
   "execution_count": 13,
   "id": "43fbed94-5d8a-477b-a0f7-7dce2ab20e5c",
   "metadata": {},
   "outputs": [
    {
     "name": "stdin",
     "output_type": "stream",
     "text": [
      "Enter a string:  Neelam\n"
     ]
    },
    {
     "name": "stdout",
     "output_type": "stream",
     "text": [
      "3\n"
     ]
    }
   ],
   "source": [
    "# 13.Find the last occurrence of a word in a string.\n",
    "# taking input from user\n",
    "str = input(\"Enter a string: \")\n",
    "# Finding a word in a string\n",
    "result = str.rfind('l')\n",
    "# print the result\n",
    "print(result)"
   ]
  },
  {
   "cell_type": "code",
   "execution_count": 14,
   "id": "6c7e043e-dade-4488-908c-a524ca96c68f",
   "metadata": {},
   "outputs": [
    {
     "name": "stdin",
     "output_type": "stream",
     "text": [
      "Enter a string:  Hello Neelam\n"
     ]
    },
    {
     "name": "stdout",
     "output_type": "stream",
     "text": [
      "['Hello', 'Neelam']\n"
     ]
    }
   ],
   "source": [
    "# 14.Split a string into a list of words.\n",
    "# taking input from user\n",
    "str = input(\"Enter a string: \")\n",
    "# printing a string using split()\n",
    "print(str.split()) "
   ]
  },
  {
   "cell_type": "code",
   "execution_count": 15,
   "id": "277b6627-48df-478f-bf03-9980242024be",
   "metadata": {},
   "outputs": [
    {
     "name": "stdin",
     "output_type": "stream",
     "text": [
      "Enter a string:  Hello Neelam\n"
     ]
    },
    {
     "name": "stdout",
     "output_type": "stream",
     "text": [
      "H e l l o   N e e l a m\n"
     ]
    }
   ],
   "source": [
    "# 15' Join a list of words into a string\n",
    "# taking input from user\n",
    "str = input(\"Enter a string: \")\n",
    "#  using join() method \n",
    "joined_string = ' '.join(str)\n",
    "# print the string\n",
    "print(joined_string)"
   ]
  },
  {
   "cell_type": "code",
   "execution_count": 16,
   "id": "e8d0dde3-a82f-4cba-a00c-e40801ec9626",
   "metadata": {},
   "outputs": [
    {
     "name": "stdin",
     "output_type": "stream",
     "text": [
      "Enter a string:  Hello Neelam\n"
     ]
    },
    {
     "name": "stdout",
     "output_type": "stream",
     "text": [
      "_H_e_l_l_o_ _N_e_e_l_a_m_\n"
     ]
    }
   ],
   "source": [
    "# 16.Convert a string where words are separated by spaces to one where words are separated by underscores\n",
    "# taking input from user\n",
    "str = input(\"Enter a string: \")\n",
    "# using replace() function\n",
    "underscore_separated = str.replace(\"\",\"_\")\n",
    "# printing a string\n",
    "print(underscore_separated)"
   ]
  },
  {
   "cell_type": "code",
   "execution_count": 19,
   "id": "fde05900-5967-49c0-be1a-dce1bb7517da",
   "metadata": {},
   "outputs": [
    {
     "name": "stdin",
     "output_type": "stream",
     "text": [
      "Enter a string:  hi neelam\n",
      "Enter a specific word:  h\n"
     ]
    },
    {
     "name": "stdout",
     "output_type": "stream",
     "text": [
      "True\n"
     ]
    }
   ],
   "source": [
    "# 17.Check if a string starts with a specific word or phrase.\n",
    "# taking input from user\n",
    "str = input(\"Enter a string: \")\n",
    "# taking input from user\n",
    "str1 = input(\"Enter a specific word: \")\n",
    "# using starswith function\n",
    "is_start = str.startswith(str1)\n",
    "# print the string\n",
    "print(is_start)"
   ]
  },
  {
   "cell_type": "code",
   "execution_count": 20,
   "id": "5b76cd95-f07a-4b58-9f08-b5b8e464988e",
   "metadata": {},
   "outputs": [
    {
     "name": "stdin",
     "output_type": "stream",
     "text": [
      "Enter a string:  Hello Neelam\n",
      "Enter a specific word:  m\n"
     ]
    },
    {
     "name": "stdout",
     "output_type": "stream",
     "text": [
      "True\n"
     ]
    }
   ],
   "source": [
    "# 18.Check if a string ends with a specific word or phrase.\n",
    "# taking input from user\n",
    "str = input(\"Enter a string: \")\n",
    "# taking input from user\n",
    "str1 = input(\"Enter a specific word: \")\n",
    "# using endswith function\n",
    "is_ends = str.endswith(str1)\n",
    "# printing a string\n",
    "print(is_ends)"
   ]
  },
  {
   "cell_type": "code",
   "execution_count": 21,
   "id": "ab435aba-3117-4478-aef4-db88ad905234",
   "metadata": {},
   "outputs": [
    {
     "name": "stdin",
     "output_type": "stream",
     "text": [
      "Enter a string:  hi neelam\n"
     ]
    },
    {
     "name": "stdout",
     "output_type": "stream",
     "text": [
      "Hi Neelam\n"
     ]
    }
   ],
   "source": [
    "# 19.Convert a string to title case (e.g., \"hello world\" to \"Hello World\").\n",
    "# taking input from user\n",
    "str = input(\"Enter a string: \")\n",
    "# printing a string using title function\n",
    "print(str.title())"
   ]
  },
  {
   "cell_type": "code",
   "execution_count": 22,
   "id": "fba81cdc-6d8a-4fd5-87dd-ce76bf624ace",
   "metadata": {},
   "outputs": [
    {
     "name": "stdin",
     "output_type": "stream",
     "text": [
      "Enter a string:  hi neelam\n"
     ]
    },
    {
     "name": "stdout",
     "output_type": "stream",
     "text": [
      "neelam\n"
     ]
    }
   ],
   "source": [
    "# 20.Find the longest word in a string.\n",
    "# taking input from user\n",
    "str = input(\"Enter a string: \")\n",
    "# split the string to a list of words\n",
    "words = str.split()\n",
    "# find the longets word\n",
    "longest_word = max(words,key = len)\n",
    "# print longest word\n",
    "print(longest_word)"
   ]
  },
  {
   "cell_type": "code",
   "execution_count": 23,
   "id": "1472c599-3468-4a8f-bfbf-293dcf11408c",
   "metadata": {},
   "outputs": [
    {
     "name": "stdin",
     "output_type": "stream",
     "text": [
      "Enter a string:  hi neelam\n"
     ]
    },
    {
     "name": "stdout",
     "output_type": "stream",
     "text": [
      "hi\n"
     ]
    }
   ],
   "source": [
    "# 21.Find the shortest word in a string.\n",
    "# taking input from user\n",
    "str = input(\"Enter a string: \")\n",
    "# split the string to a list of words\n",
    "words = str.split()\n",
    "# find the shortest word\n",
    "shortest_word = min(words,key = len)\n",
    "# print shortest word\n",
    "print(shortest_word)"
   ]
  },
  {
   "cell_type": "code",
   "execution_count": 24,
   "id": "86865813-54c4-452b-8119-b2defb651786",
   "metadata": {},
   "outputs": [
    {
     "name": "stdin",
     "output_type": "stream",
     "text": [
      "Enter a string:  my name is neelam\n"
     ]
    },
    {
     "name": "stdout",
     "output_type": "stream",
     "text": [
      "neelam is name my\n"
     ]
    }
   ],
   "source": [
    "# 22.Reverse the order of words in a string.\n",
    "# taking input from user\n",
    "str = input(\"Enter a string: \")\n",
    "# spliting words in the given string\n",
    "# using slicing reverse the words\n",
    "string = str.split()[::-1]\n",
    "# joining the reversed string and\n",
    "# printing the output\n",
    "print(\" \".join(string))"
   ]
  },
  {
   "cell_type": "code",
   "execution_count": 25,
   "id": "5a0b9061-cebc-4670-88f3-fbb925cf4752",
   "metadata": {},
   "outputs": [
    {
     "name": "stdin",
     "output_type": "stream",
     "text": [
      "Enter a string:  abc123\n"
     ]
    },
    {
     "name": "stdout",
     "output_type": "stream",
     "text": [
      "True\n"
     ]
    }
   ],
   "source": [
    "# 23.Check if a string is alphanumeric.\n",
    "# taking input from user\n",
    "str = input(\"Enter a string: \")\n",
    "# using alphanumeric function\n",
    "print(str.isalnum())"
   ]
  },
  {
   "cell_type": "code",
   "execution_count": 26,
   "id": "6cf3caa2-6a16-4cd7-b613-8ad9ec60e1d5",
   "metadata": {},
   "outputs": [
    {
     "name": "stdin",
     "output_type": "stream",
     "text": [
      "Enter a string:  I have 1 book and 2 pens\n"
     ]
    },
    {
     "name": "stdout",
     "output_type": "stream",
     "text": [
      "The numbers is: [1, 2]\n"
     ]
    }
   ],
   "source": [
    "# 24.Extract all digits from a string.\n",
    "# taking input from user\n",
    "str = input(\"Enter a string: \")\n",
    "# Initialize the empty string\n",
    "numbers = []\n",
    "# using for loop to extract all digits\n",
    "for char in str:\n",
    "    if char.isdigit():\n",
    "        numbers.append(int(char))\n",
    "# print the output\n",
    "print(\"The numbers is:\",numbers)"
   ]
  },
  {
   "cell_type": "code",
   "execution_count": 27,
   "id": "691be2ab-875c-4a62-aea9-399a1c229a61",
   "metadata": {},
   "outputs": [
    {
     "name": "stdin",
     "output_type": "stream",
     "text": [
      "Enter a string:  I have 3 Apples and 2 Banana\n"
     ]
    },
    {
     "name": "stdout",
     "output_type": "stream",
     "text": [
      "IhaveApplesandBanana\n"
     ]
    }
   ],
   "source": [
    "# 25.Extract all alphabets from a string.\n",
    "# taking input from user\n",
    "str = input(\"Enter a string: \")\n",
    "# initilizing a new string to append only alphabates\n",
    "only_alpha = \"\"\n",
    "# Using for loop to find out alphabates\n",
    "for char in str:\n",
    "    # ord(char) returns the ascii value\n",
    "    # CHECKING FOR UPPER CASE\n",
    "    if ord(char) >=65 and ord(char) <=90:\n",
    "        only_alpha += char\n",
    "   # checking for lower case\n",
    "    elif ord(char) >=97 and ord(char) <=122:\n",
    "        only_alpha += char\n",
    "# printing the string which contains only alphabates\n",
    "print(only_alpha)"
   ]
  },
  {
   "cell_type": "code",
   "execution_count": 28,
   "id": "875e9128-cb9c-4830-b445-98697196621c",
   "metadata": {},
   "outputs": [
    {
     "name": "stdin",
     "output_type": "stream",
     "text": [
      "Enter a string:  HeLLo NeeLam\n"
     ]
    },
    {
     "name": "stdout",
     "output_type": "stream",
     "text": [
      "The number of capital letters found in string is: 5\n"
     ]
    }
   ],
   "source": [
    "# 26. Count the number of uppercase letters in a string.\n",
    "# getting the input from the user\n",
    "str = input(\"Enter a string: \")\n",
    "count = 0\n",
    "# using for loop to find out uppercase letter\n",
    "for i in str:\n",
    "    if i.isupper():\n",
    "        count = count+1\n",
    "# printing count of letters\n",
    "print(\"The number of capital letters found in string is:\",count)"
   ]
  },
  {
   "cell_type": "code",
   "execution_count": 29,
   "id": "b7f66792-5b64-42c3-a4e8-fa0b42a99646",
   "metadata": {},
   "outputs": [
    {
     "name": "stdin",
     "output_type": "stream",
     "text": [
      "Enter a string:  Hello Neelam\n"
     ]
    },
    {
     "name": "stdout",
     "output_type": "stream",
     "text": [
      "The number of capital letters found in string is: 9\n"
     ]
    }
   ],
   "source": [
    "# 27.Count the number of lowercase letters in a string.\n",
    "# getting the input from the user\n",
    "str = input(\"Enter a string: \")\n",
    "count = 0\n",
    "# Using for loop to find out lowercase letter\n",
    "for i in str:\n",
    "    if i.islower():\n",
    "        count = count+1\n",
    "# printing count of letters\n",
    "print(\"The number of capital letters found in string is:\",count)"
   ]
  },
  {
   "cell_type": "code",
   "execution_count": 30,
   "id": "771470e3-d321-48d4-b0d6-67936a20919d",
   "metadata": {},
   "outputs": [
    {
     "name": "stdin",
     "output_type": "stream",
     "text": [
      "Enter a string:  Hey Nilu\n"
     ]
    },
    {
     "name": "stdout",
     "output_type": "stream",
     "text": [
      "hEY nILU\n"
     ]
    }
   ],
   "source": [
    "# 28.Swap the case of each character in a string.\n",
    "# getting the input from the user\n",
    "str = input(\"Enter a string: \")\n",
    "# printing string to use the swapcase function \n",
    "print(str.swapcase())"
   ]
  },
  {
   "cell_type": "code",
   "execution_count": 31,
   "id": "185437fb-8979-4094-83c7-aa7be203c684",
   "metadata": {},
   "outputs": [
    {
     "name": "stdin",
     "output_type": "stream",
     "text": [
      "Enter a string:  My name is Neelam\n"
     ]
    },
    {
     "name": "stdout",
     "output_type": "stream",
     "text": [
      "My name  Neelam\n"
     ]
    }
   ],
   "source": [
    "# 29.Remove a specific word from a string.\n",
    "# getting the input from the user\n",
    "str = input(\"Enter a string: \")\n",
    "# Using replace function to remove specific word\n",
    "string = str.replace(\"is\",\"\")\n",
    "# print the result\n",
    "print(string)"
   ]
  },
  {
   "cell_type": "code",
   "execution_count": 32,
   "id": "6495244b-47ca-4bb0-8567-ce3425d87507",
   "metadata": {},
   "outputs": [
    {
     "name": "stdout",
     "output_type": "stream",
     "text": [
      "True\n"
     ]
    }
   ],
   "source": [
    "# 30.Check if a string is a valid email address\n",
    "def validate_email(email):\n",
    "    import re\n",
    "    patt = r'[a-zA-Z0-9._%+-]+@[a-zA-Z0-9.-]+\\.[a-zA-Z]{2,}'\n",
    "    # Using Regular expression for an email\n",
    "    pattern = re.compile(patt)\n",
    "    # check if the pattern matches the email address\n",
    "    return re.match(pattern,email)is not None\n",
    "# checking a valid email address\n",
    "print(validate_email('neelamghodake4@gmail.com'))"
   ]
  },
  {
   "cell_type": "code",
   "execution_count": 7,
   "id": "ae7d0002-3e49-4261-a0ae-f1a8c6634616",
   "metadata": {},
   "outputs": [
    {
     "name": "stdin",
     "output_type": "stream",
     "text": [
      "Enter your email:  neelam@gmail.com\n"
     ]
    },
    {
     "name": "stdout",
     "output_type": "stream",
     "text": [
      "neelam\n"
     ]
    }
   ],
   "source": [
    "# 31.Extract the username from an email address string.\n",
    "# getting the input from the user\n",
    "email = input(\"Enter your email: \")\n",
    "# using split() to get username\n",
    "username,mail = email.split('@')\n",
    "print(username)"
   ]
  },
  {
   "cell_type": "code",
   "execution_count": 33,
   "id": "6e798f7b-c314-4858-b1ee-053901055885",
   "metadata": {},
   "outputs": [
    {
     "name": "stdin",
     "output_type": "stream",
     "text": [
      "Enter your email:  neelamghodake3@gmail.com\n"
     ]
    },
    {
     "name": "stdout",
     "output_type": "stream",
     "text": [
      "gmail.com\n"
     ]
    }
   ],
   "source": [
    "# 32.Extract the domain name from an email address string.\n",
    "# getting the input from the user\n",
    "email = input(\"Enter your email: \")\n",
    "# using split() to get domain name\n",
    "domain_name = email.split('@')[1]\n",
    "print(domain_name)"
   ]
  },
  {
   "cell_type": "code",
   "execution_count": 34,
   "id": "d382f7a1-2ce6-4782-b78e-63a66d1081b9",
   "metadata": {},
   "outputs": [
    {
     "name": "stdin",
     "output_type": "stream",
     "text": [
      "Enter a string: neelam                  ghodake\n"
     ]
    },
    {
     "name": "stdout",
     "output_type": "stream",
     "text": [
      "neelam ghodake\n"
     ]
    }
   ],
   "source": [
    "# 33.Replace multiple spaces in a string with a single space.\n",
    "# getting the input from the user\n",
    "str = input('Enter a string:')\n",
    "# Using split to replace multiple spaces with a single space\n",
    "string = \" \".join(str.split())\n",
    "# Print the replace string\n",
    "print(string)"
   ]
  },
  {
   "cell_type": "code",
   "execution_count": 35,
   "id": "e50e0070-450f-4c61-9b19-3e88ba0d60ee",
   "metadata": {},
   "outputs": [
    {
     "name": "stdin",
     "output_type": "stream",
     "text": [
      "Enter a URL: https://auth.geeksforgeeks.org/user/Chinmoy%20Lenka/articles\n"
     ]
    },
    {
     "name": "stdout",
     "output_type": "stream",
     "text": [
      "The URL is valid\n"
     ]
    }
   ],
   "source": [
    "# 34.Check if a string is a valid URL.\n",
    "# We can use the 'urllib parse'module in python to check if a string is a valid URL\n",
    "from urllib.parse import urlparse\n",
    "def is_valid_url(url):\n",
    "    try:\n",
    "        result = urlparse(url)\n",
    "        return all([result.scheme, result.netloc])\n",
    "    except ValueError:\n",
    "        return False\n",
    "# Example usage:\n",
    "url = input(\"Enter a URL:\")\n",
    "if is_valid_url(url):\n",
    "    print(\"The URL is valid\")\n",
    "else:\n",
    "    print(\"The URL is not valid.\")"
   ]
  },
  {
   "cell_type": "code",
   "execution_count": 36,
   "id": "69dc2b98-d4da-4dfb-be6e-e5d04fa2ee9a",
   "metadata": {},
   "outputs": [
    {
     "name": "stdout",
     "output_type": "stream",
     "text": [
      "https\n"
     ]
    }
   ],
   "source": [
    "# 35.Extract the protocol (http or https) from a URL string.\n",
    "# We can use the 'urllib parse'module in python to extract the protocol from url URL\n",
    "from urllib.parse import urlparse\n",
    "url = \"https://auth.geeksforgeeks.org/user/Chinmoy%20Lenka/articles\"\n",
    "parsed_url = urlparse(url)\n",
    "protocol = parsed_url.scheme\n",
    "print(protocol)"
   ]
  },
  {
   "cell_type": "code",
   "execution_count": 37,
   "id": "99881671-8c10-473e-aa49-f508f5fd0d66",
   "metadata": {},
   "outputs": [
    {
     "name": "stdin",
     "output_type": "stream",
     "text": [
      "Enter a string:  my name is Neelam\n"
     ]
    },
    {
     "name": "stdout",
     "output_type": "stream",
     "text": [
      "count of all characters in is: {'m': 3, 'y': 1, ' ': 3, 'n': 1, 'a': 2, 'e': 3, 'i': 1, 's': 1, 'N': 1, 'l': 1}\n"
     ]
    }
   ],
   "source": [
    "# 36.Find the frequency of each character in a string.\n",
    "# getting the input from the user\n",
    "test_str = input(\"Enter a string: \")\n",
    "# using naive method to get count of each element in string\n",
    "all_freq = {}\n",
    "for i in test_str:\n",
    "    if i in all_freq:\n",
    "        all_freq[i] += 1\n",
    "    else:\n",
    "        all_freq[i] = 1\n",
    "# print the result\n",
    "print(\"count of all characters in is:\", all_freq)"
   ]
  },
  {
   "cell_type": "code",
   "execution_count": 38,
   "id": "b008d3ef-2f38-4833-83f2-dac6a0d58e1d",
   "metadata": {},
   "outputs": [
    {
     "name": "stdin",
     "output_type": "stream",
     "text": [
      "Enter a string: Wow......!!! Neelam\n"
     ]
    },
    {
     "name": "stdout",
     "output_type": "stream",
     "text": [
      "Wow Neelam\n"
     ]
    }
   ],
   "source": [
    "# 37.Remove all punctuation from a string.\n",
    "import string\n",
    "def remove_punctuation(input_string):\n",
    "# Make a translator object to replace punctuation with none   \n",
    " translator = str.maketrans('', '', string.punctuation)\n",
    "# Use the translator   \n",
    " return input_string.translate(translator)\n",
    "# getting the input from the user\n",
    "test_string = input('Enter a string:')\n",
    "print(remove_punctuation(test_string))"
   ]
  },
  {
   "cell_type": "code",
   "execution_count": 10,
   "id": "a1b81470-2112-49c8-9821-ecb8345351ff",
   "metadata": {},
   "outputs": [
    {
     "name": "stdin",
     "output_type": "stream",
     "text": [
      "Enter a string: 422584nssd\n"
     ]
    }
   ],
   "source": [
    "# 38.Check if a string contains only digits.\n",
    "# getting the input from the user\n",
    "test_string = input('Enter a string:')"
   ]
  },
  {
   "cell_type": "code",
   "execution_count": 5,
   "id": "104ca7c7-0c4e-4192-9614-8a6bb3b74c71",
   "metadata": {},
   "outputs": [
    {
     "name": "stdout",
     "output_type": "stream",
     "text": [
      "The string does not contains digit:\n"
     ]
    }
   ],
   "source": [
    "# using isdigit() method to check a string contains only digit\n",
    "if test_string.isdigit():\n",
    "    print(\"The string contains only digit:\")\n",
    "else:\n",
    "    print(\"The string does not contains digit:\")"
   ]
  },
  {
   "cell_type": "code",
   "execution_count": 3,
   "id": "188b347a-cad0-4b0a-bc1a-d3d6f35cedd2",
   "metadata": {},
   "outputs": [
    {
     "name": "stdin",
     "output_type": "stream",
     "text": [
      "Enter a string: asdgtrrfg\n"
     ]
    }
   ],
   "source": [
    "# 39.Check if a string contains only alphabets.\n",
    "# getting the input from the user\n",
    "test_string = input('Enter a string:')"
   ]
  },
  {
   "cell_type": "code",
   "execution_count": 6,
   "id": "04e1dbed-43b0-4617-89ae-1fca4108d1b0",
   "metadata": {},
   "outputs": [
    {
     "name": "stdout",
     "output_type": "stream",
     "text": [
      "The string contains only alphabates:\n"
     ]
    }
   ],
   "source": [
    "# Using isalpha() method to check a string contains only alphabates\n",
    "if test_string.isalpha():\n",
    "    print(\"The string contains only alphabates:\")\n",
    "else:\n",
    "    print(\"The string does not contains alphabates:\")"
   ]
  },
  {
   "cell_type": "code",
   "execution_count": 15,
   "id": "7c27c017-9d30-460b-9c43-3b1773db787c",
   "metadata": {},
   "outputs": [
    {
     "name": "stdin",
     "output_type": "stream",
     "text": [
      "Enter a string: Hello neelam\n"
     ]
    }
   ],
   "source": [
    "# 40.Convert a string to a list of characters.\n",
    "# getting the input from the user\n",
    "string = input(\"Enter a string:\")"
   ]
  },
  {
   "cell_type": "code",
   "execution_count": 23,
   "id": "85b28f9d-586f-4b36-a5e5-daa4048c5953",
   "metadata": {},
   "outputs": [
    {
     "name": "stdout",
     "output_type": "stream",
     "text": [
      "['H', 'e', 'l', 'l', 'o', ' ', 'n', 'e', 'e', 'l', 'a', 'm']\n"
     ]
    }
   ],
   "source": [
    "# using unpack method to convert string to a list\n",
    "print([*string])"
   ]
  },
  {
   "cell_type": "code",
   "execution_count": 39,
   "id": "789f4256-8c9f-4a5f-a759-2ea34a0abf58",
   "metadata": {},
   "outputs": [
    {
     "name": "stdout",
     "output_type": "stream",
     "text": [
      "The strings are anagrams.\n"
     ]
    }
   ],
   "source": [
    "# 41.Check if two strings are anagrams.\n",
    "# function to check if two strings are anagram or not\n",
    "def check(str1, str2):\n",
    "    return sorted(str1) == sorted(str2)\n",
    "string1 = 'earth'\n",
    "string2 = 'heart'\n",
    "# The sorted strings are checked \n",
    "if check(string1, string2):\n",
    "    print(\"The strings are anagrams.\")\n",
    "else:\n",
    "    print(\"The strings are not anagrams.\")"
   ]
  },
  {
   "cell_type": "code",
   "execution_count": 44,
   "id": "ff120f62-7a3f-4ae4-91e1-109ff643ff92",
   "metadata": {},
   "outputs": [
    {
     "name": "stdout",
     "output_type": "stream",
     "text": [
      "Text : Hello\n",
      "shift: 3\n",
      "cipher: Khoor\n"
     ]
    }
   ],
   "source": [
    "# 42.Encode a string using a Caesar cipher.\n",
    "def encrypt(plainText, shift):\n",
    "    result = \"\"\n",
    "    \n",
    "    # traverse text\n",
    "    for i in range(len(plainText)):\n",
    "        char = plainText[i]\n",
    "    \n",
    "         # Encrypt uppercase characters\n",
    "        if (char.isupper()):\n",
    "            result += chr((ord(char) + shift-65) % 26 + 65)\n",
    "         # Encrypt lowercase characters\n",
    "        else:\n",
    "            result += chr((ord(char) + shift-97) % 26 + 97)\n",
    "        \n",
    "    return result     \n",
    "# check the above function\n",
    "plainText = \"Hello\"\n",
    "shift = 3\n",
    "print(\"Text :\", plainText)\n",
    "print(\"shift:\", shift)\n",
    "print(\"cipher:\", encrypt(plainText, shift))  "
   ]
  },
  {
   "cell_type": "code",
   "execution_count": 45,
   "id": "887d232e-2b12-44e8-8536-246a497f358b",
   "metadata": {},
   "outputs": [],
   "source": [
    " # 43.Decode a Caesar cipher encoded string.\n",
    "def decrypt(plainText, shift):\n",
    "    result = \"\"\n",
    "    \n",
    "    # traverse text\n",
    "    for i in range(len(plainText)):\n",
    "        char = plainText[i]\n",
    "        \n",
    "        # decrypt uppercase charcters\n",
    "        if (char.isupper()):\n",
    "            result += chr((ord(char) - shift-65) % 26 +65)\n",
    "        # decrypt lowercase characters\n",
    "        else:\n",
    "            result += chr((ord(char) - shift-97) % 26 +97)\n",
    "            \n",
    "    return result      "
   ]
  },
  {
   "cell_type": "code",
   "execution_count": 47,
   "id": "88b93486-2ab9-4ab5-9728-36ec2ac5d496",
   "metadata": {},
   "outputs": [
    {
     "name": "stdout",
     "output_type": "stream",
     "text": [
      "Text : Neelam\n",
      "shift: 2\n",
      "cipher: Lccjyk\n"
     ]
    }
   ],
   "source": [
    "# check the above function\n",
    "plainText = \"Neelam\"\n",
    "shift = 2\n",
    "print(\"Text :\", plainText)\n",
    "print(\"shift:\", shift)\n",
    "print(\"cipher:\", decrypt(plainText, shift))"
   ]
  },
  {
   "cell_type": "code",
   "execution_count": 48,
   "id": "bdd87fab-7597-42d1-9dcc-2f9f21cca811",
   "metadata": {},
   "outputs": [
    {
     "name": "stdin",
     "output_type": "stream",
     "text": [
      "Enter a string: Hi hi hi hello\n"
     ]
    },
    {
     "name": "stdout",
     "output_type": "stream",
     "text": [
      "Most frequent word: hi\n"
     ]
    }
   ],
   "source": [
    "# 44.Find the most frequent word in a string.\n",
    "# getting the input from the user\n",
    "test_string = input('Enter a string:')\n",
    "from collections import Counter\n",
    "def most_frequent_word(test_string):\n",
    "   # split the string into words \n",
    "    words = test_string.split()\n",
    "   # count the occurrence of each word \n",
    "    word_counts = Counter(words)\n",
    "   # Find the most common word and its count\n",
    "    most_common_word, _ = word_counts.most_common(1)[0]\n",
    "    \n",
    "    return most_common_word\n",
    "result = most_frequent_word(test_string)\n",
    "# printing the frequent result\n",
    "print(\"Most frequent word:\", result)"
   ]
  },
  {
   "cell_type": "code",
   "execution_count": 11,
   "id": "d6d0fcc5-ba02-4c76-bf86-03d741df35f9",
   "metadata": {},
   "outputs": [
    {
     "name": "stdin",
     "output_type": "stream",
     "text": [
      "Enter a string: python in python\n"
     ]
    },
    {
     "name": "stdout",
     "output_type": "stream",
     "text": [
      "in\n",
      "python\n"
     ]
    }
   ],
   "source": [
    "# 45.Find all unique words in a string.\n",
    "def printWords(string):\n",
    "     \n",
    "    # for loop for iterating\n",
    "    for i in string:\n",
    "        print(i)\n",
    "        \n",
    "# getting the input from the user\n",
    "test_string = input('Enter a string:')\n",
    " \n",
    "# storing string in the form of list of words\n",
    "s = set(test_string.split(\" \"))\n",
    " \n",
    "# passing list to print words function\n",
    "printWords(s)"
   ]
  },
  {
   "cell_type": "code",
   "execution_count": 19,
   "id": "fa6b785e-9d7a-46dd-bf12-f7a8b25b3bd6",
   "metadata": {},
   "outputs": [
    {
     "name": "stdin",
     "output_type": "stream",
     "text": [
      "Enter the word: Hi Neelam\n"
     ]
    },
    {
     "name": "stdout",
     "output_type": "stream",
     "text": [
      "The number of syllables in the word is: \n",
      "4\n"
     ]
    }
   ],
   "source": [
    "# 46.Count the number of syllables in a string.\n",
    "# getting the input from the user\n",
    "word = input('Enter the word:')\n",
    "# count of syllables \n",
    "syllable_count = 0\n",
    "vowels = \"aeiou\"\n",
    "# using loop method\n",
    "for char in word.lower():\n",
    "    if char in vowels:\n",
    "        syllable_count = syllable_count + 1\n",
    "# printing the number of syllables\n",
    "print(\"The number of syllables in the word is: \")\n",
    "print(syllable_count)"
   ]
  },
  {
   "cell_type": "code",
   "execution_count": 29,
   "id": "b5494f0f-2227-4fe4-ac3a-355de2800fc3",
   "metadata": {},
   "outputs": [
    {
     "name": "stdout",
     "output_type": "stream",
     "text": [
      "String is not accepted.\n"
     ]
    }
   ],
   "source": [
    "# 47.Check if a string contains any special characters.\n",
    "# import required package\n",
    "import re\n",
    "\n",
    "def check_string(test_str):\n",
    "    for char in test_str:\n",
    "        # check string contains special characters or not\n",
    "        if ord(char) < 48 or (57 < ord(char) < 65) or (90 < ord(char) < 97) or ord(char) > 122:\n",
    "            return \"String is not accepted.\"\n",
    "    return \"String is accepted.\"\n",
    "\n",
    "# printing a string \n",
    "test_str = \"Hi...@!#\"\n",
    "print(check_string(test_str))"
   ]
  },
  {
   "cell_type": "code",
   "execution_count": 1,
   "id": "c72a430d-683b-4ba8-bad5-bec9d88e297e",
   "metadata": {},
   "outputs": [],
   "source": [
    "# 48.Remove the nth word from a string. \n",
    "def remove_nth_word(test_str, n):\n",
    "   # split the test string in to a list of words\n",
    "    words = test_str.split()\n",
    "    # check if the specified index is within the range of words \n",
    "    if 1 <= n <= len(words):\n",
    "        # Remove the nth word\n",
    "        del words[n - 1]\n",
    "        result_str = ' '.join(words)\n",
    "        return result_str\n",
    "    else:\n",
    "        return \"Invalid value for n\""
   ]
  },
  {
   "cell_type": "code",
   "execution_count": 2,
   "id": "46993474-e174-48c1-9811-6e88c554c3c1",
   "metadata": {},
   "outputs": [
    {
     "name": "stdout",
     "output_type": "stream",
     "text": [
      "This is code.\n"
     ]
    }
   ],
   "source": [
    "# printing a string\n",
    "old_str = \"This is Python code.\"\n",
    "new_str = remove_nth_word(old_str, 3)\n",
    "print(new_str)"
   ]
  },
  {
   "cell_type": "code",
   "execution_count": 49,
   "id": "c258f51e-6c9a-4ba2-83bd-89304c8742ac",
   "metadata": {},
   "outputs": [
    {
     "name": "stdout",
     "output_type": "stream",
     "text": [
      "This is a new sample string\n"
     ]
    }
   ],
   "source": [
    "# 49.Insert a word at the nth position in a string.\n",
    "def insert_word(original_str, word, n):\n",
    "    # insert the word at specified position\n",
    "    return original_str[:n] + word + original_str[n:]\n",
    "# Example usage\n",
    "original_str = \"This is a sample string\"\n",
    "word = \" new\"\n",
    "position_to_insert = 9\n",
    "# printing result\n",
    "result_str = insert_word(original_str, word, position_to_insert)\n",
    "print(result_str)"
   ]
  },
  {
   "cell_type": "code",
   "execution_count": 3,
   "id": "99f0814b-ef0c-411b-937a-c0cf95996622",
   "metadata": {},
   "outputs": [
    {
     "name": "stdout",
     "output_type": "stream",
     "text": [
      "[['Name', 'Age', 'location'], ['Meera', '23', 'Pune '], ['near Baner', ''], ['Susgaon', '21']]\n"
     ]
    }
   ],
   "source": [
    "# 50.Convert a CSV string to a list of lists.\n",
    "import csv\n",
    "from io import StringIO\n",
    "# sample csv string\n",
    "csv_str = \"\"\"Name,Age,location\n",
    "Meera,23,Pune \n",
    "near Baner,\n",
    "Susgaon,21\n",
    "\"\"\"\n",
    "# using StringIO to simulate a file object\n",
    "csv_file = StringIO(csv_str)\n",
    "# using the csv.reader to parse the csv string\n",
    "csv_reader =  csv.reader(csv_file)\n",
    "# converting the csv data to a list of lists\n",
    "csv_list = [row for row in csv_reader]\n",
    "# displaying the r\n",
    "print(csv_list)\n"
   ]
  },
  {
   "cell_type": "code",
   "execution_count": 1,
   "id": "af7d5ad8-39fd-4e06-a4f9-0c7aaa7f9465",
   "metadata": {},
   "outputs": [
    {
     "name": "stdout",
     "output_type": "stream",
     "text": [
      "[1, 2, 3, 4, 5, 6, 7, 8, 9, 10]\n"
     ]
    }
   ],
   "source": [
    "# List Based Practice Problem :\n",
    "\n",
    "# 1.Create a list with integers from 1 to 10.\n",
    "integer_list = range(1, 11)\n",
    "# Print the list\n",
    "print(list(integer_list))"
   ]
  },
  {
   "cell_type": "code",
   "execution_count": 8,
   "id": "73bafa62-cab4-4a9b-8a46-08523c75b57b",
   "metadata": {},
   "outputs": [
    {
     "name": "stdout",
     "output_type": "stream",
     "text": [
      "6\n"
     ]
    }
   ],
   "source": [
    "# 2.Find the length of a list without using the `len()` function.\n",
    "string = \"Neelam\"\n",
    "count = 0\n",
    "# using for loop by iterating every element of a string.\n",
    "for i in string:\n",
    "    # Increment count variable by 1.\n",
    "    count += 1\n",
    "print(count)"
   ]
  },
  {
   "cell_type": "code",
   "execution_count": 11,
   "id": "c2002308-6478-4afc-b17e-51262dbdfbc7",
   "metadata": {},
   "outputs": [
    {
     "name": "stdout",
     "output_type": "stream",
     "text": [
      "[2, 4, 6, 8, 10]\n"
     ]
    }
   ],
   "source": [
    "# 3.Append an element to the end of a list.\n",
    "# element to append\n",
    "list = [2,4,6,8]\n",
    "list.append(10)\n",
    "# printing updated list\n",
    "print(list)"
   ]
  },
  {
   "cell_type": "code",
   "execution_count": 16,
   "id": "fd74860c-06bf-4eac-8b8e-ad7df26bcc3f",
   "metadata": {},
   "outputs": [
    {
     "name": "stdout",
     "output_type": "stream",
     "text": [
      "[1, 2, 3, 4, 5]\n"
     ]
    }
   ],
   "source": [
    "# 4.Insert an element at a specific index in a list.\n",
    "# creating a list\n",
    "list = [1,2,3,5]\n",
    "list.insert(3, 4)\n",
    "print(list)"
   ]
  },
  {
   "cell_type": "code",
   "execution_count": 17,
   "id": "3e08e689-d4cf-44d6-9ab4-51c582f2e3d2",
   "metadata": {},
   "outputs": [
    {
     "name": "stdout",
     "output_type": "stream",
     "text": [
      "[1, 2, 3, 4, 5]\n"
     ]
    }
   ],
   "source": [
    "# 5.Remove an element from a list by its value.\n",
    "# creating a list\n",
    "list = [1,2,3,4,4,5]\n",
    "list.remove(4)\n",
    "print(list)"
   ]
  },
  {
   "cell_type": "code",
   "execution_count": 19,
   "id": "388b5dfd-0ac1-43c1-a115-fd7d8c4aada9",
   "metadata": {},
   "outputs": [
    {
     "name": "stdout",
     "output_type": "stream",
     "text": [
      "[1, 2, 3, 4, 5]\n"
     ]
    }
   ],
   "source": [
    "# 6.Remove an element from a list by its index.\n",
    "# creating a list\n",
    "list = [1,1,2,3,4,5]\n",
    "given_index = 1\n",
    "# using pop function to remove that element of the list at that index\n",
    "list.pop(given_index)\n",
    "print(list)"
   ]
  },
  {
   "cell_type": "code",
   "execution_count": 3,
   "id": "9a938f85-3139-4dde-8012-630e625afa4a",
   "metadata": {},
   "outputs": [
    {
     "name": "stdout",
     "output_type": "stream",
     "text": [
      "not exist\n"
     ]
    }
   ],
   "source": [
    "# 7.Check if an element exists in a list.\n",
    "list = [1,2,3,4,5]\n",
    "# checking element is present in the given list or not\n",
    "i = 7\n",
    "#if element present then return exist otherwise not exist\n",
    "if i in list:\n",
    "    print(\"exist\")\n",
    "else:\n",
    "    print(\"not exist\")"
   ]
  },
  {
   "cell_type": "code",
   "execution_count": 8,
   "id": "b20b31be-0a1a-492b-b4ca-2cd4fd8e77f4",
   "metadata": {},
   "outputs": [
    {
     "name": "stdout",
     "output_type": "stream",
     "text": [
      "1\n"
     ]
    }
   ],
   "source": [
    "# 8.Find the index of the first occurrence of an element in a list.\n",
    "list = [1,2,3,4,5]\n",
    "# Element to find the index\n",
    "element_to_find = 2\n",
    "# Find the index of the first occurrence of the element\n",
    "print(list.index(element_to_find))"
   ]
  },
  {
   "cell_type": "code",
   "execution_count": 4,
   "id": "aa3a11f6-f031-4d2b-9f09-e0badbd9fb98",
   "metadata": {},
   "outputs": [
    {
     "name": "stdout",
     "output_type": "stream",
     "text": [
      "The element 2 occurs 3 times in the list\n"
     ]
    }
   ],
   "source": [
    "# 9.Count the occurrences of an element in a list.\n",
    "list = [1,2,3,4,2,2,5]\n",
    "# count occurrence of the element\n",
    "count = list.count(2)\n",
    "print(f\"The element 2 occurs {count} times in the list\")"
   ]
  },
  {
   "cell_type": "code",
   "execution_count": 5,
   "id": "74c13219-0b65-4324-a3ae-2e70be2c4299",
   "metadata": {},
   "outputs": [
    {
     "name": "stdout",
     "output_type": "stream",
     "text": [
      "[8, 7, 6, 5, 4, 3, 2, 1]\n"
     ]
    }
   ],
   "source": [
    "# 10.Reverse the order of elements in a list.\n",
    "list = [1,2,3,4,5,6,7,8]\n",
    "list.reverse()\n",
    "print(list)"
   ]
  },
  {
   "cell_type": "code",
   "execution_count": 7,
   "id": "2696b9e6-c107-47a9-a7bc-00ab92190a4f",
   "metadata": {},
   "outputs": [
    {
     "name": "stdout",
     "output_type": "stream",
     "text": [
      "Sorted list in ascending order: [1, 2, 3, 4, 6, 8, 9]\n"
     ]
    }
   ],
   "source": [
    "# 11.Sort a list in ascending order.\n",
    "list = [3,2,4,1,6,9,8]\n",
    "# sorting the list in ascending order\n",
    "sorted_list = sorted(list)\n",
    "# printing sorted list\n",
    "print(\"Sorted list in ascending order:\",sorted_list)"
   ]
  },
  {
   "cell_type": "code",
   "execution_count": 9,
   "id": "f4f6d2be-a059-4ece-8665-b2c3a37c29e6",
   "metadata": {},
   "outputs": [
    {
     "name": "stdout",
     "output_type": "stream",
     "text": [
      "[9, 8, 6, 4, 3, 2, 1]\n"
     ]
    }
   ],
   "source": [
    "# 12.Sort a list in descending order.\n",
    "list = [3,2,4,1,6,9,8]\n",
    "# sorting the list in descending order\n",
    "list.sort(reverse=True)\n",
    "print(list)"
   ]
  },
  {
   "cell_type": "code",
   "execution_count": 10,
   "id": "10bca091-3ec1-4e79-97de-7e5f85ea65e7",
   "metadata": {},
   "outputs": [
    {
     "name": "stdout",
     "output_type": "stream",
     "text": [
      "[2, 4, 6, 8, 10, 12, 14, 16, 18, 20]\n"
     ]
    }
   ],
   "source": [
    "# 13.Create a list of even numbers from 1 to 20.\n",
    "# Initialize an empty list\n",
    "even_numbers = []\n",
    "# Iterate through numbers from 1 to 20\n",
    "for num in range(2, 21, 2):\n",
    "        # Append each even number to the list\n",
    "        even_numbers.append(num)\n",
    "# print even numbers\n",
    "print(even_numbers)"
   ]
  },
  {
   "cell_type": "code",
   "execution_count": 13,
   "id": "68b89250-e278-475d-b9dd-36df90941fdf",
   "metadata": {},
   "outputs": [
    {
     "name": "stdout",
     "output_type": "stream",
     "text": [
      "[1, 3, 5, 7, 9, 11, 13, 15, 17, 19]\n"
     ]
    }
   ],
   "source": [
    "# 14.Create a list of odd numbers from 1 to 20. \n",
    "# Initialize an empty list\n",
    "odd_numbers = []\n",
    "# Iterate through numbers from 1 to 20\n",
    "for num in range(1, 21,):\n",
    "    # check if the number is odd(not divisible by 2)\n",
    "    if num % 2 != 0:\n",
    "        # Append each odd number to the list\n",
    "          odd_numbers.append(num)\n",
    "# print odd numbers\n",
    "print(odd_numbers)"
   ]
  },
  {
   "cell_type": "code",
   "execution_count": 14,
   "id": "47d2d8ae-5de4-4a52-8591-b1f41792b0a9",
   "metadata": {},
   "outputs": [
    {
     "name": "stdout",
     "output_type": "stream",
     "text": [
      "15\n"
     ]
    }
   ],
   "source": [
    "# 15.Find the sum of all elements in a list. \n",
    "# Initialize a list\n",
    "my_list = [1,2,3,4,5]\n",
    "# Using sum function \n",
    "sum_of_element = sum(my_list)\n",
    "# print the result\n",
    "print(sum_of_element)"
   ]
  },
  {
   "cell_type": "code",
   "execution_count": 16,
   "id": "46e2312e-5a41-4159-9145-61daeeafbe73",
   "metadata": {},
   "outputs": [
    {
     "name": "stdout",
     "output_type": "stream",
     "text": [
      "5\n"
     ]
    }
   ],
   "source": [
    "# 16.Find the maximum value in a list.\n",
    "# Initialize a list\n",
    "my_list = [1,2,3,4,5]\n",
    "# Using max function \n",
    "max_element = max(my_list)\n",
    "# print the result\n",
    "print(max_element)"
   ]
  },
  {
   "cell_type": "code",
   "execution_count": 17,
   "id": "82c52924-c761-4a43-b5b4-72db8bfc208b",
   "metadata": {},
   "outputs": [
    {
     "name": "stdout",
     "output_type": "stream",
     "text": [
      "1\n"
     ]
    }
   ],
   "source": [
    "# 17.Find the minimum value in a list.\n",
    "# Initialize a list\n",
    "my_list = [1,2,3,4,5]\n",
    "# Using max function \n",
    "min_element = min(my_list)\n",
    "# print the result\n",
    "print(min_element)"
   ]
  },
  {
   "cell_type": "code",
   "execution_count": 2,
   "id": "1d856322-be24-4ccf-b9f5-eace1bb2403c",
   "metadata": {},
   "outputs": [
    {
     "name": "stdout",
     "output_type": "stream",
     "text": [
      "[1, 4, 9, 16, 25, 36, 49, 64, 81, 100]\n"
     ]
    }
   ],
   "source": [
    "# 18.Create a list of squares of numbers from 1 to 10.\n",
    "# Initialize an empty list\n",
    "squares = []\n",
    "# Iterate through numbers from 1 to 10\n",
    "for i in range(1, 11):\n",
    "     # Append each number to the list\n",
    "    squares.append(i**2)\n",
    "# print the result\n",
    "print(squares)"
   ]
  },
  {
   "cell_type": "code",
   "execution_count": 8,
   "id": "1c7221b6-f9e1-42b8-9b38-5c884e23b6e7",
   "metadata": {},
   "outputs": [
    {
     "name": "stdout",
     "output_type": "stream",
     "text": [
      "[3, 30, 4, 96, 64, 85, 2, 32, 58, 79]\n"
     ]
    }
   ],
   "source": [
    "# 19.Create a list of random numbers. \n",
    "import random\n",
    "# Initialize an empty list \n",
    "random_list=[]\n",
    "num=10\n",
    "# Iterate through numbers from random\n",
    "for i in range(num):\n",
    "    # Append each number to the list\n",
    "    random_list.append(random.randint(1,100))\n",
    "# print the result\n",
    "print(random_list)"
   ]
  },
  {
   "cell_type": "code",
   "execution_count": 9,
   "id": "763bc286-6d80-4f17-af0e-f0e31a4ed3d0",
   "metadata": {},
   "outputs": [
    {
     "name": "stdout",
     "output_type": "stream",
     "text": [
      "[1, 2, 3, 4, 5]\n"
     ]
    }
   ],
   "source": [
    "# 20.Remove duplicates from a list.\n",
    "original_list = [1,1,2,3,4,4,5]\n",
    "# convet the list to a set to automatically remove duplicates\n",
    "unique_set = set(original_list)\n",
    "# convert the set back to a list to maintain the original\n",
    "unique_list = list(unique_set)\n",
    "print(unique_list)"
   ]
  },
  {
   "cell_type": "code",
   "execution_count": 5,
   "id": "eaec5b0d-a1db-4c6f-8bfc-bef625ff0dc8",
   "metadata": {},
   "outputs": [
    {
     "name": "stdout",
     "output_type": "stream",
     "text": [
      "[2, 4]\n"
     ]
    }
   ],
   "source": [
    "# 21. Find the common elements between two lists.\n",
    "# define two lists\n",
    "list1 = [4,7,5,8,2]\n",
    "list2 = [9,1,4,2,3]\n",
    "# find common elements using the intersection method or '&' operator\n",
    "common_elements = list(set(list1) & set(list2))\n",
    "print(common_elements)"
   ]
  },
  {
   "cell_type": "code",
   "execution_count": 7,
   "id": "370d5d8c-e1f0-4f68-90bf-36b5136e2179",
   "metadata": {},
   "outputs": [
    {
     "name": "stdout",
     "output_type": "stream",
     "text": [
      "[8, 5, 7]\n"
     ]
    }
   ],
   "source": [
    "# 22.Find the difference between two lists.\n",
    "# define two lists\n",
    "list1 = [4,7,5,8,2]\n",
    "list2 = [9,1,4,2,3]\n",
    "# use sets to find the difference between two lists.\n",
    "difference = list(set(list1) - set(list2))\n",
    "print(difference)"
   ]
  },
  {
   "cell_type": "code",
   "execution_count": 9,
   "id": "c201f0c5-5292-4c8d-8c06-9d4cf9022023",
   "metadata": {},
   "outputs": [
    {
     "name": "stdout",
     "output_type": "stream",
     "text": [
      "[4, 7, 5, 8, 2, 9, 1, 4, 2, 3]\n"
     ]
    }
   ],
   "source": [
    "# 23.Merge two lists. \n",
    "# define two lists\n",
    "list1 = [4,7,5,8,2]\n",
    "list2 = [9,1,4,2,3]\n",
    "# using the extend() method to merge lists\n",
    "list1.extend(list2)\n",
    "print(list1)"
   ]
  },
  {
   "cell_type": "code",
   "execution_count": 15,
   "id": "d4358762-7bd1-4f9d-b8cb-87d7b5888fff",
   "metadata": {},
   "outputs": [
    {
     "name": "stdout",
     "output_type": "stream",
     "text": [
      "[8, 14, 10, 16, 4]\n"
     ]
    }
   ],
   "source": [
    "# 24.Multiply all elements in a list by 2.\n",
    "# define list\n",
    "list1 = [4,7,5,8,2]\n",
    "# using a list comprehension to multiply each element by 2\n",
    "doubled_list = [x*2 for x in list1]\n",
    "print(doubled_list)"
   ]
  },
  {
   "cell_type": "code",
   "execution_count": 14,
   "id": "74a979cf-e251-4d82-ba3e-d331a865725f",
   "metadata": {},
   "outputs": [
    {
     "name": "stdout",
     "output_type": "stream",
     "text": [
      "[1, 3, 5, 7, 9]\n"
     ]
    }
   ],
   "source": [
    "# 25.Filter out all even numbers from a list.\n",
    "# define list\n",
    "list1 = [1,2,3,4,5,6,7,8,9]\n",
    "#list comprehension to filter out even numbers\n",
    "filtered_list = [num for num in list1 if num % 2 != 0]\n",
    "print(filtered_list)"
   ]
  },
  {
   "cell_type": "code",
   "execution_count": 19,
   "id": "0bc6982b-1a72-4911-9ddb-4df0fff4d702",
   "metadata": {},
   "outputs": [
    {
     "name": "stdout",
     "output_type": "stream",
     "text": [
      "[1, 2, 3, 4]\n"
     ]
    }
   ],
   "source": [
    "# 26.Convert a list of strings to a list of integers.\n",
    "# define string list\n",
    "string_list = ['1', '2', '3', '4']\n",
    "# using a list comprehension to convert each string element to an integer\n",
    "int_list = [int(num) for num in string_list]\n",
    "print(int_list)"
   ]
  },
  {
   "cell_type": "code",
   "execution_count": 21,
   "id": "76b72573-782d-468f-b21c-2e2bd031da45",
   "metadata": {},
   "outputs": [
    {
     "name": "stdout",
     "output_type": "stream",
     "text": [
      "['1', '2', '3', '4', '5']\n"
     ]
    }
   ],
   "source": [
    "# 27.Convert a list of integers to a list of strings.\n",
    "# define list\n",
    "list1 = [1,2,3,4,5]\n",
    "# using a list comprehension to convert each integer to an string element\n",
    "str_list = [str(num) for num in list1]\n",
    "print(str_list)"
   ]
  },
  {
   "cell_type": "code",
   "execution_count": 24,
   "id": "3a6a4135-569f-4760-9f3d-0b8dde9748ae",
   "metadata": {},
   "outputs": [
    {
     "name": "stdout",
     "output_type": "stream",
     "text": [
      "Flat List [11, 22, 33, 44, 55, 66, 77, 88, 99, 100]\n"
     ]
    }
   ],
   "source": [
    "# 28.Flatten a nested list. \n",
    "# Original list\n",
    "lis = [[11, 22, 33, 44], [55, 66, 77], [88, 99, 100]]\n",
    " \n",
    "# iterate through the sublist using List comprehension\n",
    "flatList = [element for innerList in lis for element in innerList]\n",
    " \n",
    "# printing flat list\n",
    "print('Flat List', flatList)"
   ]
  },
  {
   "cell_type": "code",
   "execution_count": 2,
   "id": "b6fac44f-f48e-4ec8-b2ef-99f3ea0fbf79",
   "metadata": {},
   "outputs": [
    {
     "name": "stdout",
     "output_type": "stream",
     "text": [
      "[0, 1, 1, 2, 3, 5, 8, 13, 21, 34]\n"
     ]
    }
   ],
   "source": [
    "# 29.Create a list of the first 10 Fibonacci numbers.\n",
    "fibonacci_num = [0, 1]\n",
    "# Iterate to calculate the next 8 fibonacci numbers\n",
    "for _ in range(8):\n",
    "    # calculate the next fibonacci number by summing the last two numbers\n",
    "    next_num = fibonacci_num[-1] + fibonacci_num[-2]\n",
    "    # append the calculated fibonacci number to the list\n",
    "    fibonacci_num.append(next_num)\n",
    "print(fibonacci_num)"
   ]
  },
  {
   "cell_type": "code",
   "execution_count": 5,
   "id": "5ebe7ae2-26bf-413b-9b9d-d3d7ccb50d90",
   "metadata": {},
   "outputs": [
    {
     "name": "stdout",
     "output_type": "stream",
     "text": [
      "The list is not sorted.\n"
     ]
    }
   ],
   "source": [
    "# 30.Check if a list is sorted.\n",
    "# define list\n",
    "list1 = [1,5,3,4,5]\n",
    "# using if-else To check a list is sorted or not \n",
    "if list1 == sorted(list1):\n",
    "    print(\"The list is sorted.\")\n",
    "else:\n",
    "    print(\"The list is not sorted.\")"
   ]
  },
  {
   "cell_type": "code",
   "execution_count": 9,
   "id": "3575d603-9153-4fb3-9298-42af49b6be19",
   "metadata": {},
   "outputs": [
    {
     "name": "stdout",
     "output_type": "stream",
     "text": [
      "[3, 4, 5, 1, 2]\n"
     ]
    }
   ],
   "source": [
    "# 31.Rotate a list to the left by `n` positions.\n",
    "def rotate_left(lst, n):\n",
    "    # using slicing to get elements from index 'n' to the end and concatenate with elements from the start to index 'n'\n",
    "    return lst[n:] + lst[:n]\n",
    "my_list =[1,2,3,4,5]\n",
    "# Rotate the list to the left by 'rotation_count' positions\n",
    "rotated_list = rotate_left(my_list, 2)\n",
    "print(rotated_list)"
   ]
  },
  {
   "cell_type": "code",
   "execution_count": 11,
   "id": "4466fd9b-a4b6-4b8a-9505-d2f7c7af93b9",
   "metadata": {},
   "outputs": [
    {
     "name": "stdout",
     "output_type": "stream",
     "text": [
      "[4, 5, 1, 2, 3]\n"
     ]
    }
   ],
   "source": [
    "# 32.Rotate a list to the right by `n` positions.\n",
    "def rotate_right(lst, n):\n",
    "    # ensure n is within the list lenght\n",
    "    n = n % len(lst)\n",
    "    # using slicing to get elements from index 'n' to the end and concatenate with elements from the start to index 'n'\n",
    "    return lst[-n:] + lst[:-n]\n",
    "my_list =[1,2,3,4,5]\n",
    "# Rotate the list to the rightt by 'rotation_count' positions\n",
    "rotated_list = rotate_right(my_list, 2)\n",
    "print(rotated_list)"
   ]
  },
  {
   "cell_type": "code",
   "execution_count": 3,
   "id": "e4cf206e-1680-4e95-8c1e-ade74dcece5f",
   "metadata": {},
   "outputs": [
    {
     "name": "stdout",
     "output_type": "stream",
     "text": [
      "[2, 3, 5, 7, 11, 13, 17, 19, 23, 29, 31, 37, 41, 43, 47]\n"
     ]
    }
   ],
   "source": [
    "# 33.Create a list of prime numbers up to 50.\n",
    "def is_prime(num):\n",
    "    # function to check if a number is prime\n",
    "    if num < 2:\n",
    "        return False\n",
    "    for i in range(2, int(num**0.5) + 1):\n",
    "        if num % i == 0:\n",
    "            return False\n",
    "    return True\n",
    "# List comprehension to generate a list of prime numbers up to 50\n",
    "prime_num = [num for num in range(2, 51) if is_prime(num)]\n",
    "# print the list of prime numbers\n",
    "print(prime_num)"
   ]
  },
  {
   "cell_type": "code",
   "execution_count": 5,
   "id": "ae048a09-33c6-4df2-a58d-e886a5db6a8b",
   "metadata": {},
   "outputs": [
    {
     "name": "stdout",
     "output_type": "stream",
     "text": [
      "[[1, 2], [3, 4], [5, 6], [7, 8], [9]]\n"
     ]
    }
   ],
   "source": [
    "# 34.Split a list into chunks of size `n`.\n",
    "def chunk_list(lst, n):\n",
    "    #Using list comprehension to create chunks of size 'n'\n",
    "    # the range function generates starting indices for each chunk\n",
    "    return [lst[i:i + n] for i in range(0, len(lst), n)]\n",
    "my_list = [1,2,3,4,5,6,7,8,9]\n",
    "chunked_list = chunk_list(my_list, 2 )\n",
    "print(chunked_list)"
   ]
  },
  {
   "cell_type": "code",
   "execution_count": 4,
   "id": "15c97cfb-3fc7-4756-905d-3b98bafd9da0",
   "metadata": {},
   "outputs": [
    {
     "name": "stdout",
     "output_type": "stream",
     "text": [
      "Second largest number is: 6\n"
     ]
    }
   ],
   "source": [
    "# 35.Find the second largest number in a list.\n",
    "def sec_largest(num):\n",
    "    # remove duplicates using set and sort the list in descending order\n",
    "    sorted_num = sorted(set(num), reverse=True)\n",
    "    # check if there is a second largest number\n",
    "    if len(sorted_num) > 1:\n",
    "        return sorted_num[1]\n",
    "    else:\n",
    "        return \"List does not have a second largest number.\"\n",
    "    \n",
    "my_list = [4,5,7,6]\n",
    "result = sec_largest(my_list)\n",
    "# Display the result\n",
    "print(\"Second largest number is:\", result)"
   ]
  },
  {
   "cell_type": "code",
   "execution_count": 5,
   "id": "5718ba0b-dd7d-4fc5-acd0-c67b25e2b0bb",
   "metadata": {},
   "outputs": [
    {
     "name": "stdout",
     "output_type": "stream",
     "text": [
      "[1, 4, 9, 16, 25, 36]\n"
     ]
    }
   ],
   "source": [
    "# 36.Replace every element in a list with its square.\n",
    "list1 = [1,2,3,4,5,6]\n",
    "# list comprehension to square each element\n",
    "squared_list = [x**2 for x in list1]\n",
    "# print the squared list\n",
    "print(squared_list)"
   ]
  },
  {
   "cell_type": "code",
   "execution_count": 6,
   "id": "26f9dd66-69f8-458e-82fb-7bccc96f8ea9",
   "metadata": {},
   "outputs": [
    {
     "name": "stdout",
     "output_type": "stream",
     "text": [
      "{'appel': 0, 'banana': 1, 'orange': 2}\n"
     ]
    }
   ],
   "source": [
    "# 37.Convert a list to a dictionary where list elements become keys and their indices become values.\n",
    "my_list = ['appel', 'banana', 'orange']\n",
    "# using dictionary comprehension to create a dictionary\n",
    "my_dict = {element: index for index, element in enumerate(my_list)}\n",
    "# display the result\n",
    "print(my_dict)"
   ]
  },
  {
   "cell_type": "code",
   "execution_count": 9,
   "id": "a4603da7-a6d0-4aa4-a0aa-6ae6c36142dd",
   "metadata": {},
   "outputs": [
    {
     "name": "stdout",
     "output_type": "stream",
     "text": [
      "[5, 1, 2, 4, 3]\n"
     ]
    }
   ],
   "source": [
    "# 38.Shuffle the elements of a list randomly.\n",
    "import random\n",
    "my_list = [1,2,3,4,5]\n",
    "# using the random.shuffle function to shuffle the elements of the list\n",
    "random.shuffle(my_list)\n",
    "print(my_list)"
   ]
  },
  {
   "cell_type": "code",
   "execution_count": 11,
   "id": "273db2b4-d60f-41d2-8191-d4d8e861bd38",
   "metadata": {},
   "outputs": [
    {
     "name": "stdout",
     "output_type": "stream",
     "text": [
      "[0, 1, 1, 2, 3, 5, 8, 13, 21, 34, 55, 89]\n"
     ]
    }
   ],
   "source": [
    "# 39.Create a list of the first 10 factorial numbers.\n",
    "fibonacci_num = [0, 1]\n",
    "# Iterate to calculate the next 8 fibonacci numbers\n",
    "for _ in range(10):\n",
    "    # calculate the next fibonacci number by summing the last two numbers\n",
    "    next_num = fibonacci_num[-1] + fibonacci_num[-2]\n",
    "    # append the calculated fibonacci number to the list\n",
    "    fibonacci_num.append(next_num)\n",
    "print(fibonacci_num)"
   ]
  },
  {
   "cell_type": "code",
   "execution_count": 7,
   "id": "5759d094-ded2-4450-8832-4f0abc401b1a",
   "metadata": {},
   "outputs": [
    {
     "name": "stdout",
     "output_type": "stream",
     "text": [
      "There is at least one common element.\n"
     ]
    }
   ],
   "source": [
    "# 40.Check if two lists have at least one element in common.\n",
    "list1 = [1,2,3,4,5]\n",
    "list2 = [5,6,7,8,9,]\n",
    "# use the any function with a list comprehension to check for common elements\n",
    "common_elements = any(element in list1 for element in list2)\n",
    "if common_elements:\n",
    "    print(\"There is at least one common element.\")\n",
    "else:\n",
    "    print(\"No common element found\")"
   ]
  },
  {
   "cell_type": "code",
   "execution_count": 11,
   "id": "d4083cf9-7bf1-4a40-872d-a4af2d408c30",
   "metadata": {},
   "outputs": [
    {
     "name": "stdout",
     "output_type": "stream",
     "text": [
      "None\n"
     ]
    }
   ],
   "source": [
    "# 41.Remove all elements from a list.\n",
    "my_list = [1,2,3,4,5,6]\n",
    "# use the clear() method to remove all elements from the list\n",
    "empty_list = my_list.clear()\n",
    "print(empty_list)"
   ]
  },
  {
   "cell_type": "code",
   "execution_count": 14,
   "id": "13dc0331-a09a-449b-b7ee-d4233fdc1a2b",
   "metadata": {},
   "outputs": [
    {
     "name": "stdout",
     "output_type": "stream",
     "text": [
      "List after replacing negative numbers with 0: [1, 0, 10, 0, 0]\n"
     ]
    }
   ],
   "source": [
    "# 42.Replace negative numbers in a list with 0.\n",
    "my_list = [1,-20,10,-8,-65]\n",
    "# Iterate through the list and replace negative numbers with 0\n",
    "for i in range(len(my_list)):\n",
    "    if my_list[i] < 0:\n",
    "        my_list[i] = 0\n",
    "print(\"List after replacing negative numbers with 0:\", my_list)"
   ]
  },
  {
   "cell_type": "code",
   "execution_count": 16,
   "id": "cc704848-6a4d-444d-ae1c-75b108a74739",
   "metadata": {},
   "outputs": [
    {
     "name": "stdout",
     "output_type": "stream",
     "text": [
      "['Hello,', 'how', 'are', 'you']\n"
     ]
    }
   ],
   "source": [
    "# 43.Convert a string into a list of words.\n",
    "my_string = \"Hello, how are you\"\n",
    "# Convert the string into a list of words\n",
    "word_list = my_string.split()\n",
    "print(word_list)"
   ]
  },
  {
   "cell_type": "code",
   "execution_count": 21,
   "id": "0dc8953a-f9a1-437b-98d1-71b8d90f3171",
   "metadata": {},
   "outputs": [
    {
     "name": "stdout",
     "output_type": "stream",
     "text": [
      "Hello how are you\n"
     ]
    }
   ],
   "source": [
    "# 44.Convert a list of words into a string.\n",
    "word_list = ['Hello', 'how', 'are', 'you']\n",
    "# Convert the list of words into a string\n",
    "my_string = ' '.join(word_list)\n",
    "print(my_string)"
   ]
  },
  {
   "cell_type": "code",
   "execution_count": 29,
   "id": "65942f72-35b8-470d-8c22-f903d330e7aa",
   "metadata": {},
   "outputs": [
    {
     "name": "stdout",
     "output_type": "stream",
     "text": [
      "List of the first power of two: [1, 2, 4, 8, 16]\n"
     ]
    }
   ],
   "source": [
    "# 45.Create a list of the first `n` powers of 2.\n",
    "# Specify the value of n\n",
    "n=5\n",
    "# Create a list of the first n powers of 2 using a loop\n",
    "power_list = [2 ** i for i in range(n)]\n",
    "print(\"List of the first power of two:\", power_list)"
   ]
  },
  {
   "cell_type": "code",
   "execution_count": 33,
   "id": "62eeb5c6-18dd-4097-89ba-294612cdb11c",
   "metadata": {},
   "outputs": [
    {
     "name": "stdout",
     "output_type": "stream",
     "text": [
      "strawberry\n"
     ]
    }
   ],
   "source": [
    "# 46.Find the longest string in a list of strings.\n",
    "string_list = ['appel', 'banana', 'strawberry', 'grapes']\n",
    "# using the max function with key=len to find the longest string\n",
    "longest_string = max(string_list, key=len)\n",
    "print(longest_string)"
   ]
  },
  {
   "cell_type": "code",
   "execution_count": 34,
   "id": "507038f3-cf59-4b2b-97cd-0d8d00b7cc7a",
   "metadata": {},
   "outputs": [
    {
     "name": "stdout",
     "output_type": "stream",
     "text": [
      "appel\n"
     ]
    }
   ],
   "source": [
    "# 47.Find the shortest string in a list of strings.\n",
    "string_list = ['appel', 'banana', 'strawberry', 'grapes']\n",
    "# using the min function with key=len to find the longest string\n",
    "shortest_string = min(string_list, key=len)\n",
    "print(shortest_string)"
   ]
  },
  {
   "cell_type": "code",
   "execution_count": 36,
   "id": "747b589c-dc47-485e-838d-f1fa1f8dadd2",
   "metadata": {},
   "outputs": [
    {
     "name": "stdout",
     "output_type": "stream",
     "text": [
      "[1, 3, 6, 10, 15]\n"
     ]
    }
   ],
   "source": [
    "# 48.Create a list of the first `n` triangular numbers.\n",
    "# Specify the value of n\n",
    "n = 5\n",
    "# create a list of the first 'n' triangular numbers using list comprehension\n",
    "triangular_num = [i * (i + 1) // 2 for i in range(1, n + 1)]\n",
    "print(triangular_num)"
   ]
  },
  {
   "cell_type": "code",
   "execution_count": 42,
   "id": "ec596d0d-125e-4fc3-9d6c-617dcbacebfd",
   "metadata": {},
   "outputs": [
    {
     "name": "stdout",
     "output_type": "stream",
     "text": [
      "False\n"
     ]
    }
   ],
   "source": [
    "# 49.Check if a list contains another list as a subsequence.\n",
    "def is_subsequence(sub, lst):\n",
    "    sub_len, lst_len = len(sub), len(lst)\n",
    "    # Index for the subsequence elements\n",
    "    i = j = 0\n",
    "    # Iterate through the lst\n",
    "    while i < sub_len and j < lst_len:\n",
    "        #check if the current elements match\n",
    "        if sub[i] == lst[j]:\n",
    "            # move the subsequence to the forword\n",
    "            i += 1\n",
    "            # move the main_list to the forword\n",
    "        j += 1\n",
    "        # if all elements of the subsequence are found\n",
    "    return i == sub_len\n",
    "main_list = [1, 2, 3, 4, 5]\n",
    "sub_list = [6, 2, 3, 4, 5]\n",
    "\n",
    "result = is_subsequence(sub_list, main_list)\n",
    "print(result)"
   ]
  },
  {
   "cell_type": "code",
   "execution_count": 44,
   "id": "7aa34200-9e60-4f52-8f1d-8f4c4e64053a",
   "metadata": {},
   "outputs": [
    {
     "name": "stdout",
     "output_type": "stream",
     "text": [
      "[1, 4, 3, 2, 5]\n"
     ]
    }
   ],
   "source": [
    "# 50.Swap two elements in a list by their indices.\n",
    "my_list = [1, 2, 3, 4, 5]\n",
    "# swap elements at index 1 and 3 using temporary variable\n",
    "temp = my_list[1]\n",
    "my_list[1] = my_list[3]\n",
    "my_list[3] = temp\n",
    "# print the list after swapping \n",
    "print(my_list)"
   ]
  },
  {
   "cell_type": "code",
   "execution_count": 2,
   "id": "f43b0dd3-cdee-49ae-9ef9-363329548ec8",
   "metadata": {},
   "outputs": [],
   "source": [
    "#1.Create a tuple with integers from 1 to 5.\n",
    "# creating a tuple with integers from 1 to 5\n",
    "my_tuple = (1, 2, 3, 4, 5)"
   ]
  },
  {
   "cell_type": "code",
   "execution_count": 5,
   "id": "4a809b84-f994-4568-9889-c6e77b586869",
   "metadata": {},
   "outputs": [
    {
     "data": {
      "text/plain": [
       "3"
      ]
     },
     "execution_count": 5,
     "metadata": {},
     "output_type": "execute_result"
    }
   ],
   "source": [
    "# 2.Access the third element of a tuple.\n",
    "# define a tuple\n",
    "my_tuple = (1, 2, 3, 4, 5)\n",
    "my_tuple[2]"
   ]
  },
  {
   "cell_type": "code",
   "execution_count": 6,
   "id": "cf421331-0550-4afe-9fb4-552322175130",
   "metadata": {},
   "outputs": [
    {
     "name": "stdout",
     "output_type": "stream",
     "text": [
      "5\n"
     ]
    }
   ],
   "source": [
    "# 3.Find the length of a tuple without using the `len()` function.\n",
    "# define a tuple\n",
    "my_tuple = (1, 2, 3, 4, 5)\n",
    "# Initialize a variable to store the length\n",
    "tuple_length = 0\n",
    "# Iterate through each element in the tuple\n",
    "for i in my_tuple:\n",
    "#Increment the length for each element\n",
    "    tuple_length += 1\n",
    "# printing the calculated length\n",
    "print(tuple_length)"
   ]
  },
  {
   "cell_type": "code",
   "execution_count": 9,
   "id": "ef29da00-71e7-48f3-8970-bc33d2955a53",
   "metadata": {},
   "outputs": [
    {
     "name": "stdout",
     "output_type": "stream",
     "text": [
      "The element 2 appears 2 time in the tuple\n"
     ]
    }
   ],
   "source": [
    "# 4.Count the occurrences of an element in a tuple.\n",
    "# define a tuple\n",
    "my_tuple = (1, 2, 3, 4, 5, 2)\n",
    "# specify the element you want to count\n",
    "count = 2\n",
    "# use the count() method to count occurrences of the specified element\n",
    "occurrences = my_tuple.count(count)\n",
    "# print the result\n",
    "print(f\"The element {count} appears {occurrences} time in the tuple\" )"
   ]
  },
  {
   "cell_type": "code",
   "execution_count": 10,
   "id": "53d25088-abc0-454f-9817-1f600341a9ed",
   "metadata": {},
   "outputs": [
    {
     "name": "stdout",
     "output_type": "stream",
     "text": [
      "Index of 2 : 1\n"
     ]
    }
   ],
   "source": [
    "# 5.Find the index of the first occurrence of an element in a tuple.\n",
    "# define a tuple\n",
    "my_tuple = (1, 2, 3, 4, 5)\n",
    "# Element to find in the tuple\n",
    "element = 2\n",
    "# use the index() method to find the index of the first occurrence\n",
    "index = my_tuple.index(element)\n",
    "# print the result\n",
    "print(\"Index of\", element, \":\", index)"
   ]
  },
  {
   "cell_type": "code",
   "execution_count": 12,
   "id": "cc512b5d-8f5f-4f18-950d-6c74b052ec4e",
   "metadata": {},
   "outputs": [
    {
     "name": "stdout",
     "output_type": "stream",
     "text": [
      "Element 6 does not exists in the tuple.\n"
     ]
    }
   ],
   "source": [
    "# 6.Check if an element exists in a tuple.\n",
    "# define a tuple\n",
    "my_tuple = (1, 2, 3, 4, 5)\n",
    "# check if an element in the tuple\n",
    "if 6 in my_tuple:\n",
    "    print(\"Element 6 exists in the tuple.\")\n",
    "else:\n",
    "    print(\"Element 6 does not exists in the tuple.\")"
   ]
  },
  {
   "cell_type": "code",
   "execution_count": 15,
   "id": "9423fcad-5df3-4f96-a40c-c87c38ec357b",
   "metadata": {},
   "outputs": [
    {
     "name": "stdout",
     "output_type": "stream",
     "text": [
      "[1, 2, 3, 4, 5]\n"
     ]
    }
   ],
   "source": [
    "# 7.Convert a tuple to a list.\n",
    "# define a tuple\n",
    "my_tuple = (1, 2, 3, 4, 5)\n",
    "# converting a tuple in to list\n",
    "my_list = list(my_tuple)\n",
    "print(my_list)"
   ]
  },
  {
   "cell_type": "code",
   "execution_count": 18,
   "id": "fa3207fc-82c9-4b77-bea7-3314920076e8",
   "metadata": {},
   "outputs": [
    {
     "name": "stdout",
     "output_type": "stream",
     "text": [
      "(1, 2, 3, 4, 5)\n"
     ]
    }
   ],
   "source": [
    "# 8.Convert a list to a tuple.\n",
    "# define a list\n",
    "my_list = [1, 2, 3, 4, 5]\n",
    "# converting a list in to tuple\n",
    "my_tuple = tuple(my_list)\n",
    "print(my_tuple)"
   ]
  },
  {
   "cell_type": "code",
   "execution_count": 8,
   "id": "1a77d492-6f66-406f-a6eb-a468f827bedd",
   "metadata": {},
   "outputs": [
    {
     "name": "stdout",
     "output_type": "stream",
     "text": [
      "1\n",
      "5\n",
      "3\n"
     ]
    }
   ],
   "source": [
    "# 9.Unpack the elements of a tuple into variables.\n",
    "tuple_element = (1, 5, 3)\n",
    "# Unpack the elements of a tuple into variables\n",
    "var1, var2, var3 = tuple_element\n",
    "#Print the variables\n",
    "print(var1)\n",
    "print(var2)\n",
    "print(var3)"
   ]
  },
  {
   "cell_type": "code",
   "execution_count": 3,
   "id": "be0560cc-5968-4714-a447-5f1672385ef0",
   "metadata": {},
   "outputs": [
    {
     "name": "stdout",
     "output_type": "stream",
     "text": [
      "(2, 4, 6, 8, 10)\n"
     ]
    }
   ],
   "source": [
    "# 10.Create a tuple of even numbers from 1 to 10.\n",
    "# This line of code initializes a variable named evens and assigns it a tuple created using a generator expression\n",
    "evens = tuple(x for x in range(1, 11) if x % 2 == 0)\n",
    "print(evens)"
   ]
  },
  {
   "cell_type": "code",
   "execution_count": 6,
   "id": "32906add-8eb1-4475-9b3a-e2726f13c58b",
   "metadata": {},
   "outputs": [
    {
     "name": "stdout",
     "output_type": "stream",
     "text": [
      "(1, 3, 5, 7, 9)\n"
     ]
    }
   ],
   "source": [
    "# 11.Create a tuple of odd numbers from 1 to 10.\n",
    "#This line of code initializes a variable named odds and assigns it a tuple created using a generator expression\n",
    "odds = tuple(x for x in range(1, 11) if x % 2 == 1)\n",
    "print(odds)"
   ]
  },
  {
   "cell_type": "code",
   "execution_count": 9,
   "id": "8ed8a4c6-dddf-4f37-9d97-b3894177468e",
   "metadata": {},
   "outputs": [
    {
     "name": "stdout",
     "output_type": "stream",
     "text": [
      "(1, 2, 3, 4, 5, 6, 7, 8)\n"
     ]
    }
   ],
   "source": [
    "# 12.Concatenate two tuples.\n",
    "# define two tuples\n",
    "tuple1 = (1, 2, 3, 4)\n",
    "tuple2 = (5, 6, 7, 8)\n",
    "# using + operator\n",
    "result = tuple1 + tuple2\n",
    "# printing result\n",
    "print(result)"
   ]
  },
  {
   "cell_type": "code",
   "execution_count": 13,
   "id": "af8147ff-a377-4ee4-a527-52e35eac1398",
   "metadata": {},
   "outputs": [
    {
     "name": "stdout",
     "output_type": "stream",
     "text": [
      "(5, 1, 4, 2, 3, 5, 1, 4, 2, 3, 5, 1, 4, 2, 3)\n"
     ]
    }
   ],
   "source": [
    "# 13.Repeat a tuple three times.\n",
    "my_tuple = (5, 1, 4, 2, 3)\n",
    "# using * operator\n",
    "result = my_tuple * 3\n",
    "# printing result\n",
    "print(result)"
   ]
  },
  {
   "cell_type": "code",
   "execution_count": 17,
   "id": "fbdbaeab-2790-4a0e-bfaf-4e4d9b44793d",
   "metadata": {},
   "outputs": [
    {
     "name": "stdout",
     "output_type": "stream",
     "text": [
      "tuple is empty\n"
     ]
    }
   ],
   "source": [
    "# 14.Check if a tuple is empty.\n",
    "my_tuple = ()\n",
    "# Check if a tuple is empty.\n",
    "if not my_tuple:\n",
    "    print(\"tuple is empty\")\n",
    "else:\n",
    "    print(\"tuple is not empty\")"
   ]
  },
  {
   "cell_type": "code",
   "execution_count": 21,
   "id": "f277bbc4-2e30-441a-89be-86722d1b271a",
   "metadata": {},
   "outputs": [
    {
     "name": "stdout",
     "output_type": "stream",
     "text": [
      "((1, 2), ('a', 'b'), (3, 4))\n"
     ]
    }
   ],
   "source": [
    "# 15.Create a nested tuple.\n",
    "# Creating a nested tuple.\n",
    "nested_tuple = ((1, 2), ('a', 'b'), (3, 4))\n",
    "print(nested_tuple)"
   ]
  },
  {
   "cell_type": "code",
   "execution_count": 5,
   "id": "78b253fc-8fad-4cfa-a773-04be3eec1f3a",
   "metadata": {},
   "outputs": [
    {
     "name": "stdout",
     "output_type": "stream",
     "text": [
      "1\n"
     ]
    }
   ],
   "source": [
    "# 16.Access the first element of a nested tuple.\n",
    "# Creating a nested tuple.\n",
    "nested_tuple = ((1, 2), ('a', 'b'), (3, 4))\n",
    "# Accessing the first element of a nested tuple.\n",
    "first_element = nested_tuple[0][0]\n",
    "print(first_element)"
   ]
  },
  {
   "cell_type": "code",
   "execution_count": 8,
   "id": "dfa14659-b1d1-4fd5-ace8-a40f0db89ea3",
   "metadata": {},
   "outputs": [
    {
     "name": "stdout",
     "output_type": "stream",
     "text": [
      "(21,)\n"
     ]
    }
   ],
   "source": [
    "# 17.Create a tuple with a single element.\n",
    "# creating a tuple\n",
    "my_tuple = (21,)\n",
    "print(my_tuple)"
   ]
  },
  {
   "cell_type": "code",
   "execution_count": 10,
   "id": "7a72d3ed-1958-4fb0-8583-5278fe3b7e83",
   "metadata": {},
   "outputs": [
    {
     "name": "stdout",
     "output_type": "stream",
     "text": [
      "Elements are not equal\n"
     ]
    }
   ],
   "source": [
    "# 18.Compare two tuples.\n",
    "# define two tuples\n",
    "tuple1 = (1, 2, 3, 4)\n",
    "tuple2 = (5, 6, 7, 8)\n",
    "#comparing two tuples\n",
    "if tuple1 == tuple2:\n",
    "    print(\"elements are equal\")\n",
    "else:\n",
    "    print(\"Elements are not equal\")"
   ]
  },
  {
   "cell_type": "code",
   "execution_count": 13,
   "id": "4479133e-00fb-4545-80ab-185a2d1afcc7",
   "metadata": {},
   "outputs": [
    {
     "ename": "NameError",
     "evalue": "name 'my_tuple' is not defined",
     "output_type": "error",
     "traceback": [
      "\u001b[0;31m---------------------------------------------------------------------------\u001b[0m",
      "\u001b[0;31mNameError\u001b[0m                                 Traceback (most recent call last)",
      "Cell \u001b[0;32mIn[13], line 6\u001b[0m\n\u001b[1;32m      4\u001b[0m \u001b[38;5;66;03m# delete the entire tuple\u001b[39;00m\n\u001b[1;32m      5\u001b[0m \u001b[38;5;28;01mdel\u001b[39;00m my_tuple\n\u001b[0;32m----> 6\u001b[0m \u001b[38;5;28mprint\u001b[39m(\u001b[43mmy_tuple\u001b[49m)\n",
      "\u001b[0;31mNameError\u001b[0m: name 'my_tuple' is not defined"
     ]
    }
   ],
   "source": [
    "# 19.Delete a tuple.\n",
    "# define a tuple\n",
    "my_tuple = (1, 2, 3)\n",
    "# delete the entire tuple\n",
    "del my_tuple\n",
    "print(my_tuple)"
   ]
  },
  {
   "cell_type": "code",
   "execution_count": 18,
   "id": "1a57ea9c-c84e-48c2-a7b4-4b2522394d03",
   "metadata": {},
   "outputs": [
    {
     "name": "stdout",
     "output_type": "stream",
     "text": [
      "(3, 4)\n"
     ]
    }
   ],
   "source": [
    "# 20.slice a tuple.\n",
    "# define a tuple\n",
    "my_tuple = (1, 2, 3, 4)\n",
    "sliced_tuple = my_tuple[2:4]\n",
    "print(sliced_tuple)"
   ]
  },
  {
   "cell_type": "code",
   "execution_count": 1,
   "id": "53ff0010-996d-40d1-b9e0-e3193c19e40c",
   "metadata": {},
   "outputs": [
    {
     "name": "stdout",
     "output_type": "stream",
     "text": [
      "8\n"
     ]
    }
   ],
   "source": [
    "# 21.Find the maximum value in a tuple.\n",
    "# define a tuple\n",
    "my_tuple = (5, 4, 8, 1, 2)\n",
    "# finding the maximum value by using max function\n",
    "max_val = max(my_tuple)\n",
    "print(max_val)"
   ]
  },
  {
   "cell_type": "code",
   "execution_count": 2,
   "id": "a2b1bfba-624b-4209-96b9-e6d3641be828",
   "metadata": {},
   "outputs": [
    {
     "name": "stdout",
     "output_type": "stream",
     "text": [
      "1\n"
     ]
    }
   ],
   "source": [
    "# 22.Find the minimum value in a tuple.\n",
    "# define a tuple\n",
    "my_tuple = (5, 4, 8, 1, 2)\n",
    "# finding the minimum value by using max function\n",
    "min_val = min(my_tuple)\n",
    "print(min_val)"
   ]
  },
  {
   "cell_type": "code",
   "execution_count": 4,
   "id": "d2515679-455f-4096-b49e-5df3cb85292d",
   "metadata": {},
   "outputs": [
    {
     "name": "stdout",
     "output_type": "stream",
     "text": [
      "('H', 'e', 'l', 'l', 'o')\n"
     ]
    }
   ],
   "source": [
    "# 23.Convert a string to a tuple of characters.\n",
    "my_string = \"Hello\"\n",
    "# using the tuple() constructor to convert the string to a tuple of characters\n",
    "tuple_of_char = tuple(my_string)\n",
    "print(tuple_of_char)"
   ]
  },
  {
   "cell_type": "code",
   "execution_count": 7,
   "id": "b22bcec4-4188-4f56-a1a4-baddec0c527d",
   "metadata": {},
   "outputs": [
    {
     "name": "stdout",
     "output_type": "stream",
     "text": [
      "Hello\n"
     ]
    }
   ],
   "source": [
    "# 24.Convert a tuple of characters to a string.\n",
    "my_tuple = ('H', 'e', 'l', 'l', 'o')\n",
    "# using the join() method to concatenate the characters in to string\n",
    "my_string = ''.join(my_tuple)\n",
    "print(my_string)"
   ]
  },
  {
   "cell_type": "code",
   "execution_count": 8,
   "id": "b8020e54-5fc0-4ec8-91b9-6ba73ede4cf9",
   "metadata": {},
   "outputs": [
    {
     "name": "stdout",
     "output_type": "stream",
     "text": [
      "(5, 'Neelam', 3.14, True)\n"
     ]
    }
   ],
   "source": [
    "# 25.Create a tuple from multiple data types.\n",
    "# creating a tuple with multiple data types\n",
    "my_tuple = (5, \"Neelam\", 3.14, True)\n",
    "# Displaying result\n",
    "print(my_tuple)"
   ]
  },
  {
   "cell_type": "code",
   "execution_count": 12,
   "id": "9a9a2263-9ff4-4554-970a-c193f94aa891",
   "metadata": {},
   "outputs": [
    {
     "name": "stdout",
     "output_type": "stream",
     "text": [
      "Tuples are not identical\n"
     ]
    }
   ],
   "source": [
    "# 26.Check if two tuples are identical.\n",
    "tuple1 = (1, 2, 3, 4)\n",
    "tuple2 = (1, 2, 5, 4)\n",
    "\n",
    "if tuple1 == tuple2:\n",
    "    print(\"Tuples are identical\")\n",
    "else:\n",
    "    print(\"Tuples are not identical\")\n"
   ]
  },
  {
   "cell_type": "code",
   "execution_count": 14,
   "id": "721fa265-9e80-42c1-8a2b-1ea9aca54789",
   "metadata": {},
   "outputs": [
    {
     "name": "stdout",
     "output_type": "stream",
     "text": [
      "(1, 2, 4, 5, 6)\n"
     ]
    }
   ],
   "source": [
    "# 27.Sort the elements of a tuple.\n",
    "my_tuple = (1, 2, 5, 6, 4)\n",
    "# Use the sorted() function to sort the elements of the tuple\n",
    "sorted_tuple = tuple(sorted(my_tuple))\n",
    "print(sorted_tuple)"
   ]
  },
  {
   "cell_type": "code",
   "execution_count": 15,
   "id": "813634be-086e-493e-b083-47b051a658e2",
   "metadata": {},
   "outputs": [
    {
     "name": "stdout",
     "output_type": "stream",
     "text": [
      "('1', '5', '4', '2', '3')\n"
     ]
    }
   ],
   "source": [
    "# 28.Convert a tuple of integers to a tuple of strings.\n",
    "my_tuple = (1, 5, 4, 2, 3)\n",
    "string_tuple = tuple(map(str, my_tuple))\n",
    "print(string_tuple)"
   ]
  },
  {
   "cell_type": "code",
   "execution_count": 17,
   "id": "0eeb0ab6-769a-4321-8296-dd162f2d1ab8",
   "metadata": {},
   "outputs": [
    {
     "name": "stdout",
     "output_type": "stream",
     "text": [
      "(1, 5, 4, 2, 3)\n"
     ]
    }
   ],
   "source": [
    "# 29.Convert a tuple of strings to a tuple of integers.\n",
    "string_tuple = ('1', '5', '4', '2', '3')\n",
    "# Convert a tuple of strings to a tuple of integers by using comprehension\n",
    "my_tuple = tuple(map(int, string_tuple))\n",
    "print(my_tuple)"
   ]
  },
  {
   "cell_type": "code",
   "execution_count": 1,
   "id": "0905ea6d-368d-4397-95f9-b5af83382f9a",
   "metadata": {},
   "outputs": [
    {
     "name": "stdout",
     "output_type": "stream",
     "text": [
      "(1, 2, 3, 4, 'a', 'b', 'c')\n"
     ]
    }
   ],
   "source": [
    "# 30.Merge two tuples.\n",
    "tuple1 = (1, 2, 3, 4)\n",
    "tuple2 = ('a','b','c')\n",
    "# Merging the tuples using the operator\n",
    "merged_tuple = tuple1 + tuple2\n",
    "# printing result\n",
    "print(merged_tuple)"
   ]
  },
  {
   "cell_type": "code",
   "execution_count": 2,
   "id": "fe297656-1681-4c1b-95b1-179172c48fd9",
   "metadata": {},
   "outputs": [
    {
     "name": "stdout",
     "output_type": "stream",
     "text": [
      "(1, 2, 3, 4, 5, 6)\n"
     ]
    }
   ],
   "source": [
    "# 31.Flatten a nested tuple.\n",
    "# recursive function to flatten a nested tuple\n",
    "def flatten_tuple(nested_tuple):\n",
    "    flattened = []\n",
    "    for item in nested_tuple:\n",
    "        if isinstance(item, tuple):\n",
    "            flattened.extend(flatten_tuple(item))\n",
    "        else:\n",
    "            flattened.append(item)\n",
    "    return tuple(flattened)\n",
    "# Create a nested tuple\n",
    "nested_tuple = ((1, 2), (3, (4, 5)), 6)\n",
    "# Flatten the nested tuple\n",
    "flattened_tuple = flatten_tuple(nested_tuple)\n",
    "print(flattened_tuple)"
   ]
  },
  {
   "cell_type": "code",
   "execution_count": 1,
   "id": "fecba31f-77d1-4497-82fd-87276d171d12",
   "metadata": {},
   "outputs": [
    {
     "name": "stdout",
     "output_type": "stream",
     "text": [
      "[2, 3, 5, 7, 11]\n"
     ]
    }
   ],
   "source": [
    "# 32.Create a tuple of the first 5 prime numbers.\n",
    "# Function to check if a number is prime\n",
    "def is_prime(n):\n",
    "    if n <= 1:\n",
    "        return False\n",
    "    for i in range(2, int(n**0.5) + 1):\n",
    "        if n % i == 0:\n",
    "            return False\n",
    "    return True\n",
    "# Generate the first 5 prime numbers\n",
    "prime_numbers = [x for x in range(2, 100) if is_prime(x)] [:5]\n",
    "print(prime_numbers)"
   ]
  },
  {
   "cell_type": "code",
   "execution_count": 6,
   "id": "e7cd8613-7f6c-4ce7-991b-55c78b750d77",
   "metadata": {},
   "outputs": [
    {
     "name": "stdout",
     "output_type": "stream",
     "text": [
      "True\n"
     ]
    }
   ],
   "source": [
    "# 33.Check if a tuple is a palindrome.\n",
    "# Function to check if a tuple is a palindrome\n",
    "def is_palindrome(tup):\n",
    "    return tup == tup[::-1]\n",
    "# Create tuples for testing\n",
    "my_tuple = (1, 2, 3, 4, 3, 2, 1)\n",
    "result = is_palindrome(my_tuple)\n",
    "print(result)"
   ]
  },
  {
   "cell_type": "code",
   "execution_count": 8,
   "id": "2fb66f21-57f2-4b88-988d-dbc9b67694cf",
   "metadata": {},
   "outputs": [
    {
     "name": "stdout",
     "output_type": "stream",
     "text": [
      "Tuple of squares: (1, 4, 9, 16, 25)\n"
     ]
    }
   ],
   "source": [
    "# 34.Create a tuple of squares of numbers from 1 to 5.\n",
    "# Create a tuple of squares using a list comprehension\n",
    "squares_tuple = tuple(x ** 2 for x in range(1, 6))\n",
    "# Print the tuple of squares\n",
    "print(\"Tuple of squares:\", squares_tuple)"
   ]
  },
  {
   "cell_type": "code",
   "execution_count": 10,
   "id": "361f81fd-c666-4304-b8b1-e442f797e9d1",
   "metadata": {},
   "outputs": [
    {
     "name": "stdout",
     "output_type": "stream",
     "text": [
      "(1, 3, 5, 7, 9)\n"
     ]
    }
   ],
   "source": [
    "# 35.Filter out all even numbers from a tuple.\n",
    "# create a tuple\n",
    "my_tuple = (1, 2, 3, 4, 5, 6, 7, 8, 9)\n",
    "# Filter out even numbers using a list comprehension\n",
    "filtered_tuple = tuple(x for x in my_tuple if x % 2 != 0)\n",
    "# Print the filtered tuple\n",
    "print(filtered_tuple)"
   ]
  },
  {
   "cell_type": "code",
   "execution_count": 14,
   "id": "0a9dfb74-dcb9-4033-9bbf-eae5e5aed1cd",
   "metadata": {},
   "outputs": [
    {
     "name": "stdout",
     "output_type": "stream",
     "text": [
      "Doubled tuple: (2, 4, 6, 8, 10)\n"
     ]
    }
   ],
   "source": [
    "# 36.Multiply all elements in a tuple by 2.\n",
    "# create a tuple\n",
    "my_tuple = (1, 2, 3, 4, 5)\n",
    "# Multiply all elements by 2 using a list comprehension and convert to a tuple\n",
    "doubled_tuple = tuple(x * 2 for x in my_tuple)\n",
    "# Print the doubled tuple\n",
    "print(\"Doubled tuple:\", doubled_tuple)"
   ]
  },
  {
   "cell_type": "code",
   "execution_count": 17,
   "id": "ff06b89d-1257-45f9-842a-19112d369a98",
   "metadata": {},
   "outputs": [
    {
     "name": "stdout",
     "output_type": "stream",
     "text": [
      "(96, 67, 75, 62, 84, 56, 19, 20, 3, 61)\n"
     ]
    }
   ],
   "source": [
    "# 37.Create a tuple of random numbers.\n",
    "import random\n",
    "# Create a tuple of random numbers using a list comprehension\n",
    "random_numbers = tuple(random.randint(1, 100) for x in range(10))\n",
    "# Print the tuple of random numbers\n",
    "print(random_numbers)"
   ]
  },
  {
   "cell_type": "code",
   "execution_count": 3,
   "id": "305ddd91-c3c6-4a9e-92d2-1ac0cc1d0563",
   "metadata": {},
   "outputs": [
    {
     "name": "stdout",
     "output_type": "stream",
     "text": [
      "True\n"
     ]
    }
   ],
   "source": [
    "# 38.Check if a tuple is sorted.\n",
    "# create a tuple\n",
    "my_tuple = (1,2,3,4,5)\n",
    "# check if the tuples are sorted\n",
    "is_sorted = my_tuple == tuple(sorted(my_tuple))\n",
    "print(is_sorted)"
   ]
  },
  {
   "cell_type": "code",
   "execution_count": 7,
   "id": "46426b72-6f68-45af-bc2f-42ae5bd6547b",
   "metadata": {},
   "outputs": [
    {
     "name": "stdout",
     "output_type": "stream",
     "text": [
      "(3, 4, 5, 1, 2)\n"
     ]
    }
   ],
   "source": [
    "# 39.Rotate a tuple to the left by `n` positions.\n",
    "def rotate_left(tup, n):\n",
    "    n = n % len(tup)\n",
    "    # Ensure n is within the range of tuple length\n",
    "    rotated_tuple = tup[n:] + tup[:n]\n",
    "    # Rotate the tuple\n",
    "    return rotated_tuple\n",
    "my_tuple = (1, 2, 3, 4, 5)\n",
    "n_positions = 2\n",
    "result = rotate_left(my_tuple, n_positions)\n",
    "print(result)"
   ]
  },
  {
   "cell_type": "code",
   "execution_count": 2,
   "id": "4726df5d-f263-4062-a75f-08ed5f357642",
   "metadata": {},
   "outputs": [
    {
     "name": "stdout",
     "output_type": "stream",
     "text": [
      "(4, 5, 1, 2, 3)\n"
     ]
    }
   ],
   "source": [
    "# 40.Rotate a tuple to the right by `n` positions.\n",
    "def rotate_right(tup, n):\n",
    "    n = n % len(tup)\n",
    "    # Ensure n is within the range of tuple length\n",
    "    rotated_tuple = tup[-n:] + tup[:-n]\n",
    "    # Rotate the tuple\n",
    "    return rotated_tuple\n",
    "my_tuple = (1, 2, 3, 4, 5)\n",
    "n_positions = 2\n",
    "result = rotate_right(my_tuple, n_positions)\n",
    "print(result)"
   ]
  },
  {
   "cell_type": "code",
   "execution_count": 2,
   "id": "3be5b941-9ed2-4505-b57c-0ea2aa1f324d",
   "metadata": {},
   "outputs": [
    {
     "name": "stdout",
     "output_type": "stream",
     "text": [
      "(0, 1, 2, 3, 5)\n"
     ]
    }
   ],
   "source": [
    "# 41.Create a tuple of the first 5 Fibonacci numbers.\n",
    "# Define a function to generate the first n Fibonacci numbers\n",
    "def generate_fibonacci(n):\n",
    "    result = [0]\n",
    "    a,b = [0, 1]\n",
    "    for i in range(n-1):\n",
    "        # Continue generating Fibonacci numbers until the list has n elements\n",
    "        a, b = b, a+b\n",
    "        # Calculate the next Fibonacci number\n",
    "        result.append(b)\n",
    "        # Add the next Fibonacci number to the list\n",
    "    return tuple(result)\n",
    "print(generate_fibonacci(5))"
   ]
  },
  {
   "cell_type": "code",
   "execution_count": 5,
   "id": "348841e8-ac6e-4018-99e9-d96e5bbefd7b",
   "metadata": {},
   "outputs": [
    {
     "name": "stdin",
     "output_type": "stream",
     "text": [
      "Enter elements separated by commas: a,b,c,d,e,f,g,h\n"
     ]
    },
    {
     "name": "stdout",
     "output_type": "stream",
     "text": [
      "('a', 'b', 'c', 'd', 'e', 'f', 'g', 'h')\n"
     ]
    }
   ],
   "source": [
    "# 42.Create a tuple from user input.\n",
    "# Taking user input for creating a tuple\n",
    "user_input = input(\"Enter elements separated by commas:\")\n",
    "# Splitting the input string into a list of strings\n",
    "input_tuple = tuple(user_input.split(','))\n",
    "print(input_tuple)"
   ]
  },
  {
   "cell_type": "code",
   "execution_count": 17,
   "id": "bcaf8a98-9ea5-4fdf-baa2-a9af88c076c1",
   "metadata": {},
   "outputs": [
    {
     "name": "stdout",
     "output_type": "stream",
     "text": [
      "(1, 3, 2, 4)\n"
     ]
    }
   ],
   "source": [
    "# 43.Swap two elements in a tuple.\n",
    "# Create a tuple\n",
    "my_tuple = (1, 2, 3, 4)\n",
    "# convert the tuple to a list\n",
    "tuple_list = list(my_tuple)\n",
    "# swap elements at positions 1 and 2\n",
    "tuple_list[1], tuple_list[2] = tuple_list[2], tuple_list[1]\n",
    "# convert the list back to a tuple\n",
    "my_tuple = tuple(tuple_list)\n",
    "# result after swapping\n",
    "print(my_tuple)"
   ]
  },
  {
   "cell_type": "code",
   "execution_count": 19,
   "id": "c1191080-a6a5-4725-9942-ddcbaa0ea5f4",
   "metadata": {},
   "outputs": [
    {
     "name": "stdout",
     "output_type": "stream",
     "text": [
      "(6, 5, 4, 3, 2, 1)\n"
     ]
    }
   ],
   "source": [
    "# 44.Reverse the elements of a tuple.\n",
    "# create a tuple\n",
    "my_tuple = (1, 2, 3, 4, 5, 6)\n",
    "# Reverse the elements using slicing\n",
    "reversed_tuple = my_tuple[::-1]\n",
    "# result after reversing\n",
    "print(reversed_tuple)"
   ]
  },
  {
   "cell_type": "code",
   "execution_count": 21,
   "id": "b409b443-7acb-4708-927d-aa9692fe126a",
   "metadata": {},
   "outputs": [
    {
     "name": "stdout",
     "output_type": "stream",
     "text": [
      "(1, 2, 4, 8, 16)\n"
     ]
    }
   ],
   "source": [
    "# 45.Create a tuple of the first `n` powers of 2.\n",
    "# define the value of the n\n",
    "n = 5\n",
    "# Create a tuple of the first n powers of 2 using a list comprehension\n",
    "power_of_2_tuple = tuple(2 ** i for i in range(n))\n",
    "# print the tuple of power of 2\n",
    "print(power_of_2_tuple)"
   ]
  },
  {
   "cell_type": "code",
   "execution_count": 2,
   "id": "5215d305-9449-4216-84f6-74d11432da75",
   "metadata": {},
   "outputs": [
    {
     "name": "stdout",
     "output_type": "stream",
     "text": [
      "strawberry\n"
     ]
    }
   ],
   "source": [
    "# 46.Find the longest string in a tuple of strings.\n",
    "# Create a tuple of strings\n",
    "str_tuple = ('apple', 'banana', 'kiwi', 'strawberry')\n",
    "# Find the longest string in the tuple\n",
    "longest_str = max(str_tuple, key=len)\n",
    "# print the longest string\n",
    "print(longest_str)"
   ]
  },
  {
   "cell_type": "code",
   "execution_count": 3,
   "id": "f77dcd67-3dc9-45b6-a66f-c1d66cab1c9a",
   "metadata": {},
   "outputs": [
    {
     "name": "stdout",
     "output_type": "stream",
     "text": [
      "kiwi\n"
     ]
    }
   ],
   "source": [
    "# 47.Find the shortest string in a tuple of strings.\n",
    "# create a tuple of strings\n",
    "str_tuple = ('apple', 'banana', 'kiwi', 'strawberry')\n",
    "# find the shortest string in the tuple\n",
    "shortest_str = min(str_tuple, key=len)\n",
    "#print the shortest string\n",
    "print(shortest_str)"
   ]
  },
  {
   "cell_type": "code",
   "execution_count": 7,
   "id": "229ba381-c80f-4ec4-a932-28b349dc7610",
   "metadata": {},
   "outputs": [
    {
     "name": "stdout",
     "output_type": "stream",
     "text": [
      "(1, 3, 6, 10, 15)\n"
     ]
    }
   ],
   "source": [
    "# 48.Create a tuple of the first `n` triangular numbers.\n",
    "n = 5\n",
    "# Create a tuple of the first n triangular numbers using a list comprehension\n",
    "triangular_numbers = tuple((i * (i + 1)) // 2 for i in range(1, n + 1))\n",
    "# Print the tuple of triangular numbers\n",
    "print(triangular_numbers)"
   ]
  },
  {
   "cell_type": "code",
   "execution_count": 17,
   "id": "2e1f669c-5bf9-4ac0-8a5d-c206dd1a297d",
   "metadata": {},
   "outputs": [
    {
     "name": "stdout",
     "output_type": "stream",
     "text": [
      "The original tuple 1 : (1, 2, 3, 4, 5)\n",
      "The original tuple 2 : (2, 3)\n",
      "Is 2nd tuple subset of 1st ? : True\n"
     ]
    }
   ],
   "source": [
    "# 49.Check if a tuple contains another tuple as a subsequence.\n",
    "# define the main tuple\n",
    "tuple1 = (1, 2, 3, 4, 5)\n",
    "# define the tuple to check as a subsequence\n",
    "tuple2 = (2, 3)\n",
    "# printing original tuples\n",
    "print(\"The original tuple 1 : \" + str(tuple1))\n",
    "print(\"The original tuple 2 : \" + str(tuple2))\n",
    "# Check if one tuple is subset of other\n",
    "# using issubset()\n",
    "res = set(tuple2).issubset(tuple1)\n",
    "# printing result\n",
    "print(\"Is 2nd tuple subset of 1st ? : \" + str(res))"
   ]
  },
  {
   "cell_type": "code",
   "execution_count": 1,
   "id": "bcaa1a1c-218b-40ab-98e8-f33aa0b432c8",
   "metadata": {},
   "outputs": [
    {
     "name": "stdout",
     "output_type": "stream",
     "text": [
      "(0, 1, 0, 1, 0)\n"
     ]
    }
   ],
   "source": [
    "# 50.Create a tuple of alternating 1s and 0s of length `n`.\n",
    "# Define the value of n\n",
    "n = 5\n",
    "# Create a tuple of alternating 1s and 0s using a list comprehension\n",
    "alternating_tuple = tuple(i % 2 for i in range(n))\n",
    "print(alternating_tuple)"
   ]
  },
  {
   "cell_type": "code",
   "execution_count": 2,
   "id": "65a4a13d-2e59-4f70-a66b-f58c60dd89ec",
   "metadata": {},
   "outputs": [
    {
     "name": "stdout",
     "output_type": "stream",
     "text": [
      "{1, 2, 3, 4, 5}\n"
     ]
    }
   ],
   "source": [
    "# 1.Create a set with integers from 1 to 5\n",
    "# Create an empty set\n",
    "my_set = set()\n",
    "# Add integers from 1 to 5 to the set\n",
    "my_set.add(1)\n",
    "my_set.add(2)\n",
    "my_set.add(3)\n",
    "my_set.add(4)\n",
    "my_set.add(5)\n",
    "print(my_set)"
   ]
  },
  {
   "cell_type": "code",
   "execution_count": 6,
   "id": "a36d701c-1ea6-47e3-b0de-e8faaed1b318",
   "metadata": {},
   "outputs": [
    {
     "name": "stdout",
     "output_type": "stream",
     "text": [
      "Original set: {1, 2, 3, 4, 5}\n",
      "After adding element: {1, 2, 3, 4, 5, 6}\n"
     ]
    }
   ],
   "source": [
    "# 2.Add an element to a set\n",
    "# Create a set\n",
    "my_set = {1, 2, 3, 4, 5}\n",
    "# Display the original set\n",
    "print(\"Original set:\", my_set)\n",
    "# Add an element to the set\n",
    "element_to_add = 6\n",
    "my_set.add(element_to_add)\n",
    "# Print the modified set \n",
    "print(\"After adding element:\", my_set)"
   ]
  },
  {
   "cell_type": "code",
   "execution_count": 7,
   "id": "5f9aecad-4e1c-4e4b-b434-5e659b37247b",
   "metadata": {},
   "outputs": [
    {
     "name": "stdout",
     "output_type": "stream",
     "text": [
      "Original Set: {1, 2, 3, 4, 5}\n",
      "After adding element: {1, 3, 4, 5}\n"
     ]
    }
   ],
   "source": [
    "# 3.Remove an element from a set.\n",
    "# create a set\n",
    "my_set = {1, 2, 3, 4, 5}\n",
    "# Print the original set\n",
    "print(\"Original Set:\", my_set)\n",
    "# Choose an element to remove\n",
    "element_to_remove = 2\n",
    "# Use the remove() method to remove the chosen element\n",
    "my_set.remove(element_to_remove)\n",
    "# Print the modified set after removal\n",
    "print(\"After adding element:\", my_set)"
   ]
  },
  {
   "cell_type": "code",
   "execution_count": 9,
   "id": "a83758c6-f782-4dc2-96ea-486a3e79b1f6",
   "metadata": {},
   "outputs": [
    {
     "name": "stdin",
     "output_type": "stream",
     "text": [
      "Enter the element to check:  6\n"
     ]
    },
    {
     "name": "stdout",
     "output_type": "stream",
     "text": [
      "6 does not exist in the set.\n"
     ]
    }
   ],
   "source": [
    "# 4.Check if an element exists in a set.\n",
    "#  Create a set \n",
    "my_set = {1, 2, 3, 4, 5}\n",
    "# Ask the user for the element they want to check\n",
    "element_to_check = int(input(\"Enter the element to check: \"))\n",
    "# Use the \"in\" keyword to check if the element exists in the set\n",
    "if element_to_check in my_set:\n",
    "# If the element exists in the set, print a message\n",
    "     print(f\"{element_to_check} exists in the set.\")\n",
    "else:\n",
    "    print(f\"{element_to_check} does not exist in the set.\")"
   ]
  },
  {
   "cell_type": "code",
   "execution_count": 12,
   "id": "4d9cdbb3-3dcf-40bd-a5e0-c91055f14342",
   "metadata": {},
   "outputs": [
    {
     "name": "stdout",
     "output_type": "stream",
     "text": [
      "Length of a set: 6\n"
     ]
    }
   ],
   "source": [
    "# 5.Find the length of a set without using the `len()` function\n",
    "# Create a set \n",
    "my_set = {1, 2, 3, 4, 5, 6}\n",
    "# Initialize a variable to count the elements in the set\n",
    "count = 0\n",
    "# Iterate through each element in the set\n",
    "for i in my_set:\n",
    "    # Increase the count by 1 for each element\n",
    "    count += 1\n",
    "print(\"Length of a set:\", count)"
   ]
  },
  {
   "cell_type": "code",
   "execution_count": 13,
   "id": "4b3b9314-0e97-4792-89a3-aea2c0308847",
   "metadata": {},
   "outputs": [
    {
     "name": "stdout",
     "output_type": "stream",
     "text": [
      "Original set: {1, 2, 3, 4, 5}\n",
      "After clearing: set()\n"
     ]
    }
   ],
   "source": [
    "# 6.Clear all elements from a set.\n",
    "# create a set\n",
    "my_set = {1, 2, 3, 4, 5}\n",
    "# Display the original set\n",
    "print(\"Original set:\", my_set)\n",
    "# Clear all elements from the set using the clear() method\n",
    "my_set.clear()\n",
    "# Display the result\n",
    "print(\"After clearing:\", my_set)"
   ]
  },
  {
   "cell_type": "code",
   "execution_count": 15,
   "id": "4a74e86e-06f8-4690-b463-e1a8658a0576",
   "metadata": {},
   "outputs": [
    {
     "name": "stdout",
     "output_type": "stream",
     "text": [
      "{2, 4, 6, 8, 10}\n"
     ]
    }
   ],
   "source": [
    "# 7.Create a set of even numbers from 1 to 10\n",
    "# Initialize an empty set\n",
    "even_numbers_set = set()\n",
    "# Iterate through numbers from 1 to 10\n",
    "for num in range(1, 11):\n",
    "    # Check if the number is even\n",
    "    if num % 2 == 0:\n",
    "        # Add the even number to the set\n",
    "        even_numbers_set.add(num)\n",
    "# Print the set of even numbers\n",
    "print(even_numbers_set)"
   ]
  },
  {
   "cell_type": "code",
   "execution_count": 17,
   "id": "69bbe46e-8bd9-4295-a035-7b76da4e004d",
   "metadata": {},
   "outputs": [
    {
     "name": "stdout",
     "output_type": "stream",
     "text": [
      "{1, 3, 5, 7, 9}\n"
     ]
    }
   ],
   "source": [
    "# 8. Create a set of odd numbers from 1 to 10\n",
    "# Initialize an empty set\n",
    "odd_numbers_set = set()\n",
    "# Iterate through numbers from 1 to 10\n",
    "for num in range(1, 11):\n",
    "    # Check if the number is odd\n",
    "    if num % 2 != 0:\n",
    "        # Add the odd number to the set\n",
    "        odd_numbers_set.add(num)\n",
    "# Print the set of odd numbers\n",
    "print(odd_numbers_set)"
   ]
  },
  {
   "cell_type": "code",
   "execution_count": 18,
   "id": "5ef30ff6-542a-44f8-a442-31f4c729b722",
   "metadata": {},
   "outputs": [
    {
     "name": "stdout",
     "output_type": "stream",
     "text": [
      "Set 1: {1, 2, 3, 4, 5}\n",
      "Set 2: {4, 5, 6, 7, 8}\n",
      "Union of Set 1 and Set 2: {1, 2, 3, 4, 5, 6, 7, 8}\n"
     ]
    }
   ],
   "source": [
    "# 9.Find the union of two sets\n",
    "# Define two sets\n",
    "set1 = {1, 2, 3, 4, 5}\n",
    "set2 = {4, 5, 6, 7, 8}\n",
    "# Find the union of the two sets using the `union()` method\n",
    "union_result = set1.union(set2)\n",
    "# Print the original sets and their union\n",
    "print(\"Set 1:\", set1)\n",
    "print(\"Set 2:\", set2)\n",
    "print(\"Union of Set 1 and Set 2:\", union_result)"
   ]
  },
  {
   "cell_type": "code",
   "execution_count": 6,
   "id": "6f130759-311e-498a-89a3-faae3cbe71fe",
   "metadata": {},
   "outputs": [
    {
     "name": "stdout",
     "output_type": "stream",
     "text": [
      "Intersection: {4, 5}\n"
     ]
    }
   ],
   "source": [
    "# 10.Find the intersection of two sets\n",
    "# Define two sets\n",
    "set1 = {1, 2, 3, 4, 5}\n",
    "set2 = {4, 5, 6, 7, 8}\n",
    "# Find the intersection using the intersection() method\n",
    "result = set1.intersection(set2)\n",
    "# Print the original sets and the intersection\n",
    "print(\"Intersection:\", result)"
   ]
  },
  {
   "cell_type": "code",
   "execution_count": 3,
   "id": "f4be8217-00c1-4a22-afee-d2a6c2febf1d",
   "metadata": {},
   "outputs": [
    {
     "name": "stdout",
     "output_type": "stream",
     "text": [
      "Difference: {1, 2, 3}\n"
     ]
    }
   ],
   "source": [
    "# 11.Find the difference between two sets.\n",
    "# Define two sets\n",
    "set1 = {1, 2, 3, 4, 5}\n",
    "set2 = {4, 5, 8, 9, 10}\n",
    "# Find the difference between the sets using the difference() method\n",
    "difference_set = set1.difference(set2)\n",
    "# print the original sets\n",
    "print(\"Difference:\", difference_set)"
   ]
  },
  {
   "cell_type": "code",
   "execution_count": 7,
   "id": "d103c070-d02c-46c6-889a-df840a943175",
   "metadata": {},
   "outputs": [
    {
     "name": "stdout",
     "output_type": "stream",
     "text": [
      "True\n"
     ]
    }
   ],
   "source": [
    "# 12.Check if a set is a subset of another set.\n",
    "# Define two sets\n",
    "set1 = {1, 2, 3, 4, 5}\n",
    "set2 = {4, 5, 1, 2, 3}\n",
    "# Use the \"issubset()\" method to check if set1 is a subset of set2\n",
    "is_subset = set1.issubset(set2)\n",
    "# Print the result\n",
    "print(is_subset)"
   ]
  },
  {
   "cell_type": "code",
   "execution_count": 8,
   "id": "a54ed320-9a2f-480a-92d9-49418c59b925",
   "metadata": {},
   "outputs": [
    {
     "name": "stdout",
     "output_type": "stream",
     "text": [
      "True\n"
     ]
    }
   ],
   "source": [
    "# 13.Check if a set is a superset of another set.\n",
    "# Define two sets\n",
    "set1 = {1, 2, 3, 4, 5}\n",
    "set2 = {4, 5, 1, 2, 3}\n",
    "# Use the \"issuperset()\" method to check if set1 is a subset of set2\n",
    "is_superset = set1.issuperset(set2)\n",
    "# Print the result\n",
    "print(is_superset)"
   ]
  },
  {
   "cell_type": "code",
   "execution_count": 10,
   "id": "1eb52c3d-8343-43e4-b309-86cad7a6ee22",
   "metadata": {},
   "outputs": [
    {
     "name": "stdout",
     "output_type": "stream",
     "text": [
      "Set from List: {1, 2, 3, 4, 5}\n"
     ]
    }
   ],
   "source": [
    "# 14.Create a set from a list.\n",
    "# Create a list of elements\n",
    "my_list = [2, 4, 1, 4, 3, 2, 5]\n",
    "# Use the set() constructor to convert the list into a set\n",
    "my_set = set(my_list)\n",
    "# print the result\n",
    "print(\"Set from List:\", my_set)"
   ]
  },
  {
   "cell_type": "code",
   "execution_count": 11,
   "id": "15da9e69-b7a0-48ed-bcc1-a74c44f214ed",
   "metadata": {},
   "outputs": [
    {
     "name": "stdout",
     "output_type": "stream",
     "text": [
      "[1, 2, 3, 4, 5, 6, 9]\n"
     ]
    }
   ],
   "source": [
    "# 15.Convert a set to a list.\n",
    "# create a set\n",
    "my_set = {3, 1, 4, 1, 5, 9, 2, 6, 5}\n",
    "# Convert the set to a list using the list() function\n",
    "my_list = list(my_set)\n",
    "# print the result\n",
    "print(my_list)"
   ]
  },
  {
   "cell_type": "code",
   "execution_count": 5,
   "id": "0b820f9d-06ac-47cb-9460-276e1837dcc2",
   "metadata": {},
   "outputs": [
    {
     "name": "stdout",
     "output_type": "stream",
     "text": [
      "original set: {1, 2, 3, 4, 5}\n",
      "Updated set : {1, 2, 3, 5}\n"
     ]
    }
   ],
   "source": [
    "# 16.Remove a random element from a set.\n",
    "# Import the random module\n",
    "import random\n",
    "# create a set\n",
    "my_set = {1, 2, 3, 4, 5}\n",
    "# Display the original set\n",
    "print(\"original set:\", my_set)\n",
    "# Choose a random element from the set using the random.choice() function\n",
    "random_element = random.choice(list(my_set))\n",
    "# Remove the chosen random element from the set using the remove() function\n",
    "my_set.remove(random_element)\n",
    "# Display the updated set after removing the random element\n",
    "print(\"Updated set :\",my_set)"
   ]
  },
  {
   "cell_type": "code",
   "execution_count": 7,
   "id": "a9c25be8-440e-492a-8944-e2494709930c",
   "metadata": {},
   "outputs": [
    {
     "name": "stdout",
     "output_type": "stream",
     "text": [
      "original set: {1, 2, 3, 4, 5}\n",
      "Popped element: 1\n",
      "Set after popping: {2, 3, 4, 5}\n"
     ]
    }
   ],
   "source": [
    "# 17.Pop an element from a set.\n",
    "# create a set\n",
    "my_set = {1, 2, 3, 4, 5}\n",
    "# Display the original set\n",
    "print(\"original set:\", my_set)\n",
    "# Pop an element from the set using the pop() method\n",
    "popped_element = my_set.pop()\n",
    "# print the updated set\n",
    "print(\"Popped element:\", popped_element)\n",
    "print(\"Set after popping:\", my_set)"
   ]
  },
  {
   "cell_type": "code",
   "execution_count": 2,
   "id": "899acc42-8528-448c-8304-1c831e2fcd0e",
   "metadata": {},
   "outputs": [
    {
     "name": "stdout",
     "output_type": "stream",
     "text": [
      "The two sets have common elements: {1, 5}\n"
     ]
    }
   ],
   "source": [
    "# 18.Check if two sets have no elements in common.\n",
    "# Define two sets\n",
    "set1 = {1, 2, 3, 4, 5}\n",
    "set2 = {5, 6, 7, 8, 1}\n",
    "# The intersection is the set of elements that are common to both sets\n",
    "common_elements = set1.intersection(set2)\n",
    "if not common_elements:\n",
    "    print(\"The two sets have no elements in common.\")\n",
    "else:\n",
    "    print(\"The two sets have common elements:\", common_elements)"
   ]
  },
  {
   "cell_type": "code",
   "execution_count": 4,
   "id": "2fca3883-a31f-4dab-9a2a-d526570229ff",
   "metadata": {},
   "outputs": [
    {
     "name": "stdout",
     "output_type": "stream",
     "text": [
      "Symmetric Difference: {1, 2, 4, 6, 7, 8}\n"
     ]
    }
   ],
   "source": [
    "# 19.Find the symmetric difference between two sets.\n",
    "# Define two sets\n",
    "set1 = {1, 2, 3, 4, 5}\n",
    "set2 = {5, 6, 7, 8, 3}\n",
    "# Calculate the symmetric difference using the ^ operator\n",
    "symmetric_difference = set1 ^ set2\n",
    "print(\"Symmetric Difference:\", symmetric_difference)"
   ]
  },
  {
   "cell_type": "code",
   "execution_count": 1,
   "id": "51f534ed-89ba-42da-ba45-d9742667addf",
   "metadata": {},
   "outputs": [
    {
     "name": "stdout",
     "output_type": "stream",
     "text": [
      "set1: {1, 2, 3, 4}\n",
      "set2: {8, 5, 6, 7}\n",
      "Updated Set 1: {1, 2, 3, 4, 5, 6, 7, 8}\n"
     ]
    }
   ],
   "source": [
    "# 20.Update a set with elements from another set.\n",
    "# Define two sets\n",
    "set1 = {1, 2, 3, 4}\n",
    "set2 = {5, 6, 7, 8}\n",
    "print(\"set1:\", set1)\n",
    "print(\"set2:\", set2)\n",
    "# Update set1 with elements from set2\n",
    "set1.update(set2)\n",
    "print(\"Updated Set 1:\", set1)"
   ]
  },
  {
   "cell_type": "code",
   "execution_count": 3,
   "id": "b073fc7a-c839-4a71-b2f8-08378032d364",
   "metadata": {},
   "outputs": [
    {
     "name": "stdout",
     "output_type": "stream",
     "text": [
      "{2, 3, 5, 7, 11}\n"
     ]
    }
   ],
   "source": [
    "# 21.Create a set of the first 5 prime numbers.\n",
    "# Function to check if a number is prime\n",
    "def is_prime(num):\n",
    "    if num < 2:\n",
    "        return False\n",
    "    for i in range(2, int(num**0.5) + 1):\n",
    "        if num % i == 0:\n",
    "            return False\n",
    "    return True\n",
    "prime_numbers = set()\n",
    "count = 0\n",
    "num = 2\n",
    "# Loop until we have found the first 5 prime numbers\n",
    "while count < 5:\n",
    "    # Check if the current number is prime using the is_prime function\n",
    "    if is_prime(num):\n",
    "        # If the number is prime, add it to the prime_set\n",
    "        prime_numbers.add(num)\n",
    "        # Move on to the next number for the next iteration\n",
    "        count += 1\n",
    "    num += 1\n",
    "print(prime_numbers)"
   ]
  },
  {
   "cell_type": "code",
   "execution_count": 6,
   "id": "4c199396-7357-43d3-ab5b-ba3b616643ac",
   "metadata": {},
   "outputs": [
    {
     "name": "stdout",
     "output_type": "stream",
     "text": [
      "The sets are identical.\n"
     ]
    }
   ],
   "source": [
    "# 22.Check if two sets are identical.\n",
    "# Define two sets\n",
    "set1 = {1, 2, 3, 4, 5}\n",
    "set2 = {3, 4, 1, 5, 2}\n",
    "# The `==` operator compares the content of the sets.\n",
    "if set1 == set2:\n",
    "    print(\"The sets are identical.\")\n",
    "else:\n",
    "    print(\"The sets are not identical.\")"
   ]
  },
  {
   "cell_type": "code",
   "execution_count": 7,
   "id": "b7ab8c4e-5cab-402f-b486-eeed6e1c03c9",
   "metadata": {},
   "outputs": [
    {
     "name": "stdout",
     "output_type": "stream",
     "text": [
      "Frozen Set: frozenset({1, 2, 3, 4, 5})\n"
     ]
    }
   ],
   "source": [
    "# 23.Create a frozen set\n",
    "#Define a list of elements that you want to include in the frozen set\n",
    "elements = [1, 2, 3, 4, 5]\n",
    "# Create a frozen set using the 'frozenset' constructor and passing the list of elements\n",
    "my_frozen_set = frozenset(elements)\n",
    "# Print the frozen set\n",
    "print(\"Frozen Set:\", my_frozen_set)"
   ]
  },
  {
   "cell_type": "code",
   "execution_count": 10,
   "id": "c07dfee4-b04b-4cd6-af71-ff97a5bc4c7c",
   "metadata": {},
   "outputs": [
    {
     "name": "stdout",
     "output_type": "stream",
     "text": [
      "Are the sets disjoint? True\n"
     ]
    }
   ],
   "source": [
    "# 24. Check if a set is disjoint with another set.\n",
    "# Define two sets\n",
    "set1 = {1, 2, 3, 4, 5}\n",
    "set2 = {6, 7, 8, 9}\n",
    "# Use the `isdisjoint()` method to check if the sets are disjoint\n",
    "disjoint_status = set1.isdisjoint(set2)\n",
    "# print the result\n",
    "print(\"Are the sets disjoint?\", disjoint_status)"
   ]
  },
  {
   "cell_type": "code",
   "execution_count": 11,
   "id": "50a2dc1c-914a-4307-a7e2-a0e4c82a3b01",
   "metadata": {},
   "outputs": [
    {
     "name": "stdout",
     "output_type": "stream",
     "text": [
      "{1, 4, 9, 16, 25}\n"
     ]
    }
   ],
   "source": [
    "# 25.Create a set of squares of numbers from 1 to 5.\n",
    "# Create an empty set to store the squares of numbers\n",
    "squares_set = set()\n",
    "# Use a loop to iterate through numbers from 1 to 5\n",
    "for num in range(1, 6):\n",
    "    # Calculate the square of the current number\n",
    "    square = num ** 2\n",
    "    # Add the square to the set\n",
    "    squares_set.add(square)\n",
    "# Print the set of squares\n",
    "print(squares_set)"
   ]
  },
  {
   "cell_type": "code",
   "execution_count": 4,
   "id": "e337f0c6-cd9e-4134-b3fd-06e3d52d3c9b",
   "metadata": {},
   "outputs": [
    {
     "name": "stdout",
     "output_type": "stream",
     "text": [
      "Original Set: {1, 2, 3, 4, 5}\n",
      "Even Numbers Set: {2, 4}\n"
     ]
    }
   ],
   "source": [
    "# 26.Filter out all even numbers from a set.\n",
    "# create a set\n",
    "my_set = {1, 2, 3, 4, 5}\n",
    "# Initialize an empty set to store the filtered even numbers\n",
    "even_numbers_set = set()\n",
    "# Iterate through each element in the original set\n",
    "for num in my_set:\n",
    "# Check if the current number is even (divisible by 2)\n",
    "  if num % 2 == 0:\n",
    "   # If even, add it to the even_numbers_set\n",
    "    even_numbers_set.add(num)\n",
    "print(\"Original Set:\", my_set)\n",
    "print(\"Even Numbers Set:\", even_numbers_set)"
   ]
  },
  {
   "cell_type": "code",
   "execution_count": 8,
   "id": "91d3aadf-3244-4cfb-ac87-5c4edc3049bd",
   "metadata": {},
   "outputs": [
    {
     "name": "stdout",
     "output_type": "stream",
     "text": [
      "Original Set: {1, 2, 3, 4, 5}\n",
      "Multiplied Set: {2, 4, 6, 8, 10}\n"
     ]
    }
   ],
   "source": [
    "# 27.Multiply all elements in a set by 2.\n",
    "# create a set\n",
    "my_set = {1, 2, 3, 4, 5}\n",
    "# Initialize an empty set to store the multiplied elements\n",
    "multiplied_set = set()\n",
    "for num in my_set:\n",
    "    # Multiply the current element by 2\n",
    "    multiplied_num = num * 2\n",
    "    # Add the multiplied element to the multiplied_set\n",
    "    multiplied_set.add(multiplied_num)\n",
    "print(\"Original Set:\", my_set)\n",
    "print(\"Multiplied Set:\", multiplied_set)"
   ]
  },
  {
   "cell_type": "code",
   "execution_count": 11,
   "id": "475cc963-0806-43e3-aee8-bfd3663d9985",
   "metadata": {},
   "outputs": [
    {
     "name": "stdout",
     "output_type": "stream",
     "text": [
      "Generated set of random numbers: {2, 41, 19, 26, 30}\n"
     ]
    }
   ],
   "source": [
    "# 28.Create a set of random numbers.\n",
    "import random\n",
    "# Define the number of random numbers you want in the set\n",
    "num_random_numbers = 5\n",
    "# Initialize an empty set to store the random numbers\n",
    "random_number_set = set()\n",
    "# Use a loop to generate random numbers and add them to the set\n",
    "for _ in range(num_random_numbers):\n",
    "    random_num = random.randint(1, 50)\n",
    "    # Add the random number to the set\n",
    "    random_number_set.add(random_num)\n",
    "print(\"Generated set of random numbers:\", random_number_set)"
   ]
  },
  {
   "cell_type": "code",
   "execution_count": 18,
   "id": "66f7b091-965d-47e5-a525-9851dd4578f6",
   "metadata": {},
   "outputs": [
    {
     "name": "stdout",
     "output_type": "stream",
     "text": [
      "The set is empty.\n"
     ]
    }
   ],
   "source": [
    "# 29.Check if a set is empty.\n",
    "# create a set\n",
    "my_set = set()\n",
    "# Check if the set is empty using the 'if' statement\n",
    "if not my_set:\n",
    "    print(\"The set is empty.\")\n",
    "else:\n",
    "    print(\"The set is not empty.\")"
   ]
  },
  {
   "cell_type": "code",
   "execution_count": 2,
   "id": "8d5421d2-b74e-4856-bf58-a86733e49f73",
   "metadata": {},
   "outputs": [
    {
     "name": "stdout",
     "output_type": "stream",
     "text": [
      "Nested Set: {frozenset({1, 2, 3, 4, 5}), frozenset({6, 7, 8, 9, 10})}\n"
     ]
    }
   ],
   "source": [
    "# 30.Create a nested set \n",
    "# Define two sets\n",
    "set1 = {1, 2, 3, 4, 5}\n",
    "set2 = {6, 7, 8, 9, 10}\n",
    "# Create frozensets from the inner sets\n",
    "frozen_set1 = frozenset(set1)\n",
    "frozen_set2 = frozenset(set2)\n",
    "# Create the nested set using the frozensets\n",
    "nested_set = {frozen_set1, frozen_set2}\n",
    "print(\"Nested Set:\", nested_set)"
   ]
  },
  {
   "cell_type": "code",
   "execution_count": 6,
   "id": "546202ed-3782-4c2f-82f8-922ea7773722",
   "metadata": {},
   "outputs": [
    {
     "name": "stdout",
     "output_type": "stream",
     "text": [
      "Initial set: {1, 2, 3, 4, 5}\n",
      "Set after removing 2 {1, 3, 4, 5}\n"
     ]
    }
   ],
   "source": [
    "# 31.Remove an element from a set using the discard method.\n",
    "# create a set\n",
    "my_set = {1, 2, 3, 4, 5}\n",
    "# Display the initial set\n",
    "print(\"Initial set:\", my_set)\n",
    "# Define the element to be removed\n",
    "element_to_remove = 2\n",
    "# Use the discard() method to remove the element from the set\n",
    "my_set.discard(element_to_remove)\n",
    "print(\"Set after removing\", element_to_remove, my_set)"
   ]
  },
  {
   "cell_type": "code",
   "execution_count": 11,
   "id": "9fd31bd4-92c2-4644-b567-e65d9d1a27b0",
   "metadata": {},
   "outputs": [
    {
     "name": "stdout",
     "output_type": "stream",
     "text": [
      "Is set1 a subset of set2? False\n"
     ]
    }
   ],
   "source": [
    "# 32.Compare two sets.\n",
    "# Define two sets\n",
    "set1 = {1, 2, 3, 4, 5}\n",
    "set2 = {3, 7, 1, 6, 5}\n",
    "# Check if set1 is a subset of set2\n",
    "is_subset = set1.issubset(set2)\n",
    "# print the result\n",
    "print(\"Is set1 a subset of set2?\", is_subset)"
   ]
  },
  {
   "cell_type": "code",
   "execution_count": 12,
   "id": "7b87b782-ed10-4482-9ef1-7bd409a25f3d",
   "metadata": {},
   "outputs": [
    {
     "name": "stdin",
     "output_type": "stream",
     "text": [
      "Enter a string: Hello\n"
     ]
    },
    {
     "name": "stdout",
     "output_type": "stream",
     "text": [
      "{'o', 'e', 'l', 'H'}\n"
     ]
    }
   ],
   "source": [
    "# 33.Create a set from a string.\n",
    "# Define the input string\n",
    "my_str = input(\"Enter a string:\")\n",
    "# Use the set() constructor to create a set from the characters in the string\n",
    "char_set = set(my_str)\n",
    "# Print the result\n",
    "print(char_set)"
   ]
  },
  {
   "cell_type": "code",
   "execution_count": 15,
   "id": "d6792ff5-6bfa-444c-9beb-075fa17ab7fb",
   "metadata": {},
   "outputs": [
    {
     "name": "stdout",
     "output_type": "stream",
     "text": [
      "Original String Set: {'12', '46', '89'}\n",
      "Converted Integer Set: {89, 12, 46}\n"
     ]
    }
   ],
   "source": [
    "# 34.Convert a set of strings to a set of integers.\n",
    "# create a set of integers\n",
    "string_set = {\"12\", \"46\", \"89\"}\n",
    "# Initialize an empty set to store integers\n",
    "integer_set = set()\n",
    "# Iterate through each string in the string set\n",
    "for string in string_set:\n",
    "    # Convert the string to an integer using the int() function\n",
    "    integer_value = int(string)\n",
    "    # Add the integer to the integer set\n",
    "    integer_set.add(integer_value)\n",
    "print(\"Original String Set:\", string_set)\n",
    "print(\"Converted Integer Set:\", integer_set)"
   ]
  },
  {
   "cell_type": "code",
   "execution_count": 1,
   "id": "a739c085-52d2-45fc-bada-1f72108f1606",
   "metadata": {},
   "outputs": [
    {
     "name": "stdout",
     "output_type": "stream",
     "text": [
      "Original integers_set: {1, 2, 3, 4, 5}\n",
      "Converted strings_set: {'3', '2', '5', '1', '4'}\n"
     ]
    }
   ],
   "source": [
    "# 35.Convert a set of integers to a set of strings.\n",
    "# Create a set of integers\n",
    "integers_set = {1, 2, 3, 4, 5}\n",
    "# Initialize an empty set to store the strings\n",
    "strings_set = set()\n",
    "# Iterate through each integer in the integers_set\n",
    "for num in integers_set:\n",
    "    #  Convert the integer to a string using the str() function\n",
    "    num_str = str(num)\n",
    "    # Add the string representation to the strings_set\n",
    "    strings_set.add(num_str)\n",
    "print(\"Original integers_set:\", integers_set)\n",
    "print(\"Converted strings_set:\", strings_set)"
   ]
  },
  {
   "cell_type": "code",
   "execution_count": 2,
   "id": "e18058a8-b88d-419e-b529-3cfd526d6cd8",
   "metadata": {},
   "outputs": [
    {
     "name": "stdout",
     "output_type": "stream",
     "text": [
      "{1, 2, 3, 4, 5}\n"
     ]
    }
   ],
   "source": [
    "# 36.Create a set from a tuple.\n",
    "my_set = (1, 2, 3, 2, 4, 5, 1)\n",
    "# Convert the tuple to a set\n",
    "output_set = set(my_set)\n",
    "# print the result\n",
    "print(output_set)"
   ]
  },
  {
   "cell_type": "code",
   "execution_count": 4,
   "id": "b80ab943-5252-486d-9511-6d800e01612f",
   "metadata": {},
   "outputs": [
    {
     "name": "stdout",
     "output_type": "stream",
     "text": [
      "(1, 2, 3, 4, 5)\n"
     ]
    }
   ],
   "source": [
    "# 37.Convert a set to a tuple.\n",
    "my_set = {1, 2, 3, 4, 5}\n",
    "# Convert the set to a tuple\n",
    "output_tuple = tuple(my_set)\n",
    "# print the result\n",
    "print(output_tuple)"
   ]
  },
  {
   "cell_type": "code",
   "execution_count": 5,
   "id": "a7e60f57-ed51-4a0e-a6d3-e214a74c1e38",
   "metadata": {},
   "outputs": [
    {
     "name": "stdout",
     "output_type": "stream",
     "text": [
      "Maximum value: 22\n"
     ]
    }
   ],
   "source": [
    "# 38.Find the maximum value in a set.\n",
    "# create a set\n",
    "my_set = {15, 7, 22, 13, 8}\n",
    "# Initialize a variable to store the maximum value\n",
    "max_value = None\n",
    "# Iterate through each element in the set\n",
    "for num in my_set:\n",
    "    if max_value is None or num > max_value:\n",
    "        max_value = num\n",
    "# print the result\n",
    "print(\"Maximum value:\", max_value)"
   ]
  },
  {
   "cell_type": "code",
   "execution_count": 1,
   "id": "568b1587-d941-4c9e-b9e2-99a64c747248",
   "metadata": {},
   "outputs": [
    {
     "name": "stdout",
     "output_type": "stream",
     "text": [
      "Minimum value: 2\n"
     ]
    }
   ],
   "source": [
    "# 39.Find the minimum value in a set.\n",
    "my_set = {15, 12, 9, 4, 23, 2}\n",
    "# Initialize a variable to store the minimum value\n",
    "min_value = None\n",
    "# Iterate through each element in the set\n",
    "for num in my_set:\n",
    "    if min_value is None or num < min_value:\n",
    "        min_value = num\n",
    "# print the result\n",
    "print(\"Minimum value:\", min_value)"
   ]
  },
  {
   "cell_type": "code",
   "execution_count": 5,
   "id": "f03fe344-4894-4412-836d-dacc8fcb0a4d",
   "metadata": {},
   "outputs": [
    {
     "name": "stdout",
     "output_type": "stream",
     "text": [
      "Enter elements for the set (type 'done' to finish):\n"
     ]
    },
    {
     "name": "stdin",
     "output_type": "stream",
     "text": [
      " >  ineuron\n",
      " >  pw\n",
      " >  skill\n",
      " >  done\n"
     ]
    },
    {
     "name": "stdout",
     "output_type": "stream",
     "text": [
      "Final set: {'skill', 'pw', 'ineuron'}\n"
     ]
    }
   ],
   "source": [
    "# 40.Create a set from user input.\n",
    "# Initialize an empty set\n",
    "user_set = set()\n",
    "print(\"Enter elements for the set (type 'done' to finish):\")\n",
    "while True:\n",
    "    # Get input from the user\n",
    "    user_input = input(\" > \")\n",
    "    if user_input.lower() == 'done':\n",
    "        break\n",
    "    # Add the user input to the set\n",
    "    user_set.add(user_input)\n",
    "# Display the final result\n",
    "print(\"Final set:\", user_set)"
   ]
  },
  {
   "cell_type": "code",
   "execution_count": 8,
   "id": "e2d0c4a4-db06-4d94-b57f-5c31dd42062b",
   "metadata": {},
   "outputs": [
    {
     "name": "stdout",
     "output_type": "stream",
     "text": [
      "The intersection of the two sets is empty.\n"
     ]
    }
   ],
   "source": [
    "# 41.Check if the intersection of two sets is empty.\n",
    "# Define two sets\n",
    "set1 = {1, 2, 3, 4, 5}\n",
    "set2 = {6, 7, 8, 9, 10}\n",
    "# using the `intersection()` method\n",
    "intersection_result = set1.intersection(set2)\n",
    "if not intersection_result:\n",
    "        print(\"The intersection of the two sets is empty.\")\n",
    "else:\n",
    "        print(\"The intersection of the two sets is not empty.\")"
   ]
  },
  {
   "cell_type": "code",
   "execution_count": 1,
   "id": "b792e8d6-0137-4ade-820d-a9139d82c8e7",
   "metadata": {},
   "outputs": [
    {
     "name": "stdout",
     "output_type": "stream",
     "text": [
      "Set of the first 5 Fibonacci numbers: {0, 1, 2, 3, 5}\n"
     ]
    }
   ],
   "source": [
    "# 42.Create a set of the first 5 Fibonacci numbers.\n",
    "# Create a set to store the first 5 Fibonacci numbers\n",
    "fibonacci_set = set()\n",
    "# Initialize the first two Fibonacci numbers\n",
    "a, b = 0, 1\n",
    "# Loop to generate the first 5 Fibonacci numbers\n",
    "for _ in range(6):\n",
    "    # Add the current Fibonacci number to the set\n",
    "    fibonacci_set.add(a)\n",
    "    # Calculate the next Fibonacci number\n",
    "    a, b = b, a + b\n",
    "# Print the set of Fibonacci numbers\n",
    "print(\"Set of the first 5 Fibonacci numbers:\", fibonacci_set)"
   ]
  },
  {
   "cell_type": "code",
   "execution_count": 2,
   "id": "4c68ff9b-d26a-4b3d-b281-17a904247ef6",
   "metadata": {},
   "outputs": [
    {
     "name": "stdout",
     "output_type": "stream",
     "text": [
      "Original List: [4, 1, 2, 3, 4, 5, 2, 7, 6, 5, 1]\n",
      "List with Duplicates Removed: [1, 2, 3, 4, 5, 6, 7]\n"
     ]
    }
   ],
   "source": [
    "# 43.Remove duplicates from a list using sets.\n",
    "# Define a list\n",
    "my_list = [4, 1, 2, 3, 4, 5, 2, 7, 6, 5, 1]\n",
    "# Convert the list to a set\n",
    "unique_set = set(my_list)\n",
    "#  Convert the set back to a list\n",
    "unique_list = list(unique_set)\n",
    "# Print the original list and the list with duplicates removed\n",
    "print(\"Original List:\", my_list)\n",
    "print(\"List with Duplicates Removed:\", unique_list)"
   ]
  },
  {
   "cell_type": "code",
   "execution_count": 10,
   "id": "d4e189bd-ba94-4af4-937d-65ad61492544",
   "metadata": {},
   "outputs": [
    {
     "name": "stdout",
     "output_type": "stream",
     "text": [
      "The sets have the same elements.\n"
     ]
    }
   ],
   "source": [
    "# 44.Check if two sets have the same elements, regardless of their count.\n",
    "def have_same_elements(set1, set2):\n",
    "# Convert the sets to lists and sort them   \n",
    "    sorted_list1 = sorted(list(set1))\n",
    "    sorted_list2 = sorted(list(set2))\n",
    "# Compare the sorted lists to check if they are equal\n",
    "    return sorted_list1 == sorted_list2\n",
    "# define sets\n",
    "set1 = {1, 2, 3, 3, 4, 5}\n",
    "set2 = {5, 4, 3, 2, 1}\n",
    "# Check if the sets have the same elements\n",
    "result = have_same_elements(set1, set2)\n",
    "if result:\n",
    "    print(\"The sets have the same elements.\")\n",
    "else:\n",
    "     print(\"The sets do not have the same elements.\")"
   ]
  },
  {
   "cell_type": "code",
   "execution_count": 8,
   "id": "79ed18ac-b1fa-4afc-b505-b8828e9b6879",
   "metadata": {},
   "outputs": [
    {
     "name": "stdout",
     "output_type": "stream",
     "text": [
      "{1, 2, 4, 8, 16}\n"
     ]
    }
   ],
   "source": [
    "# 45.Create a set of the first `n` powers of 2\n",
    "def powers_of_2(n):\n",
    "    # Calculate the current power of 2 using the exponentiation operator **\n",
    "    return {2 ** x for x in range (n)}\n",
    "# Define the value of n\n",
    "n = 5\n",
    "result = powers_of_2(n)\n",
    "# Print the resulting set\n",
    "print(result)"
   ]
  },
  {
   "cell_type": "code",
   "execution_count": 9,
   "id": "43d288bd-f4b3-42d0-b78a-657cb90bec9d",
   "metadata": {},
   "outputs": [
    {
     "name": "stdout",
     "output_type": "stream",
     "text": [
      "Common Elements: [4]\n"
     ]
    }
   ],
   "source": [
    "# 46. Find the common elements between a set and a list.\n",
    "# Define a set and list\n",
    "my_set = {1, 2, 3, 4}\n",
    "my_list = [4, 5, 6, 7]\n",
    "# Convert the list to a set for efficient comparison\n",
    "list_to_set = set(my_list)\n",
    "# Initialize an empty list to store common elements\n",
    "common_elements = []\n",
    "# Iterate through the elements in the set\n",
    "for element in my_set:\n",
    "    if element in list_to_set:\n",
    "        common_elements.append(element)\n",
    "# Print the common elements\n",
    "print(\"Common Elements:\", common_elements)"
   ]
  },
  {
   "cell_type": "code",
   "execution_count": 3,
   "id": "23a5063d-03ef-41bf-8400-d87077fc8cec",
   "metadata": {},
   "outputs": [
    {
     "name": "stdout",
     "output_type": "stream",
     "text": [
      "{1, 3, 36, 6, 10, 45, 15, 21, 55, 28}\n"
     ]
    }
   ],
   "source": [
    "# 47.Create a set of the first `n` triangular numbers.\n",
    "def triangular_numbers(n):\n",
    "    triangular_nums = set()\n",
    "    # Create an empty set to store the triangular numbers\n",
    "    for i in range(1, n + 1):\n",
    "        triangular_num = i * (i + 1) // 2\n",
    "        # Calculate the ith triangular number using the formula\n",
    "        triangular_nums.add(triangular_num)\n",
    "        # Add the calculated triangular number to the set\n",
    "    return triangular_nums\n",
    "# Define the value of 'n'\n",
    "n = 10\n",
    "# Display the set of triangular numbers\n",
    "print(triangular_numbers(n))"
   ]
  },
  {
   "cell_type": "code",
   "execution_count": 4,
   "id": "569183b5-cbe3-4723-b65c-54e4cf12b93f",
   "metadata": {},
   "outputs": [
    {
     "name": "stdout",
     "output_type": "stream",
     "text": [
      "set2 is a subset of set1\n"
     ]
    }
   ],
   "source": [
    "# 48. Check if a set contains another set as a subset.\n",
    "# Define two sets\n",
    "set1 = {1, 2, 3, 4, 5}\n",
    "set2 = {3, 4}\n",
    "# Check if set2 is a subset of set1\n",
    "is_subset = set2.issubset(set1)\n",
    "# Print the result\n",
    "if is_subset:\n",
    "    print(\"set2 is a subset of set1\")\n",
    "else:\n",
    "    print(\"set2 is not a subset of set1\")"
   ]
  },
  {
   "cell_type": "code",
   "execution_count": 6,
   "id": "a5868595-49cf-4ffa-a5a6-c0312aefd30f",
   "metadata": {},
   "outputs": [
    {
     "name": "stdout",
     "output_type": "stream",
     "text": [
      "{0, 1}\n"
     ]
    }
   ],
   "source": [
    "# 49. Create a set of alternating 1s and 0s of length `n`.\n",
    "def create_alternating_set(n):\n",
    "    # Initialize an empty set to store the alternating sequence.\n",
    "    alternating_set = set()\n",
    "    # Loop to generate alternating 1s and 0s\n",
    "    for i in range(n):\n",
    "        # Alternate between adding 1 and 0 to the set based on whether i is even or odd.\n",
    "        if i % 2 == 0:\n",
    "            alternating_set.add(1)\n",
    "            # Add 1 if i is even.\n",
    "        else:\n",
    "            alternating_set.add(0)\n",
    "            # Add 0 if i is odd.\n",
    "    return alternating_set\n",
    "# Define the desired length of the alternating set.\n",
    "length_n = 10\n",
    "# Call the function to create the alternating set of length 'length_n'\n",
    "result = create_alternating_set(length_n)\n",
    "# Print the resulting set.\n",
    "print(result)"
   ]
  },
  {
   "cell_type": "code",
   "execution_count": 50,
   "id": "e94610dd-8db9-4dd4-9d17-d8ea8a6b474a",
   "metadata": {},
   "outputs": [
    {
     "name": "stdout",
     "output_type": "stream",
     "text": [
      "Merged Set: {1, 2, 3, 4, 5, 6, 7}\n"
     ]
    }
   ],
   "source": [
    "# 50.Merge multiple sets into one.\n",
    "# Create multiple sets\n",
    "set1 = {1, 2, 3}\n",
    "set2 = {3, 4, 5}\n",
    "set3 = {5, 6, 7}\n",
    "# Use the union() method to merge sets\n",
    "merged_set = set1.union(set2, set3)\n",
    "# merged_set = set1 | set2 | set3\n",
    "# Print the merged set\n",
    "print(\"Merged Set:\", merged_set)"
   ]
  },
  {
   "cell_type": "code",
   "execution_count": null,
   "id": "e27a38ad-ac6f-41ad-b38a-ad14bbe37821",
   "metadata": {},
   "outputs": [],
   "source": []
  }
 ],
 "metadata": {
  "kernelspec": {
   "display_name": "Python 3 (ipykernel)",
   "language": "python",
   "name": "python3"
  },
  "language_info": {
   "codemirror_mode": {
    "name": "ipython",
    "version": 3
   },
   "file_extension": ".py",
   "mimetype": "text/x-python",
   "name": "python",
   "nbconvert_exporter": "python",
   "pygments_lexer": "ipython3",
   "version": "3.10.8"
  }
 },
 "nbformat": 4,
 "nbformat_minor": 5
}
